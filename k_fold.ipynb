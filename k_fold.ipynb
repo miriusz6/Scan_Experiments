{
 "cells": [
  {
   "cell_type": "markdown",
   "metadata": {},
   "source": [
    "# K-Fold parameter search\n",
    "##### 3-fold training of a single experiment setting from each group (E1, E2, E3)\n",
    "##### The aim is to search for an optimal number of epoches for the rest of experiment settings"
   ]
  },
  {
   "cell_type": "code",
   "execution_count": 1,
   "metadata": {},
   "outputs": [
    {
     "name": "stdout",
     "output_type": "stream",
     "text": [
      "(4, 64)\n"
     ]
    }
   ],
   "source": [
    "from experiments.experiment_type import ExperimentType\n",
    "from experiments.experiment_config import E1_Config,E2_Config,E3_Config\n",
    "from experiments.experiment import Experiment"
   ]
  },
  {
   "cell_type": "code",
   "execution_count": null,
   "metadata": {},
   "outputs": [],
   "source": [
    "conf =  E1_Config()\n",
    "conf.train_model = True\n",
    "conf.evaluation_interval = 5\n",
    "conf.use_tensorboard = True\n",
    "conf.experiment_name = \"E1_1_3fold_rep_0\"\n",
    "conf.epochs = 100\n",
    "conf.k_fold = 3\n",
    "conf.use_tensorboard = True\n",
    "conf.detailed_logging = False\n",
    "conf"
   ]
  },
  {
   "cell_type": "code",
   "execution_count": null,
   "metadata": {},
   "outputs": [],
   "source": [
    "# rep 1:\n",
    "conf.experiment_name = \"E1_1_3fold_rep_0\"\n",
    "Exp = Experiment(ExperimentType.E_1_1, config=conf)\n",
    "Exp.run()\n",
    "Exp.save_results(overwrite=True)\n",
    "\n",
    "# rep 2:\n",
    "conf.experiment_name = \"E1_1_3fold_rep_1\"\n",
    "Exp = Experiment(ExperimentType.E_1_1, config=conf)\n",
    "Exp.run()\n",
    "Exp.save_results(overwrite=True)\n",
    "\n",
    "# rep 3:\n",
    "conf.experiment_name = \"E1_1_3fold_rep_2\"\n",
    "Exp = Experiment(ExperimentType.E_1_1, config=conf)\n",
    "Exp.run()\n",
    "Exp.save_results(overwrite=True)"
   ]
  },
  {
   "cell_type": "markdown",
   "metadata": {},
   "source": [
    "Experment E2 (length split)"
   ]
  },
  {
   "cell_type": "code",
   "execution_count": null,
   "metadata": {},
   "outputs": [
    {
     "name": "stdout",
     "output_type": "stream",
     "text": [
      "(4, 64)\n"
     ]
    },
    {
     "data": {
      "text/plain": [
       "experiment_name: E2_3fold_rep_1\n",
       "emb_dim: 128\n",
       "num_layers: 2\n",
       "num_heads: 8\n",
       "forward_dim: 256\n",
       "dropout: 0.15\n",
       "learning_rate: 0.0002\n",
       "batch_size: 16\n",
       "batch_size_eval: 500\n",
       "grad_clip: 1\n",
       "optimizer: AdamW\n",
       "epochs: 80\n",
       "model_save_path: saved_data/models/\n",
       "tensorboard_log_path: saved_data/tensorboard_runs/\n",
       "results_dict_path: saved_data/eval_results/\n",
       "model_weights_path: None\n",
       "device: cuda\n",
       "train_model: True\n",
       "use_tensorboard: True\n",
       "evaluation_interval: 5\n",
       "k_fold: 3\n",
       "detailed_logging: False"
      ]
     },
     "execution_count": 1,
     "metadata": {},
     "output_type": "execute_result"
    }
   ],
   "source": [
    "conf =  E2_Config()\n",
    "conf.train_model = True\n",
    "conf.evaluation_interval = 5\n",
    "conf.use_tensorboard = True\n",
    "conf.experiment_name = \"E2_3fold_rep_1\"\n",
    "conf.epochs = 80\n",
    "conf.k_fold = 3\n",
    "conf.use_tensorboard = True\n",
    "conf.detailed_logging = False\n",
    "conf"
   ]
  },
  {
   "cell_type": "code",
   "execution_count": 2,
   "metadata": {},
   "outputs": [
    {
     "name": "stdout",
     "output_type": "stream",
     "text": [
      "The following file will be overwritten: saved_data/tensorboard_runs/E2_3fold_rep_1\n",
      "--------------------------------------------------\n"
     ]
    },
    {
     "name": "stderr",
     "output_type": "stream",
     "text": [
      "EPOCH_fold_1/3:  99%|█████████▉| 79/80 [16:56<00:12, 12.76s/it]"
     ]
    },
    {
     "name": "stdout",
     "output_type": "stream",
     "text": [
      "Epoch 80/80 Batch 56640/56640 Trining Loss: 2.368870755948592\n"
     ]
    },
    {
     "name": "stderr",
     "output_type": "stream",
     "text": [
      "EPOCH_fold_1/3: 100%|██████████| 80/80 [17:10<00:00, 12.88s/it]"
     ]
    },
    {
     "name": "stdout",
     "output_type": "stream",
     "text": [
      "Experiment: E2_3fold_rep_1_fold_1/3_epoch_80 Results, Type: E_2\n",
      "(ORG)E2_3fold_rep_1_fold_1/3_epoch_80 E_2 ACC  TL  Avrg  ORACLE  : 0.8349126577377319\n",
      "(ORG)E2_3fold_rep_1_fold_1/3_epoch_80 E_2 ACC  TL  Avrg  NO_ORACLE  : 0.9548185467720032\n",
      "(ORG)E2_3fold_rep_1_fold_1/3_epoch_80 E_2 ERR  TL  Avrg  ORACLE  : 0.16508732736110687\n",
      "(ORG)E2_3fold_rep_1_fold_1/3_epoch_80 E_2 ERR  TL  Avrg  NO_ORACLE  : 0.04518146812915802\n",
      "(ORG)E2_3fold_rep_1_fold_1/3_epoch_80 E_2 ACC  SL  Avrg  ORACLE  : 0.1995408684015274\n",
      "(ORG)E2_3fold_rep_1_fold_1/3_epoch_80 E_2 ACC  SL  Avrg  NO_ORACLE  : 0.8689740300178528\n",
      "(ORG)E2_3fold_rep_1_fold_1/3_epoch_80 E_2 ERR  SL  Avrg  ORACLE  : 0.800459086894989\n",
      "(ORG)E2_3fold_rep_1_fold_1/3_epoch_80 E_2 ERR  SL  Avrg  NO_ORACLE  : 0.13102595508098602\n"
     ]
    },
    {
     "name": "stderr",
     "output_type": "stream",
     "text": [
      "\n",
      "EPOCH_fold_2/3:  99%|█████████▉| 79/80 [17:02<00:12, 12.50s/it]"
     ]
    },
    {
     "name": "stdout",
     "output_type": "stream",
     "text": [
      "Epoch 80/80 Batch 56640/56640 Trining Loss: 3.269451237312751\n"
     ]
    },
    {
     "name": "stderr",
     "output_type": "stream",
     "text": [
      "EPOCH_fold_2/3: 100%|██████████| 80/80 [17:17<00:00, 12.97s/it]"
     ]
    },
    {
     "name": "stdout",
     "output_type": "stream",
     "text": [
      "Experiment: E2_3fold_rep_1_fold_2/3_epoch_80 Results, Type: E_2\n",
      "(ORG)E2_3fold_rep_1_fold_2/3_epoch_80 E_2 ACC  TL  Avrg  ORACLE  : 0.903374969959259\n",
      "(ORG)E2_3fold_rep_1_fold_2/3_epoch_80 E_2 ACC  TL  Avrg  NO_ORACLE  : 0.9441574811935425\n",
      "(ORG)E2_3fold_rep_1_fold_2/3_epoch_80 E_2 ERR  TL  Avrg  ORACLE  : 0.09662501513957977\n",
      "(ORG)E2_3fold_rep_1_fold_2/3_epoch_80 E_2 ERR  TL  Avrg  NO_ORACLE  : 0.05584252253174782\n",
      "(ORG)E2_3fold_rep_1_fold_2/3_epoch_80 E_2 ACC  SL  Avrg  ORACLE  : 0.10065335780382156\n",
      "(ORG)E2_3fold_rep_1_fold_2/3_epoch_80 E_2 ACC  SL  Avrg  NO_ORACLE  : 0.7662016153335571\n",
      "(ORG)E2_3fold_rep_1_fold_2/3_epoch_80 E_2 ERR  SL  Avrg  ORACLE  : 0.8993465900421143\n",
      "(ORG)E2_3fold_rep_1_fold_2/3_epoch_80 E_2 ERR  SL  Avrg  NO_ORACLE  : 0.2337983250617981\n"
     ]
    },
    {
     "name": "stderr",
     "output_type": "stream",
     "text": [
      "\n",
      "EPOCH_fold_3/3:  99%|█████████▉| 79/80 [17:54<00:12, 12.94s/it]"
     ]
    },
    {
     "name": "stdout",
     "output_type": "stream",
     "text": [
      "Epoch 80/80 Batch 56640/56640 Trining Loss: 2.9430171387575683\n"
     ]
    },
    {
     "name": "stderr",
     "output_type": "stream",
     "text": [
      "EPOCH_fold_3/3: 100%|██████████| 80/80 [18:10<00:00, 13.63s/it]"
     ]
    },
    {
     "name": "stdout",
     "output_type": "stream",
     "text": [
      "Experiment: E2_3fold_rep_1_fold_3/3_epoch_80 Results, Type: E_2\n",
      "(ORG)E2_3fold_rep_1_fold_3/3_epoch_80 E_2 ACC  TL  Avrg  ORACLE  : 0.7863371968269348\n",
      "(ORG)E2_3fold_rep_1_fold_3/3_epoch_80 E_2 ACC  TL  Avrg  NO_ORACLE  : 0.6614997386932373\n",
      "(ORG)E2_3fold_rep_1_fold_3/3_epoch_80 E_2 ERR  TL  Avrg  ORACLE  : 0.21366281807422638\n",
      "(ORG)E2_3fold_rep_1_fold_3/3_epoch_80 E_2 ERR  TL  Avrg  NO_ORACLE  : 0.3385002315044403\n",
      "(ORG)E2_3fold_rep_1_fold_3/3_epoch_80 E_2 ACC  SL  Avrg  ORACLE  : 0.0656895637512207\n",
      "(ORG)E2_3fold_rep_1_fold_3/3_epoch_80 E_2 ACC  SL  Avrg  NO_ORACLE  : 0.10153628140687943\n",
      "(ORG)E2_3fold_rep_1_fold_3/3_epoch_80 E_2 ERR  SL  Avrg  ORACLE  : 0.9343103766441345\n",
      "(ORG)E2_3fold_rep_1_fold_3/3_epoch_80 E_2 ERR  SL  Avrg  NO_ORACLE  : 0.8984636664390564\n",
      "The following file will be overwritten: saved_data/eval_results/E2_3fold_rep_1.json\n",
      "Evaluation results will be saved at:  saved_data/eval_results/E2_3fold_rep_1.json\n"
     ]
    },
    {
     "name": "stderr",
     "output_type": "stream",
     "text": [
      "\n"
     ]
    },
    {
     "name": "stdout",
     "output_type": "stream",
     "text": [
      "The following file will be overwritten: saved_data/tensorboard_runs/E2_3fold_rep_2\n",
      "--------------------------------------------------\n"
     ]
    },
    {
     "name": "stderr",
     "output_type": "stream",
     "text": [
      "EPOCH_fold_1/3:  99%|█████████▉| 79/80 [16:42<00:12, 12.68s/it]"
     ]
    },
    {
     "name": "stdout",
     "output_type": "stream",
     "text": [
      "Epoch 80/80 Batch 56640/56640 Trining Loss: 2.413031561416574\n"
     ]
    },
    {
     "name": "stderr",
     "output_type": "stream",
     "text": [
      "EPOCH_fold_1/3: 100%|██████████| 80/80 [16:56<00:00, 12.71s/it]"
     ]
    },
    {
     "name": "stdout",
     "output_type": "stream",
     "text": [
      "Experiment: E2_3fold_rep_2_fold_1/3_epoch_80 Results, Type: E_2\n",
      "(ORG)E2_3fold_rep_2_fold_1/3_epoch_80 E_2 ACC  TL  Avrg  ORACLE  : 0.8549176454544067\n",
      "(ORG)E2_3fold_rep_2_fold_1/3_epoch_80 E_2 ACC  TL  Avrg  NO_ORACLE  : 0.9759073257446289\n",
      "(ORG)E2_3fold_rep_2_fold_1/3_epoch_80 E_2 ERR  TL  Avrg  ORACLE  : 0.14508236944675446\n",
      "(ORG)E2_3fold_rep_2_fold_1/3_epoch_80 E_2 ERR  TL  Avrg  NO_ORACLE  : 0.024092653766274452\n",
      "(ORG)E2_3fold_rep_2_fold_1/3_epoch_80 E_2 ACC  SL  Avrg  ORACLE  : 0.23238565027713776\n",
      "(ORG)E2_3fold_rep_2_fold_1/3_epoch_80 E_2 ACC  SL  Avrg  NO_ORACLE  : 0.9147095084190369\n",
      "(ORG)E2_3fold_rep_2_fold_1/3_epoch_80 E_2 ERR  SL  Avrg  ORACLE  : 0.7676143050193787\n",
      "(ORG)E2_3fold_rep_2_fold_1/3_epoch_80 E_2 ERR  SL  Avrg  NO_ORACLE  : 0.08529047667980194\n"
     ]
    },
    {
     "name": "stderr",
     "output_type": "stream",
     "text": [
      "\n",
      "EPOCH_fold_2/3:  99%|█████████▉| 79/80 [16:58<00:12, 12.67s/it]"
     ]
    },
    {
     "name": "stdout",
     "output_type": "stream",
     "text": [
      "Epoch 80/80 Batch 56640/56640 Trining Loss: 2.6286684245133074\n"
     ]
    },
    {
     "name": "stderr",
     "output_type": "stream",
     "text": [
      "EPOCH_fold_2/3: 100%|██████████| 80/80 [17:13<00:00, 12.92s/it]"
     ]
    },
    {
     "name": "stdout",
     "output_type": "stream",
     "text": [
      "Experiment: E2_3fold_rep_2_fold_2/3_epoch_80 Results, Type: E_2\n",
      "(ORG)E2_3fold_rep_2_fold_2/3_epoch_80 E_2 ACC  TL  Avrg  ORACLE  : 0.9045093059539795\n",
      "(ORG)E2_3fold_rep_2_fold_2/3_epoch_80 E_2 ACC  TL  Avrg  NO_ORACLE  : 0.9367583394050598\n",
      "(ORG)E2_3fold_rep_2_fold_2/3_epoch_80 E_2 ERR  TL  Avrg  ORACLE  : 0.0954907163977623\n",
      "(ORG)E2_3fold_rep_2_fold_2/3_epoch_80 E_2 ERR  TL  Avrg  NO_ORACLE  : 0.06324166059494019\n",
      "(ORG)E2_3fold_rep_2_fold_2/3_epoch_80 E_2 ACC  SL  Avrg  ORACLE  : 0.10842309147119522\n",
      "(ORG)E2_3fold_rep_2_fold_2/3_epoch_80 E_2 ACC  SL  Avrg  NO_ORACLE  : 0.7646123766899109\n",
      "(ORG)E2_3fold_rep_2_fold_2/3_epoch_80 E_2 ERR  SL  Avrg  ORACLE  : 0.891576886177063\n",
      "(ORG)E2_3fold_rep_2_fold_2/3_epoch_80 E_2 ERR  SL  Avrg  NO_ORACLE  : 0.23538759350776672\n"
     ]
    },
    {
     "name": "stderr",
     "output_type": "stream",
     "text": [
      "\n",
      "EPOCH_fold_3/3:  99%|█████████▉| 79/80 [17:40<00:12, 12.67s/it]"
     ]
    },
    {
     "name": "stdout",
     "output_type": "stream",
     "text": [
      "Epoch 80/80 Batch 56640/56640 Trining Loss: 2.237191077838361\n"
     ]
    },
    {
     "name": "stderr",
     "output_type": "stream",
     "text": [
      "EPOCH_fold_3/3: 100%|██████████| 80/80 [17:57<00:00, 13.47s/it]"
     ]
    },
    {
     "name": "stdout",
     "output_type": "stream",
     "text": [
      "Experiment: E2_3fold_rep_2_fold_3/3_epoch_80 Results, Type: E_2\n",
      "(ORG)E2_3fold_rep_2_fold_3/3_epoch_80 E_2 ACC  TL  Avrg  ORACLE  : 0.8059743046760559\n",
      "(ORG)E2_3fold_rep_2_fold_3/3_epoch_80 E_2 ACC  TL  Avrg  NO_ORACLE  : 0.6552738547325134\n",
      "(ORG)E2_3fold_rep_2_fold_3/3_epoch_80 E_2 ERR  TL  Avrg  ORACLE  : 0.19402571022510529\n",
      "(ORG)E2_3fold_rep_2_fold_3/3_epoch_80 E_2 ERR  TL  Avrg  NO_ORACLE  : 0.3447261154651642\n",
      "(ORG)E2_3fold_rep_2_fold_3/3_epoch_80 E_2 ACC  SL  Avrg  ORACLE  : 0.0702807679772377\n",
      "(ORG)E2_3fold_rep_2_fold_3/3_epoch_80 E_2 ACC  SL  Avrg  NO_ORACLE  : 0.09641532599925995\n",
      "(ORG)E2_3fold_rep_2_fold_3/3_epoch_80 E_2 ERR  SL  Avrg  ORACLE  : 0.9297192096710205\n",
      "(ORG)E2_3fold_rep_2_fold_3/3_epoch_80 E_2 ERR  SL  Avrg  NO_ORACLE  : 0.9035846590995789\n",
      "The following file will be overwritten: saved_data/eval_results/E2_3fold_rep_2.json\n",
      "Evaluation results will be saved at:  saved_data/eval_results/E2_3fold_rep_2.json\n"
     ]
    },
    {
     "name": "stderr",
     "output_type": "stream",
     "text": [
      "\n"
     ]
    },
    {
     "name": "stdout",
     "output_type": "stream",
     "text": [
      "The following file will be overwritten: saved_data/tensorboard_runs/E2_3fold_rep_3\n",
      "--------------------------------------------------\n"
     ]
    },
    {
     "name": "stderr",
     "output_type": "stream",
     "text": [
      "EPOCH_fold_1/3:  99%|█████████▉| 79/80 [16:34<00:12, 12.28s/it]"
     ]
    },
    {
     "name": "stdout",
     "output_type": "stream",
     "text": [
      "Epoch 80/80 Batch 56640/56640 Trining Loss: 1.8084308912220877\n"
     ]
    },
    {
     "name": "stderr",
     "output_type": "stream",
     "text": [
      "EPOCH_fold_1/3: 100%|██████████| 80/80 [16:48<00:00, 12.61s/it]"
     ]
    },
    {
     "name": "stdout",
     "output_type": "stream",
     "text": [
      "Experiment: E2_3fold_rep_3_fold_1/3_epoch_80 Results, Type: E_2\n",
      "(ORG)E2_3fold_rep_3_fold_1/3_epoch_80 E_2 ACC  TL  Avrg  ORACLE  : 0.8621640205383301\n",
      "(ORG)E2_3fold_rep_3_fold_1/3_epoch_80 E_2 ACC  TL  Avrg  NO_ORACLE  : 0.9897497892379761\n",
      "(ORG)E2_3fold_rep_3_fold_1/3_epoch_80 E_2 ERR  TL  Avrg  ORACLE  : 0.13783599436283112\n",
      "(ORG)E2_3fold_rep_3_fold_1/3_epoch_80 E_2 ERR  TL  Avrg  NO_ORACLE  : 0.010250216349959373\n",
      "(ORG)E2_3fold_rep_3_fold_1/3_epoch_80 E_2 ACC  SL  Avrg  ORACLE  : 0.23256224393844604\n",
      "(ORG)E2_3fold_rep_3_fold_1/3_epoch_80 E_2 ACC  SL  Avrg  NO_ORACLE  : 0.9540879130363464\n",
      "(ORG)E2_3fold_rep_3_fold_1/3_epoch_80 E_2 ERR  SL  Avrg  ORACLE  : 0.767437756061554\n",
      "(ORG)E2_3fold_rep_3_fold_1/3_epoch_80 E_2 ERR  SL  Avrg  NO_ORACLE  : 0.045912060886621475\n"
     ]
    },
    {
     "name": "stderr",
     "output_type": "stream",
     "text": [
      "\n",
      "EPOCH_fold_2/3:  99%|█████████▉| 79/80 [16:41<00:12, 12.43s/it]"
     ]
    },
    {
     "name": "stdout",
     "output_type": "stream",
     "text": [
      "Epoch 80/80 Batch 56640/56640 Trining Loss: 4.413382794766221\n"
     ]
    },
    {
     "name": "stderr",
     "output_type": "stream",
     "text": [
      "EPOCH_fold_2/3: 100%|██████████| 80/80 [16:56<00:00, 12.71s/it]"
     ]
    },
    {
     "name": "stdout",
     "output_type": "stream",
     "text": [
      "Experiment: E2_3fold_rep_3_fold_2/3_epoch_80 Results, Type: E_2\n",
      "(ORG)E2_3fold_rep_3_fold_2/3_epoch_80 E_2 ACC  TL  Avrg  ORACLE  : 0.911890983581543\n",
      "(ORG)E2_3fold_rep_3_fold_2/3_epoch_80 E_2 ACC  TL  Avrg  NO_ORACLE  : 0.9426218271255493\n",
      "(ORG)E2_3fold_rep_3_fold_2/3_epoch_80 E_2 ERR  TL  Avrg  ORACLE  : 0.08810903131961823\n",
      "(ORG)E2_3fold_rep_3_fold_2/3_epoch_80 E_2 ERR  TL  Avrg  NO_ORACLE  : 0.057378195226192474\n",
      "(ORG)E2_3fold_rep_3_fold_2/3_epoch_80 E_2 ACC  SL  Avrg  ORACLE  : 0.11054211109876633\n",
      "(ORG)E2_3fold_rep_3_fold_2/3_epoch_80 E_2 ACC  SL  Avrg  NO_ORACLE  : 0.7688503861427307\n",
      "(ORG)E2_3fold_rep_3_fold_2/3_epoch_80 E_2 ERR  SL  Avrg  ORACLE  : 0.8894578814506531\n",
      "(ORG)E2_3fold_rep_3_fold_2/3_epoch_80 E_2 ERR  SL  Avrg  NO_ORACLE  : 0.2311495542526245\n"
     ]
    },
    {
     "name": "stderr",
     "output_type": "stream",
     "text": [
      "\n",
      "EPOCH_fold_3/3:  99%|█████████▉| 79/80 [18:12<00:12, 12.89s/it]"
     ]
    },
    {
     "name": "stdout",
     "output_type": "stream",
     "text": [
      "Epoch 80/80 Batch 56640/56640 Trining Loss: 5.27948178492079\n"
     ]
    },
    {
     "name": "stderr",
     "output_type": "stream",
     "text": [
      "EPOCH_fold_3/3: 100%|██████████| 80/80 [18:29<00:00, 13.87s/it]"
     ]
    },
    {
     "name": "stdout",
     "output_type": "stream",
     "text": [
      "Experiment: E2_3fold_rep_3_fold_3/3_epoch_80 Results, Type: E_2\n",
      "(ORG)E2_3fold_rep_3_fold_3/3_epoch_80 E_2 ACC  TL  Avrg  ORACLE  : 0.812072217464447\n",
      "(ORG)E2_3fold_rep_3_fold_3/3_epoch_80 E_2 ACC  TL  Avrg  NO_ORACLE  : 0.6536214351654053\n",
      "(ORG)E2_3fold_rep_3_fold_3/3_epoch_80 E_2 ERR  TL  Avrg  ORACLE  : 0.18792776763439178\n",
      "(ORG)E2_3fold_rep_3_fold_3/3_epoch_80 E_2 ERR  TL  Avrg  NO_ORACLE  : 0.34637853503227234\n",
      "(ORG)E2_3fold_rep_3_fold_3/3_epoch_80 E_2 ACC  SL  Avrg  ORACLE  : 0.09411972016096115\n",
      "(ORG)E2_3fold_rep_3_fold_3/3_epoch_80 E_2 ACC  SL  Avrg  NO_ORACLE  : 0.09659191220998764\n",
      "(ORG)E2_3fold_rep_3_fold_3/3_epoch_80 E_2 ERR  SL  Avrg  ORACLE  : 0.9058802723884583\n",
      "(ORG)E2_3fold_rep_3_fold_3/3_epoch_80 E_2 ERR  SL  Avrg  NO_ORACLE  : 0.9034080505371094\n",
      "The following file will be overwritten: saved_data/eval_results/E2_3fold_rep_3.json\n",
      "Evaluation results will be saved at:  saved_data/eval_results/E2_3fold_rep_3.json\n"
     ]
    },
    {
     "name": "stderr",
     "output_type": "stream",
     "text": [
      "\n"
     ]
    }
   ],
   "source": [
    "# rep 1:\n",
    "conf.experiment_name = \"E2_3fold_rep_1\"\n",
    "Exp = Experiment(ExperimentType.E_2, config=conf)\n",
    "Exp.run()\n",
    "Exp.save_results(overwrite=True)\n",
    "\n",
    "# rep 2:\n",
    "conf.experiment_name = \"E2_3fold_rep_2\"\n",
    "Exp = Experiment(ExperimentType.E_2, config=conf)\n",
    "Exp.run()\n",
    "Exp.save_results(overwrite=True)\n",
    "\n",
    "# rep 3:\n",
    "conf.experiment_name = \"E2_3fold_rep_3\"\n",
    "Exp = Experiment(ExperimentType.E_2, config=conf)\n",
    "Exp.run()\n",
    "Exp.save_results(overwrite=True)\n",
    "\n"
   ]
  },
  {
   "cell_type": "markdown",
   "metadata": {},
   "source": [
    "Experiment 3_2 (add jump)"
   ]
  },
  {
   "cell_type": "code",
   "execution_count": 2,
   "metadata": {},
   "outputs": [
    {
     "data": {
      "text/plain": [
       "experiment_name: E3_3fold_rep_1\n",
       "emb_dim: 128\n",
       "num_layers: 2\n",
       "num_heads: 8\n",
       "forward_dim: 256\n",
       "dropout: 0.15\n",
       "learning_rate: 0.0002\n",
       "batch_size: 16\n",
       "batch_size_eval: 500\n",
       "grad_clip: 1\n",
       "optimizer: AdamW\n",
       "epochs: 80\n",
       "model_save_path: saved_data/models/\n",
       "tensorboard_log_path: saved_data/tensorboard_runs/\n",
       "results_dict_path: saved_data/eval_results/\n",
       "model_weights_path: None\n",
       "device: cuda\n",
       "train_model: True\n",
       "use_tensorboard: True\n",
       "evaluation_interval: 5\n",
       "k_fold: 3\n",
       "detailed_logging: False"
      ]
     },
     "execution_count": 2,
     "metadata": {},
     "output_type": "execute_result"
    }
   ],
   "source": [
    "conf =  E3_Config()\n",
    "conf.train_model = True\n",
    "conf.evaluation_interval = 5\n",
    "conf.use_tensorboard = True\n",
    "conf.experiment_name = \"E3_3fold_rep_1\"\n",
    "conf.epochs = 80\n",
    "conf.k_fold = 3\n",
    "conf.use_tensorboard = True\n",
    "conf.detailed_logging = False\n",
    "conf"
   ]
  },
  {
   "cell_type": "code",
   "execution_count": 4,
   "metadata": {},
   "outputs": [
    {
     "name": "stdout",
     "output_type": "stream",
     "text": [
      "The following file will be overwritten: saved_data/tensorboard_runs/E3_2_3fold_rep_1\n",
      "--------------------------------------------------\n"
     ]
    },
    {
     "name": "stderr",
     "output_type": "stream",
     "text": [
      "EPOCH_fold_1/3:  99%|█████████▉| 79/80 [15:44<00:11, 11.11s/it]"
     ]
    },
    {
     "name": "stdout",
     "output_type": "stream",
     "text": [
      "Epoch 80/80 Batch 48960/48960 Trining Loss: 3.695907151384745\n"
     ]
    },
    {
     "name": "stderr",
     "output_type": "stream",
     "text": [
      "EPOCH_fold_1/3: 100%|██████████| 80/80 [15:59<00:00, 11.99s/it]"
     ]
    },
    {
     "name": "stdout",
     "output_type": "stream",
     "text": [
      "Experiment: E3_2_3fold_rep_1_fold_1/3_epoch_80 Results, Type: E_3_2\n",
      "(ORG)E3_2_3fold_rep_1_fold_1/3_epoch_80 E_3_2 ACC  TL  Avrg  ORACLE  : 0.9995295405387878\n",
      "(ORG)E3_2_3fold_rep_1_fold_1/3_epoch_80 E_3_2 ACC  TL  Avrg  NO_ORACLE  : 0.9999350905418396\n",
      "(ORG)E3_2_3fold_rep_1_fold_1/3_epoch_80 E_3_2 ERR  TL  Avrg  ORACLE  : 0.00047048134729266167\n",
      "(ORG)E3_2_3fold_rep_1_fold_1/3_epoch_80 E_3_2 ERR  TL  Avrg  NO_ORACLE  : 6.489398219855502e-05\n",
      "(ORG)E3_2_3fold_rep_1_fold_1/3_epoch_80 E_3_2 ACC  SL  Avrg  ORACLE  : 0.9940695762634277\n",
      "(ORG)E3_2_3fold_rep_1_fold_1/3_epoch_80 E_3_2 ACC  SL  Avrg  NO_ORACLE  : 0.9997954964637756\n",
      "(ORG)E3_2_3fold_rep_1_fold_1/3_epoch_80 E_3_2 ERR  SL  Avrg  ORACLE  : 0.005930470302700996\n",
      "(ORG)E3_2_3fold_rep_1_fold_1/3_epoch_80 E_3_2 ERR  SL  Avrg  NO_ORACLE  : 0.00020449898147489876\n"
     ]
    },
    {
     "name": "stderr",
     "output_type": "stream",
     "text": [
      "\n",
      "EPOCH_fold_2/3:  99%|█████████▉| 79/80 [15:13<00:10, 10.90s/it]"
     ]
    },
    {
     "name": "stdout",
     "output_type": "stream",
     "text": [
      "Epoch 80/80 Batch 48960/48960 Trining Loss: 3.214847963754437\n"
     ]
    },
    {
     "name": "stderr",
     "output_type": "stream",
     "text": [
      "EPOCH_fold_2/3: 100%|██████████| 80/80 [15:29<00:00, 11.62s/it]"
     ]
    },
    {
     "name": "stdout",
     "output_type": "stream",
     "text": [
      "Experiment: E3_2_3fold_rep_1_fold_2/3_epoch_80 Results, Type: E_3_2\n",
      "(ORG)E3_2_3fold_rep_1_fold_2/3_epoch_80 E_3_2 ACC  TL  Avrg  ORACLE  : 0.9996645450592041\n",
      "(ORG)E3_2_3fold_rep_1_fold_2/3_epoch_80 E_3_2 ACC  TL  Avrg  NO_ORACLE  : 0.9999680519104004\n",
      "(ORG)E3_2_3fold_rep_1_fold_2/3_epoch_80 E_3_2 ERR  TL  Avrg  ORACLE  : 0.0003354364598635584\n",
      "(ORG)E3_2_3fold_rep_1_fold_2/3_epoch_80 E_3_2 ERR  TL  Avrg  NO_ORACLE  : 3.194632881786674e-05\n",
      "(ORG)E3_2_3fold_rep_1_fold_2/3_epoch_80 E_3_2 ACC  SL  Avrg  ORACLE  : 0.9957055449485779\n",
      "(ORG)E3_2_3fold_rep_1_fold_2/3_epoch_80 E_3_2 ACC  SL  Avrg  NO_ORACLE  : 0.9995909929275513\n",
      "(ORG)E3_2_3fold_rep_1_fold_2/3_epoch_80 E_3_2 ERR  SL  Avrg  ORACLE  : 0.004294478800147772\n",
      "(ORG)E3_2_3fold_rep_1_fold_2/3_epoch_80 E_3_2 ERR  SL  Avrg  NO_ORACLE  : 0.0004089979629497975\n"
     ]
    },
    {
     "name": "stderr",
     "output_type": "stream",
     "text": [
      "\n",
      "EPOCH_fold_3/3:  99%|█████████▉| 79/80 [15:27<00:11, 11.17s/it]"
     ]
    },
    {
     "name": "stdout",
     "output_type": "stream",
     "text": [
      "Epoch 80/80 Batch 48960/48960 Trining Loss: 2.96140424067562\n"
     ]
    },
    {
     "name": "stderr",
     "output_type": "stream",
     "text": [
      "EPOCH_fold_3/3: 100%|██████████| 80/80 [15:42<00:00, 11.78s/it]"
     ]
    },
    {
     "name": "stdout",
     "output_type": "stream",
     "text": [
      "Experiment: E3_2_3fold_rep_1_fold_3/3_epoch_80 Results, Type: E_3_2\n",
      "(ORG)E3_2_3fold_rep_1_fold_3/3_epoch_80 E_3_2 ACC  TL  Avrg  ORACLE  : 0.9994077682495117\n",
      "(ORG)E3_2_3fold_rep_1_fold_3/3_epoch_80 E_3_2 ACC  TL  Avrg  NO_ORACLE  : 1.0\n",
      "(ORG)E3_2_3fold_rep_1_fold_3/3_epoch_80 E_3_2 ERR  TL  Avrg  ORACLE  : 0.0005922558484598994\n",
      "(ORG)E3_2_3fold_rep_1_fold_3/3_epoch_80 E_3_2 ERR  TL  Avrg  NO_ORACLE  : 0.0\n",
      "(ORG)E3_2_3fold_rep_1_fold_3/3_epoch_80 E_3_2 ACC  SL  Avrg  ORACLE  : 0.9924335479736328\n",
      "(ORG)E3_2_3fold_rep_1_fold_3/3_epoch_80 E_3_2 ACC  SL  Avrg  NO_ORACLE  : 1.0\n",
      "(ORG)E3_2_3fold_rep_1_fold_3/3_epoch_80 E_3_2 ERR  SL  Avrg  ORACLE  : 0.007566462270915508\n",
      "(ORG)E3_2_3fold_rep_1_fold_3/3_epoch_80 E_3_2 ERR  SL  Avrg  NO_ORACLE  : 0.0\n",
      "The following file will be overwritten: saved_data/eval_results/E3_2_3fold_rep_1.json\n",
      "Evaluation results will be saved at:  saved_data/eval_results/E3_2_3fold_rep_1.json\n"
     ]
    },
    {
     "name": "stderr",
     "output_type": "stream",
     "text": [
      "\n"
     ]
    },
    {
     "name": "stdout",
     "output_type": "stream",
     "text": [
      "The following file will be overwritten: saved_data/tensorboard_runs/E3_2_3fold_rep_2\n",
      "--------------------------------------------------\n"
     ]
    },
    {
     "name": "stderr",
     "output_type": "stream",
     "text": [
      "EPOCH_fold_1/3:  99%|█████████▉| 79/80 [15:33<00:11, 11.01s/it]"
     ]
    },
    {
     "name": "stdout",
     "output_type": "stream",
     "text": [
      "Epoch 80/80 Batch 48960/48960 Trining Loss: 3.0642633725656196\n"
     ]
    },
    {
     "name": "stderr",
     "output_type": "stream",
     "text": [
      "EPOCH_fold_1/3: 100%|██████████| 80/80 [15:48<00:00, 11.86s/it]"
     ]
    },
    {
     "name": "stdout",
     "output_type": "stream",
     "text": [
      "Experiment: E3_2_3fold_rep_2_fold_1/3_epoch_80 Results, Type: E_3_2\n",
      "(ORG)E3_2_3fold_rep_2_fold_1/3_epoch_80 E_3_2 ACC  TL  Avrg  ORACLE  : 0.9995295405387878\n",
      "(ORG)E3_2_3fold_rep_2_fold_1/3_epoch_80 E_3_2 ACC  TL  Avrg  NO_ORACLE  : 0.999643087387085\n",
      "(ORG)E3_2_3fold_rep_2_fold_1/3_epoch_80 E_3_2 ERR  TL  Avrg  ORACLE  : 0.00047048134729266167\n",
      "(ORG)E3_2_3fold_rep_2_fold_1/3_epoch_80 E_3_2 ERR  TL  Avrg  NO_ORACLE  : 0.0003569168911781162\n",
      "(ORG)E3_2_3fold_rep_2_fold_1/3_epoch_80 E_3_2 ACC  SL  Avrg  ORACLE  : 0.9940695762634277\n",
      "(ORG)E3_2_3fold_rep_2_fold_1/3_epoch_80 E_3_2 ACC  SL  Avrg  NO_ORACLE  : 0.9985685348510742\n",
      "(ORG)E3_2_3fold_rep_2_fold_1/3_epoch_80 E_3_2 ERR  SL  Avrg  ORACLE  : 0.005930470302700996\n",
      "(ORG)E3_2_3fold_rep_2_fold_1/3_epoch_80 E_3_2 ERR  SL  Avrg  NO_ORACLE  : 0.001431492855772376\n"
     ]
    },
    {
     "name": "stderr",
     "output_type": "stream",
     "text": [
      "\n",
      "EPOCH_fold_2/3:  99%|█████████▉| 79/80 [15:24<00:11, 11.12s/it]"
     ]
    },
    {
     "name": "stdout",
     "output_type": "stream",
     "text": [
      "Epoch 80/80 Batch 48960/48960 Trining Loss: 2.527906028270081\n"
     ]
    },
    {
     "name": "stderr",
     "output_type": "stream",
     "text": [
      "EPOCH_fold_2/3: 100%|██████████| 80/80 [15:39<00:00, 11.74s/it]"
     ]
    },
    {
     "name": "stdout",
     "output_type": "stream",
     "text": [
      "Experiment: E3_2_3fold_rep_2_fold_2/3_epoch_80 Results, Type: E_3_2\n",
      "(ORG)E3_2_3fold_rep_2_fold_2/3_epoch_80 E_3_2 ACC  TL  Avrg  ORACLE  : 0.9996645450592041\n",
      "(ORG)E3_2_3fold_rep_2_fold_2/3_epoch_80 E_3_2 ACC  TL  Avrg  NO_ORACLE  : 1.0\n",
      "(ORG)E3_2_3fold_rep_2_fold_2/3_epoch_80 E_3_2 ERR  TL  Avrg  ORACLE  : 0.0003354364598635584\n",
      "(ORG)E3_2_3fold_rep_2_fold_2/3_epoch_80 E_3_2 ERR  TL  Avrg  NO_ORACLE  : 0.0\n",
      "(ORG)E3_2_3fold_rep_2_fold_2/3_epoch_80 E_3_2 ACC  SL  Avrg  ORACLE  : 0.9957055449485779\n",
      "(ORG)E3_2_3fold_rep_2_fold_2/3_epoch_80 E_3_2 ACC  SL  Avrg  NO_ORACLE  : 1.0\n",
      "(ORG)E3_2_3fold_rep_2_fold_2/3_epoch_80 E_3_2 ERR  SL  Avrg  ORACLE  : 0.004294478800147772\n",
      "(ORG)E3_2_3fold_rep_2_fold_2/3_epoch_80 E_3_2 ERR  SL  Avrg  NO_ORACLE  : 0.0\n"
     ]
    },
    {
     "name": "stderr",
     "output_type": "stream",
     "text": [
      "\n",
      "EPOCH_fold_3/3:  99%|█████████▉| 79/80 [15:27<00:11, 11.03s/it]"
     ]
    },
    {
     "name": "stdout",
     "output_type": "stream",
     "text": [
      "Epoch 80/80 Batch 48960/48960 Trining Loss: 2.9150326313756523\n"
     ]
    },
    {
     "name": "stderr",
     "output_type": "stream",
     "text": [
      "EPOCH_fold_3/3: 100%|██████████| 80/80 [15:42<00:00, 11.79s/it]"
     ]
    },
    {
     "name": "stdout",
     "output_type": "stream",
     "text": [
      "Experiment: E3_2_3fold_rep_2_fold_3/3_epoch_80 Results, Type: E_3_2\n",
      "(ORG)E3_2_3fold_rep_2_fold_3/3_epoch_80 E_3_2 ACC  TL  Avrg  ORACLE  : 0.9994077682495117\n",
      "(ORG)E3_2_3fold_rep_2_fold_3/3_epoch_80 E_3_2 ACC  TL  Avrg  NO_ORACLE  : 1.0\n",
      "(ORG)E3_2_3fold_rep_2_fold_3/3_epoch_80 E_3_2 ERR  TL  Avrg  ORACLE  : 0.0005922558484598994\n",
      "(ORG)E3_2_3fold_rep_2_fold_3/3_epoch_80 E_3_2 ERR  TL  Avrg  NO_ORACLE  : 0.0\n",
      "(ORG)E3_2_3fold_rep_2_fold_3/3_epoch_80 E_3_2 ACC  SL  Avrg  ORACLE  : 0.9924335479736328\n",
      "(ORG)E3_2_3fold_rep_2_fold_3/3_epoch_80 E_3_2 ACC  SL  Avrg  NO_ORACLE  : 1.0\n",
      "(ORG)E3_2_3fold_rep_2_fold_3/3_epoch_80 E_3_2 ERR  SL  Avrg  ORACLE  : 0.007566462270915508\n",
      "(ORG)E3_2_3fold_rep_2_fold_3/3_epoch_80 E_3_2 ERR  SL  Avrg  NO_ORACLE  : 0.0\n",
      "The following file will be overwritten: saved_data/eval_results/E3_2_3fold_rep_2.json\n",
      "Evaluation results will be saved at:  saved_data/eval_results/E3_2_3fold_rep_2.json\n"
     ]
    },
    {
     "name": "stderr",
     "output_type": "stream",
     "text": [
      "\n"
     ]
    },
    {
     "name": "stdout",
     "output_type": "stream",
     "text": [
      "The following file will be overwritten: saved_data/tensorboard_runs/E3_2_3fold_rep_3\n",
      "--------------------------------------------------\n"
     ]
    },
    {
     "name": "stderr",
     "output_type": "stream",
     "text": [
      "EPOCH_fold_1/3:  99%|█████████▉| 79/80 [15:29<00:10, 10.99s/it]"
     ]
    },
    {
     "name": "stdout",
     "output_type": "stream",
     "text": [
      "Epoch 80/80 Batch 48960/48960 Trining Loss: 2.8198214016738348\n"
     ]
    },
    {
     "name": "stderr",
     "output_type": "stream",
     "text": [
      "EPOCH_fold_1/3: 100%|██████████| 80/80 [15:45<00:00, 11.82s/it]"
     ]
    },
    {
     "name": "stdout",
     "output_type": "stream",
     "text": [
      "Experiment: E3_2_3fold_rep_3_fold_1/3_epoch_80 Results, Type: E_3_2\n",
      "(ORG)E3_2_3fold_rep_3_fold_1/3_epoch_80 E_3_2 ACC  TL  Avrg  ORACLE  : 0.9995295405387878\n",
      "(ORG)E3_2_3fold_rep_3_fold_1/3_epoch_80 E_3_2 ACC  TL  Avrg  NO_ORACLE  : 0.9999026656150818\n",
      "(ORG)E3_2_3fold_rep_3_fold_1/3_epoch_80 E_3_2 ERR  TL  Avrg  ORACLE  : 0.00047048134729266167\n",
      "(ORG)E3_2_3fold_rep_3_fold_1/3_epoch_80 E_3_2 ERR  TL  Avrg  NO_ORACLE  : 9.734096965985373e-05\n",
      "(ORG)E3_2_3fold_rep_3_fold_1/3_epoch_80 E_3_2 ACC  SL  Avrg  ORACLE  : 0.9940695762634277\n",
      "(ORG)E3_2_3fold_rep_3_fold_1/3_epoch_80 E_3_2 ACC  SL  Avrg  NO_ORACLE  : 0.9993865489959717\n",
      "(ORG)E3_2_3fold_rep_3_fold_1/3_epoch_80 E_3_2 ERR  SL  Avrg  ORACLE  : 0.005930470302700996\n",
      "(ORG)E3_2_3fold_rep_3_fold_1/3_epoch_80 E_3_2 ERR  SL  Avrg  NO_ORACLE  : 0.000613496929872781\n"
     ]
    },
    {
     "name": "stderr",
     "output_type": "stream",
     "text": [
      "\n",
      "EPOCH_fold_2/3:  99%|█████████▉| 79/80 [15:33<00:11, 11.19s/it]"
     ]
    },
    {
     "name": "stdout",
     "output_type": "stream",
     "text": [
      "Epoch 80/80 Batch 48960/48960 Trining Loss: 4.564791815399076\n"
     ]
    },
    {
     "name": "stderr",
     "output_type": "stream",
     "text": [
      "EPOCH_fold_2/3: 100%|██████████| 80/80 [15:48<00:00, 11.86s/it]"
     ]
    },
    {
     "name": "stdout",
     "output_type": "stream",
     "text": [
      "Experiment: E3_2_3fold_rep_3_fold_2/3_epoch_80 Results, Type: E_3_2\n",
      "(ORG)E3_2_3fold_rep_3_fold_2/3_epoch_80 E_3_2 ACC  TL  Avrg  ORACLE  : 0.9996645450592041\n",
      "(ORG)E3_2_3fold_rep_3_fold_2/3_epoch_80 E_3_2 ACC  TL  Avrg  NO_ORACLE  : 0.9997763633728027\n",
      "(ORG)E3_2_3fold_rep_3_fold_2/3_epoch_80 E_3_2 ERR  TL  Avrg  ORACLE  : 0.0003354364598635584\n",
      "(ORG)E3_2_3fold_rep_3_fold_2/3_epoch_80 E_3_2 ERR  TL  Avrg  NO_ORACLE  : 0.00022362431627698243\n",
      "(ORG)E3_2_3fold_rep_3_fold_2/3_epoch_80 E_3_2 ACC  SL  Avrg  ORACLE  : 0.9957055449485779\n",
      "(ORG)E3_2_3fold_rep_3_fold_2/3_epoch_80 E_3_2 ACC  SL  Avrg  NO_ORACLE  : 0.9991820454597473\n",
      "(ORG)E3_2_3fold_rep_3_fold_2/3_epoch_80 E_3_2 ERR  SL  Avrg  ORACLE  : 0.004294478800147772\n",
      "(ORG)E3_2_3fold_rep_3_fold_2/3_epoch_80 E_3_2 ERR  SL  Avrg  NO_ORACLE  : 0.000817995925899595\n"
     ]
    },
    {
     "name": "stderr",
     "output_type": "stream",
     "text": [
      "\n",
      "EPOCH_fold_3/3:  99%|█████████▉| 79/80 [15:20<00:11, 11.03s/it]"
     ]
    },
    {
     "name": "stdout",
     "output_type": "stream",
     "text": [
      "Epoch 80/80 Batch 48960/48960 Trining Loss: 3.40871858895116\n"
     ]
    },
    {
     "name": "stderr",
     "output_type": "stream",
     "text": [
      "EPOCH_fold_3/3: 100%|██████████| 80/80 [15:35<00:00, 11.69s/it]"
     ]
    },
    {
     "name": "stdout",
     "output_type": "stream",
     "text": [
      "Experiment: E3_2_3fold_rep_3_fold_3/3_epoch_80 Results, Type: E_3_2\n",
      "(ORG)E3_2_3fold_rep_3_fold_3/3_epoch_80 E_3_2 ACC  TL  Avrg  ORACLE  : 0.9994077682495117\n",
      "(ORG)E3_2_3fold_rep_3_fold_3/3_epoch_80 E_3_2 ACC  TL  Avrg  NO_ORACLE  : 0.9998719692230225\n",
      "(ORG)E3_2_3fold_rep_3_fold_3/3_epoch_80 E_3_2 ERR  TL  Avrg  ORACLE  : 0.0005922558484598994\n",
      "(ORG)E3_2_3fold_rep_3_fold_3/3_epoch_80 E_3_2 ERR  TL  Avrg  NO_ORACLE  : 0.00012805532605852932\n",
      "(ORG)E3_2_3fold_rep_3_fold_3/3_epoch_80 E_3_2 ACC  SL  Avrg  ORACLE  : 0.9924335479736328\n",
      "(ORG)E3_2_3fold_rep_3_fold_3/3_epoch_80 E_3_2 ACC  SL  Avrg  NO_ORACLE  : 0.9995909929275513\n",
      "(ORG)E3_2_3fold_rep_3_fold_3/3_epoch_80 E_3_2 ERR  SL  Avrg  ORACLE  : 0.007566462270915508\n",
      "(ORG)E3_2_3fold_rep_3_fold_3/3_epoch_80 E_3_2 ERR  SL  Avrg  NO_ORACLE  : 0.0004089979629497975\n",
      "The following file will be overwritten: saved_data/eval_results/E3_2_3fold_rep_3.json\n",
      "Evaluation results will be saved at:  saved_data/eval_results/E3_2_3fold_rep_3.json\n"
     ]
    },
    {
     "name": "stderr",
     "output_type": "stream",
     "text": [
      "\n"
     ]
    }
   ],
   "source": [
    "# rep 1:\n",
    "conf.experiment_name = \"E3_2_3fold_rep_1\"\n",
    "Exp = Experiment(ExperimentType.E_3_2, config=conf)\n",
    "Exp.run()\n",
    "Exp.save_results(overwrite=True)\n",
    "\n",
    "# rep 2:\n",
    "conf.experiment_name = \"E3_2_3fold_rep_2\"\n",
    "Exp = Experiment(ExperimentType.E_3_2, config=conf)\n",
    "Exp.run()\n",
    "Exp.save_results(overwrite=True)\n",
    "\n",
    "# rep 3:\n",
    "conf.experiment_name = \"E3_2_3fold_rep_3\"\n",
    "Exp = Experiment(ExperimentType.E_3_2, config=conf)\n",
    "Exp.run()\n",
    "Exp.save_results(overwrite=True)\n"
   ]
  }
 ],
 "metadata": {
  "kernelspec": {
   "display_name": "Python 3",
   "language": "python",
   "name": "python3"
  },
  "language_info": {
   "codemirror_mode": {
    "name": "ipython",
    "version": 3
   },
   "file_extension": ".py",
   "mimetype": "text/x-python",
   "name": "python",
   "nbconvert_exporter": "python",
   "pygments_lexer": "ipython3",
   "version": "3.10.8"
  }
 },
 "nbformat": 4,
 "nbformat_minor": 2
}
