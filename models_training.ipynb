{
 "cells": [
  {
   "cell_type": "markdown",
   "metadata": {},
   "source": [
    "# K-Fold parameter search\n",
    "##### 3-fold training of a single experiment setting from each group (E1, E2, E3)\n",
    "##### The aim is to search for an optimal number of epoches for the rest of experiment settings"
   ]
  },
  {
   "cell_type": "code",
   "execution_count": 2,
   "metadata": {},
   "outputs": [
    {
     "name": "stdout",
     "output_type": "stream",
     "text": [
      "(4, 64)\n"
     ]
    }
   ],
   "source": [
    "from experiments.experiment_type import ExperimentType\n",
    "from experiments.experiment_config import E1_Config,E2_Config,E3_Config\n",
    "from experiments.experiment import Experiment"
   ]
  },
  {
   "cell_type": "markdown",
   "metadata": {},
   "source": [
    "E1_1"
   ]
  },
  {
   "cell_type": "code",
   "execution_count": 2,
   "metadata": {},
   "outputs": [
    {
     "data": {
      "text/plain": [
       "experiment_name: E1_1_rep_1\n",
       "emb_dim: 128\n",
       "num_layers: 1\n",
       "num_heads: 8\n",
       "forward_dim: 512\n",
       "dropout: 0.05\n",
       "learning_rate: 0.0007\n",
       "batch_size: 64\n",
       "batch_size_eval: 500\n",
       "grad_clip: 1\n",
       "optimizer: AdamW\n",
       "epochs: 25\n",
       "model_save_path: saved_data/models/\n",
       "tensorboard_log_path: saved_data/tensorboard_runs/\n",
       "results_dict_path: saved_data/eval_results/\n",
       "model_weights_path: None\n",
       "device: cuda\n",
       "train_model: True\n",
       "use_tensorboard: True\n",
       "evaluation_interval: 25\n",
       "k_fold: None\n",
       "detailed_logging: False"
      ]
     },
     "execution_count": 2,
     "metadata": {},
     "output_type": "execute_result"
    }
   ],
   "source": [
    "conf =  E1_Config()\n",
    "conf.train_model = True\n",
    "conf.evaluation_interval = 25\n",
    "conf.use_tensorboard = True\n",
    "conf.experiment_name = \"E1_1_rep_1\"\n",
    "conf.use_tensorboard = True\n",
    "conf.detailed_logging = False\n",
    "conf"
   ]
  },
  {
   "cell_type": "code",
   "execution_count": 3,
   "metadata": {},
   "outputs": [
    {
     "name": "stdout",
     "output_type": "stream",
     "text": [
      "The following file will be overwritten: saved_data/tensorboard_runs/E1_1_rep_1\n",
      "--------------------------------------------------\n"
     ]
    },
    {
     "name": "stderr",
     "output_type": "stream",
     "text": [
      "EPOCH:  96%|█████████▌| 24/25 [02:18<00:05,  5.86s/it]"
     ]
    },
    {
     "name": "stdout",
     "output_type": "stream",
     "text": [
      "Epoch 25/25 Batch 6550/6550 Trining Loss: 1.482384554692544\n"
     ]
    },
    {
     "name": "stderr",
     "output_type": "stream",
     "text": [
      "EPOCH: 100%|██████████| 25/25 [02:27<00:00,  5.89s/it]"
     ]
    },
    {
     "name": "stdout",
     "output_type": "stream",
     "text": [
      "Experiment: E1_1_rep_1_epoch_25 Results, Type: E_1_1\n",
      "(ORG)E1_1_rep_1_epoch_25 E_1_1 ACC  TL  Avrg  ORACLE  : 0.9994632601737976\n",
      "(ORG)E1_1_rep_1_epoch_25 E_1_1 ACC  TL  Avrg  NO_ORACLE  : 0.9999664425849915\n",
      "(ORG)E1_1_rep_1_epoch_25 E_1_1 ERR  TL  Avrg  ORACLE  : 0.0005367326666601002\n",
      "(ORG)E1_1_rep_1_epoch_25 E_1_1 ERR  TL  Avrg  NO_ORACLE  : 3.3545791666256264e-05\n",
      "(ORG)E1_1_rep_1_epoch_25 E_1_1 ACC  SL  Avrg  ORACLE  : 0.9923481941223145\n",
      "(ORG)E1_1_rep_1_epoch_25 E_1_1 ACC  SL  Avrg  NO_ORACLE  : 0.999521791934967\n",
      "(ORG)E1_1_rep_1_epoch_25 E_1_1 ERR  SL  Avrg  ORACLE  : 0.007651841267943382\n",
      "(ORG)E1_1_rep_1_epoch_25 E_1_1 ERR  SL  Avrg  NO_ORACLE  : 0.0004782400792464614\n",
      "The following file will be overwritten: saved_data/eval_results/E1_1_rep_1.json\n",
      "Evaluation results will be saved at:  saved_data/eval_results/E1_1_rep_1.json\n"
     ]
    },
    {
     "name": "stderr",
     "output_type": "stream",
     "text": [
      "\n"
     ]
    },
    {
     "name": "stdout",
     "output_type": "stream",
     "text": [
      "The following file will be overwritten: saved_data/tensorboard_runs/E1_1_rep_2\n",
      "--------------------------------------------------\n"
     ]
    },
    {
     "name": "stderr",
     "output_type": "stream",
     "text": [
      "EPOCH:  96%|█████████▌| 24/25 [02:19<00:05,  5.83s/it]"
     ]
    },
    {
     "name": "stdout",
     "output_type": "stream",
     "text": [
      "Epoch 25/25 Batch 6550/6550 Trining Loss: 1.2882310474233236\n"
     ]
    },
    {
     "name": "stderr",
     "output_type": "stream",
     "text": [
      "EPOCH: 100%|██████████| 25/25 [02:28<00:00,  5.94s/it]"
     ]
    },
    {
     "name": "stdout",
     "output_type": "stream",
     "text": [
      "Experiment: E1_1_rep_2_epoch_25 Results, Type: E_1_1\n",
      "(ORG)E1_1_rep_2_epoch_25 E_1_1 ACC  TL  Avrg  ORACLE  : 0.9992452263832092\n",
      "(ORG)E1_1_rep_2_epoch_25 E_1_1 ACC  TL  Avrg  NO_ORACLE  : 0.9997316598892212\n",
      "(ORG)E1_1_rep_2_epoch_25 E_1_1 ERR  TL  Avrg  ORACLE  : 0.0007547802524641156\n",
      "(ORG)E1_1_rep_2_epoch_25 E_1_1 ERR  TL  Avrg  NO_ORACLE  : 0.0002683663333300501\n",
      "(ORG)E1_1_rep_2_epoch_25 E_1_1 ACC  SL  Avrg  ORACLE  : 0.990913450717926\n",
      "(ORG)E1_1_rep_2_epoch_25 E_1_1 ACC  SL  Avrg  NO_ORACLE  : 0.9980870485305786\n",
      "(ORG)E1_1_rep_2_epoch_25 E_1_1 ERR  SL  Avrg  ORACLE  : 0.009086561389267445\n",
      "(ORG)E1_1_rep_2_epoch_25 E_1_1 ERR  SL  Avrg  NO_ORACLE  : 0.0019129603169858456\n",
      "The following file will be overwritten: saved_data/eval_results/E1_1_rep_2.json\n",
      "Evaluation results will be saved at:  saved_data/eval_results/E1_1_rep_2.json\n"
     ]
    },
    {
     "name": "stderr",
     "output_type": "stream",
     "text": [
      "\n"
     ]
    },
    {
     "name": "stdout",
     "output_type": "stream",
     "text": [
      "The following file will be overwritten: saved_data/tensorboard_runs/E1_1_rep_3\n",
      "--------------------------------------------------\n"
     ]
    },
    {
     "name": "stderr",
     "output_type": "stream",
     "text": [
      "EPOCH:  96%|█████████▌| 24/25 [02:20<00:05,  5.82s/it]"
     ]
    },
    {
     "name": "stdout",
     "output_type": "stream",
     "text": [
      "Epoch 25/25 Batch 6550/6550 Trining Loss: 1.1484344027994666\n"
     ]
    },
    {
     "name": "stderr",
     "output_type": "stream",
     "text": [
      "EPOCH: 100%|██████████| 25/25 [02:29<00:00,  5.97s/it]"
     ]
    },
    {
     "name": "stdout",
     "output_type": "stream",
     "text": [
      "Experiment: E1_1_rep_3_epoch_25 Results, Type: E_1_1\n",
      "(ORG)E1_1_rep_3_epoch_25 E_1_1 ACC  TL  Avrg  ORACLE  : 0.9994297027587891\n",
      "(ORG)E1_1_rep_3_epoch_25 E_1_1 ACC  TL  Avrg  NO_ORACLE  : 0.999832272529602\n",
      "(ORG)E1_1_rep_3_epoch_25 E_1_1 ERR  TL  Avrg  ORACLE  : 0.0005702784401364625\n",
      "(ORG)E1_1_rep_3_epoch_25 E_1_1 ERR  TL  Avrg  NO_ORACLE  : 0.0001677289546933025\n",
      "(ORG)E1_1_rep_3_epoch_25 E_1_1 ACC  SL  Avrg  ORACLE  : 0.9923481941223145\n",
      "(ORG)E1_1_rep_3_epoch_25 E_1_1 ACC  SL  Avrg  NO_ORACLE  : 0.9988043904304504\n",
      "(ORG)E1_1_rep_3_epoch_25 E_1_1 ERR  SL  Avrg  ORACLE  : 0.007651841267943382\n",
      "(ORG)E1_1_rep_3_epoch_25 E_1_1 ERR  SL  Avrg  NO_ORACLE  : 0.0011956002563238144\n",
      "The following file will be overwritten: saved_data/eval_results/E1_1_rep_3.json\n",
      "Evaluation results will be saved at:  saved_data/eval_results/E1_1_rep_3.json\n"
     ]
    },
    {
     "name": "stderr",
     "output_type": "stream",
     "text": [
      "\n"
     ]
    }
   ],
   "source": [
    "# rep 1:\n",
    "conf.experiment_name = \"E1_1_rep_1\"\n",
    "Exp = Experiment(ExperimentType.E_1_1, config=conf)\n",
    "Exp.run()\n",
    "Exp.save_results(overwrite=True)\n",
    "\n",
    "conf.experiment_name = \"E1_1_rep_2\"\n",
    "Exp = Experiment(ExperimentType.E_1_1, config=conf)\n",
    "Exp.run()\n",
    "Exp.save_results(overwrite=True)\n",
    "\n",
    "conf.experiment_name = \"E1_1_rep_3\"\n",
    "Exp = Experiment(ExperimentType.E_1_1, config=conf)\n",
    "Exp.run()\n",
    "Exp.save_results(overwrite=True)\n",
    "\n"
   ]
  },
  {
   "cell_type": "code",
   "execution_count": 1,
   "metadata": {},
   "outputs": [
    {
     "name": "stdout",
     "output_type": "stream",
     "text": [
      "(4, 64)\n"
     ]
    }
   ],
   "source": [
    "from experiments.experiment_type import ExperimentType, get_experiments_in_group, get_config\n",
    "from experiments.experiment_config import ExperimentConfig\n",
    "from experiments.experiment import Experiment\n",
    "\n",
    "def run_experiment_group(experiment_group):\n",
    "    group:list[ExperimentType] = get_experiments_in_group(experiment_group)\n",
    "    conf:ExperimentConfig = get_config(group[0])\n",
    "    conf.evaluation_interval = conf.epochs\n",
    "    conf.train_model = True\n",
    "    conf.use_tensorboard = True\n",
    "    conf.use_tensorboard = True\n",
    "    conf.detailed_logging = False\n",
    "\n",
    "    for exp in group:\n",
    "        conf.experiment_name = exp.name\n",
    "        Exp = Experiment(experiment_type= exp, config=conf)\n",
    "        Exp.run()\n",
    "        Exp.save_results(overwrite=False)"
   ]
  },
  {
   "cell_type": "markdown",
   "metadata": {},
   "source": [
    "E1_2"
   ]
  },
  {
   "cell_type": "code",
   "execution_count": 3,
   "metadata": {},
   "outputs": [
    {
     "name": "stdout",
     "output_type": "stream",
     "text": [
      "--------------------------------------------------\n"
     ]
    },
    {
     "name": "stderr",
     "output_type": "stream",
     "text": [
      "EPOCH:  96%|█████████▌| 24/25 [00:01<00:00, 12.45it/s]"
     ]
    },
    {
     "name": "stdout",
     "output_type": "stream",
     "text": [
      "Epoch 25/25 Batch 100/100 Trining Loss: 1.9519347250461578\n"
     ]
    },
    {
     "name": "stderr",
     "output_type": "stream",
     "text": [
      "EPOCH: 100%|██████████| 25/25 [00:46<00:00,  1.86s/it]"
     ]
    },
    {
     "name": "stdout",
     "output_type": "stream",
     "text": [
      "Experiment: E_1_2_1(1)_epoch_25 Results, Type: E_1_2_1\n",
      "(ORG)E_1_2_1(1)_epoch_25 E_1_2_1 ACC  TL  Avrg  ORACLE  : 0.5671735405921936\n",
      "(ORG)E_1_2_1(1)_epoch_25 E_1_2_1 ACC  TL  Avrg  NO_ORACLE  : 0.553909420967102\n",
      "(ORG)E_1_2_1(1)_epoch_25 E_1_2_1 ERR  TL  Avrg  ORACLE  : 0.4328264594078064\n",
      "(ORG)E_1_2_1(1)_epoch_25 E_1_2_1 ERR  TL  Avrg  NO_ORACLE  : 0.44609054923057556\n",
      "(ORG)E_1_2_1(1)_epoch_25 E_1_2_1 ACC  SL  Avrg  ORACLE  : 0.06584222614765167\n",
      "(ORG)E_1_2_1(1)_epoch_25 E_1_2_1 ACC  SL  Avrg  NO_ORACLE  : 0.06362011283636093\n",
      "(ORG)E_1_2_1(1)_epoch_25 E_1_2_1 ERR  SL  Avrg  ORACLE  : 0.9341577291488647\n",
      "(ORG)E_1_2_1(1)_epoch_25 E_1_2_1 ERR  SL  Avrg  NO_ORACLE  : 0.9363798499107361\n",
      "Evaluation results will be saved at:  saved_data/eval_results/E_1_2_1(1).json\n",
      "--------------------------------------------------\n"
     ]
    },
    {
     "name": "stderr",
     "output_type": "stream",
     "text": [
      "\n",
      "EPOCH:  96%|█████████▌| 24/25 [00:03<00:00,  6.74it/s]"
     ]
    },
    {
     "name": "stdout",
     "output_type": "stream",
     "text": [
      "Epoch 25/25 Batch 175/175 Trining Loss: 2.1781786382198334\n"
     ]
    },
    {
     "name": "stderr",
     "output_type": "stream",
     "text": [
      "EPOCH: 100%|██████████| 25/25 [00:28<00:00,  1.12s/it]"
     ]
    },
    {
     "name": "stdout",
     "output_type": "stream",
     "text": [
      "Experiment: E_1_2_2(1)_epoch_25 Results, Type: E_1_2_2\n",
      "(ORG)E_1_2_2(1)_epoch_25 E_1_2_2 ACC  TL  Avrg  ORACLE  : 0.7168703079223633\n",
      "(ORG)E_1_2_2(1)_epoch_25 E_1_2_2 ACC  TL  Avrg  NO_ORACLE  : 0.6783039569854736\n",
      "(ORG)E_1_2_2(1)_epoch_25 E_1_2_2 ERR  TL  Avrg  ORACLE  : 0.2831296920776367\n",
      "(ORG)E_1_2_2(1)_epoch_25 E_1_2_2 ERR  TL  Avrg  NO_ORACLE  : 0.32169604301452637\n",
      "(ORG)E_1_2_2(1)_epoch_25 E_1_2_2 ACC  SL  Avrg  ORACLE  : 0.17074955999851227\n",
      "(ORG)E_1_2_2(1)_epoch_25 E_1_2_2 ACC  SL  Avrg  NO_ORACLE  : 0.14161624014377594\n",
      "(ORG)E_1_2_2(1)_epoch_25 E_1_2_2 ERR  SL  Avrg  ORACLE  : 0.8292504549026489\n",
      "(ORG)E_1_2_2(1)_epoch_25 E_1_2_2 ERR  SL  Avrg  NO_ORACLE  : 0.8583837747573853\n",
      "Evaluation results will be saved at:  saved_data/eval_results/E_1_2_2(1).json\n",
      "--------------------------------------------------\n"
     ]
    },
    {
     "name": "stderr",
     "output_type": "stream",
     "text": [
      "\n",
      "EPOCH:  96%|█████████▌| 24/25 [00:07<00:00,  3.36it/s]"
     ]
    },
    {
     "name": "stdout",
     "output_type": "stream",
     "text": [
      "Epoch 25/25 Batch 350/350 Trining Loss: 2.398733377456665\n"
     ]
    },
    {
     "name": "stderr",
     "output_type": "stream",
     "text": [
      "EPOCH: 100%|██████████| 25/25 [00:29<00:00,  1.20s/it]"
     ]
    },
    {
     "name": "stdout",
     "output_type": "stream",
     "text": [
      "Experiment: E_1_2_4(1)_epoch_25 Results, Type: E_1_2_4\n",
      "(ORG)E_1_2_4(1)_epoch_25 E_1_2_4 ACC  TL  Avrg  ORACLE  : 0.8125115036964417\n",
      "(ORG)E_1_2_4(1)_epoch_25 E_1_2_4 ACC  TL  Avrg  NO_ORACLE  : 0.7692246437072754\n",
      "(ORG)E_1_2_4(1)_epoch_25 E_1_2_4 ERR  TL  Avrg  ORACLE  : 0.18748849630355835\n",
      "(ORG)E_1_2_4(1)_epoch_25 E_1_2_4 ERR  TL  Avrg  NO_ORACLE  : 0.2307753711938858\n",
      "(ORG)E_1_2_4(1)_epoch_25 E_1_2_4 ACC  SL  Avrg  ORACLE  : 0.4284646809101105\n",
      "(ORG)E_1_2_4(1)_epoch_25 E_1_2_4 ACC  SL  Avrg  NO_ORACLE  : 0.3452226519584656\n",
      "(ORG)E_1_2_4(1)_epoch_25 E_1_2_4 ERR  SL  Avrg  ORACLE  : 0.5715352892875671\n",
      "(ORG)E_1_2_4(1)_epoch_25 E_1_2_4 ERR  SL  Avrg  NO_ORACLE  : 0.6547772884368896\n",
      "Evaluation results will be saved at:  saved_data/eval_results/E_1_2_4(1).json\n",
      "--------------------------------------------------\n"
     ]
    },
    {
     "name": "stderr",
     "output_type": "stream",
     "text": [
      "\n",
      "EPOCH:  96%|█████████▌| 24/25 [00:14<00:00,  1.70it/s]"
     ]
    },
    {
     "name": "stdout",
     "output_type": "stream",
     "text": [
      "Epoch 25/25 Batch 675/675 Trining Loss: 2.1473857909440994\n"
     ]
    },
    {
     "name": "stderr",
     "output_type": "stream",
     "text": [
      "EPOCH: 100%|██████████| 25/25 [00:30<00:00,  1.22s/it]"
     ]
    },
    {
     "name": "stdout",
     "output_type": "stream",
     "text": [
      "Experiment: E_1_2_8(1)_epoch_25 Results, Type: E_1_2_8\n",
      "(ORG)E_1_2_8(1)_epoch_25 E_1_2_8 ACC  TL  Avrg  ORACLE  : 0.951728343963623\n",
      "(ORG)E_1_2_8(1)_epoch_25 E_1_2_8 ACC  TL  Avrg  NO_ORACLE  : 0.924017608165741\n",
      "(ORG)E_1_2_8(1)_epoch_25 E_1_2_8 ERR  TL  Avrg  ORACLE  : 0.04827165976166725\n",
      "(ORG)E_1_2_8(1)_epoch_25 E_1_2_8 ERR  TL  Avrg  NO_ORACLE  : 0.07598236203193665\n",
      "(ORG)E_1_2_8(1)_epoch_25 E_1_2_8 ACC  SL  Avrg  ORACLE  : 0.8357417583465576\n",
      "(ORG)E_1_2_8(1)_epoch_25 E_1_2_8 ACC  SL  Avrg  NO_ORACLE  : 0.7175902128219604\n",
      "(ORG)E_1_2_8(1)_epoch_25 E_1_2_8 ERR  SL  Avrg  ORACLE  : 0.16425824165344238\n",
      "(ORG)E_1_2_8(1)_epoch_25 E_1_2_8 ERR  SL  Avrg  NO_ORACLE  : 0.28240981698036194\n",
      "Evaluation results will be saved at:  saved_data/eval_results/E_1_2_8(1).json\n"
     ]
    },
    {
     "name": "stderr",
     "output_type": "stream",
     "text": [
      "\n"
     ]
    },
    {
     "name": "stdout",
     "output_type": "stream",
     "text": [
      "--------------------------------------------------\n"
     ]
    },
    {
     "name": "stderr",
     "output_type": "stream",
     "text": [
      "EPOCH:  96%|█████████▌| 24/25 [00:28<00:01,  1.16s/it]"
     ]
    },
    {
     "name": "stdout",
     "output_type": "stream",
     "text": [
      "Epoch 25/25 Batch 1325/1325 Trining Loss: 1.9128750264644623\n"
     ]
    },
    {
     "name": "stderr",
     "output_type": "stream",
     "text": [
      "EPOCH: 100%|██████████| 25/25 [00:47<00:00,  1.90s/it]"
     ]
    },
    {
     "name": "stdout",
     "output_type": "stream",
     "text": [
      "Experiment: E_1_2_16(1)_epoch_25 Results, Type: E_1_2_16\n",
      "(ORG)E_1_2_16(1)_epoch_25 E_1_2_16 ACC  TL  Avrg  ORACLE  : 0.9905275106430054\n",
      "(ORG)E_1_2_16(1)_epoch_25 E_1_2_16 ACC  TL  Avrg  NO_ORACLE  : 0.9892992377281189\n",
      "(ORG)E_1_2_16(1)_epoch_25 E_1_2_16 ERR  TL  Avrg  ORACLE  : 0.00947247538715601\n",
      "(ORG)E_1_2_16(1)_epoch_25 E_1_2_16 ERR  TL  Avrg  NO_ORACLE  : 0.010700756683945656\n",
      "(ORG)E_1_2_16(1)_epoch_25 E_1_2_16 ACC  SL  Avrg  ORACLE  : 0.9578137993812561\n",
      "(ORG)E_1_2_16(1)_epoch_25 E_1_2_16 ACC  SL  Avrg  NO_ORACLE  : 0.9458012580871582\n",
      "(ORG)E_1_2_16(1)_epoch_25 E_1_2_16 ERR  SL  Avrg  ORACLE  : 0.04218616336584091\n",
      "(ORG)E_1_2_16(1)_epoch_25 E_1_2_16 ERR  SL  Avrg  NO_ORACLE  : 0.05419868975877762\n",
      "Evaluation results will be saved at:  saved_data/eval_results/E_1_2_16(1).json\n"
     ]
    },
    {
     "name": "stderr",
     "output_type": "stream",
     "text": [
      "\n"
     ]
    },
    {
     "name": "stdout",
     "output_type": "stream",
     "text": [
      "--------------------------------------------------\n"
     ]
    },
    {
     "name": "stderr",
     "output_type": "stream",
     "text": [
      "EPOCH:  96%|█████████▌| 24/25 [00:55<00:02,  2.31s/it]"
     ]
    },
    {
     "name": "stdout",
     "output_type": "stream",
     "text": [
      "Epoch 25/25 Batch 2625/2625 Trining Loss: 1.7498793185222894\n"
     ]
    },
    {
     "name": "stderr",
     "output_type": "stream",
     "text": [
      "EPOCH: 100%|██████████| 25/25 [01:08<00:00,  2.73s/it]"
     ]
    },
    {
     "name": "stdout",
     "output_type": "stream",
     "text": [
      "Experiment: E_1_2_32(1)_epoch_25 Results, Type: E_1_2_32\n",
      "(ORG)E_1_2_32(1)_epoch_25 E_1_2_32 ACC  TL  Avrg  ORACLE  : 0.9979004263877869\n",
      "(ORG)E_1_2_32(1)_epoch_25 E_1_2_32 ACC  TL  Avrg  NO_ORACLE  : 0.9974148273468018\n",
      "(ORG)E_1_2_32(1)_epoch_25 E_1_2_32 ERR  TL  Avrg  ORACLE  : 0.0020995521917939186\n",
      "(ORG)E_1_2_32(1)_epoch_25 E_1_2_32 ERR  TL  Avrg  NO_ORACLE  : 0.0025851961690932512\n",
      "(ORG)E_1_2_32(1)_epoch_25 E_1_2_32 ACC  SL  Avrg  ORACLE  : 0.9859342575073242\n",
      "(ORG)E_1_2_32(1)_epoch_25 E_1_2_32 ACC  SL  Avrg  NO_ORACLE  : 0.9885364174842834\n",
      "(ORG)E_1_2_32(1)_epoch_25 E_1_2_32 ERR  SL  Avrg  ORACLE  : 0.014065686613321304\n",
      "(ORG)E_1_2_32(1)_epoch_25 E_1_2_32 ERR  SL  Avrg  NO_ORACLE  : 0.011463534086942673\n",
      "Evaluation results will be saved at:  saved_data/eval_results/E_1_2_32(1).json\n"
     ]
    },
    {
     "name": "stderr",
     "output_type": "stream",
     "text": [
      "\n"
     ]
    },
    {
     "name": "stdout",
     "output_type": "stream",
     "text": [
      "--------------------------------------------------\n"
     ]
    },
    {
     "name": "stderr",
     "output_type": "stream",
     "text": [
      "EPOCH:  96%|█████████▌| 24/25 [01:51<00:04,  4.70s/it]"
     ]
    },
    {
     "name": "stdout",
     "output_type": "stream",
     "text": [
      "Epoch 25/25 Batch 5250/5250 Trining Loss: 0.9577598911128007\n"
     ]
    },
    {
     "name": "stderr",
     "output_type": "stream",
     "text": [
      "EPOCH: 100%|██████████| 25/25 [02:02<00:00,  4.89s/it]"
     ]
    },
    {
     "name": "stdout",
     "output_type": "stream",
     "text": [
      "Experiment: E_1_2_64(1)_epoch_25 Results, Type: E_1_2_64\n",
      "(ORG)E_1_2_64(1)_epoch_25 E_1_2_64 ACC  TL  Avrg  ORACLE  : 0.9992334842681885\n",
      "(ORG)E_1_2_64(1)_epoch_25 E_1_2_64 ACC  TL  Avrg  NO_ORACLE  : 0.9994391798973083\n",
      "(ORG)E_1_2_64(1)_epoch_25 E_1_2_64 ERR  TL  Avrg  ORACLE  : 0.0007664912263862789\n",
      "(ORG)E_1_2_64(1)_epoch_25 E_1_2_64 ERR  TL  Avrg  NO_ORACLE  : 0.0005608472274616361\n",
      "(ORG)E_1_2_64(1)_epoch_25 E_1_2_64 ACC  SL  Avrg  ORACLE  : 0.9917640686035156\n",
      "(ORG)E_1_2_64(1)_epoch_25 E_1_2_64 ACC  SL  Avrg  NO_ORACLE  : 0.9954835176467896\n",
      "(ORG)E_1_2_64(1)_epoch_25 E_1_2_64 ERR  SL  Avrg  ORACLE  : 0.008235919289290905\n",
      "(ORG)E_1_2_64(1)_epoch_25 E_1_2_64 ERR  SL  Avrg  NO_ORACLE  : 0.004516471643000841\n",
      "Evaluation results will be saved at:  saved_data/eval_results/E_1_2_64(1).json\n"
     ]
    },
    {
     "name": "stderr",
     "output_type": "stream",
     "text": [
      "\n"
     ]
    }
   ],
   "source": [
    "reps = 3\n",
    "for i in range(reps):\n",
    "    run_experiment_group(\"1_2\")"
   ]
  },
  {
   "cell_type": "markdown",
   "metadata": {},
   "source": [
    " E2"
   ]
  },
  {
   "cell_type": "code",
   "execution_count": 3,
   "metadata": {},
   "outputs": [
    {
     "data": {
      "text/plain": [
       "experiment_name: None\n",
       "emb_dim: 128\n",
       "num_layers: 2\n",
       "num_heads: 8\n",
       "forward_dim: 256\n",
       "dropout: 0.15\n",
       "learning_rate: 0.0002\n",
       "batch_size: 16\n",
       "batch_size_eval: 500\n",
       "grad_clip: 1\n",
       "optimizer: AdamW\n",
       "epochs: 30\n",
       "model_save_path: saved_data/models/\n",
       "tensorboard_log_path: saved_data/tensorboard_runs/\n",
       "results_dict_path: saved_data/eval_results/\n",
       "model_weights_path: None\n",
       "device: cuda\n",
       "train_model: True\n",
       "use_tensorboard: True\n",
       "evaluation_interval: 25\n",
       "k_fold: None\n",
       "detailed_logging: False"
      ]
     },
     "execution_count": 3,
     "metadata": {},
     "output_type": "execute_result"
    }
   ],
   "source": [
    "conf =  E2_Config()\n",
    "conf.train_model = True\n",
    "conf.evaluation_interval = 30\n",
    "conf.use_tensorboard = True\n",
    "conf.use_tensorboard = True\n",
    "conf.detailed_logging = False\n",
    "conf"
   ]
  },
  {
   "cell_type": "code",
   "execution_count": null,
   "metadata": {},
   "outputs": [
    {
     "name": "stdout",
     "output_type": "stream",
     "text": [
      "--------------------------------------------------\n"
     ]
    },
    {
     "name": "stderr",
     "output_type": "stream",
     "text": [
      "EPOCH:  97%|█████████▋| 29/30 [09:24<00:19, 19.56s/it]"
     ]
    },
    {
     "name": "stdout",
     "output_type": "stream",
     "text": [
      "Epoch 30/30 Batch 31860/31860 Trining Loss: 8.982963125992683\n"
     ]
    },
    {
     "name": "stderr",
     "output_type": "stream",
     "text": [
      "EPOCH: 100%|██████████| 30/30 [09:48<00:00, 19.61s/it]"
     ]
    },
    {
     "name": "stdout",
     "output_type": "stream",
     "text": [
      "Experiment: E2_rep_1_epoch_30 Results, Type: E_2\n",
      "(ORG)E2_rep_1_epoch_30 E_2 ACC  TL  Avrg  ORACLE  : 0.7559671401977539\n",
      "(ORG)E2_rep_1_epoch_30 E_2 ACC  TL  Avrg  NO_ORACLE  : 0.5753914713859558\n",
      "(ORG)E2_rep_1_epoch_30 E_2 ERR  TL  Avrg  ORACLE  : 0.2440328299999237\n",
      "(ORG)E2_rep_1_epoch_30 E_2 ERR  TL  Avrg  NO_ORACLE  : 0.4246084988117218\n",
      "(ORG)E2_rep_1_epoch_30 E_2 ACC  SL  Avrg  ORACLE  : 0.1915816217660904\n",
      "(ORG)E2_rep_1_epoch_30 E_2 ACC  SL  Avrg  NO_ORACLE  : 0.0038265304174274206\n",
      "(ORG)E2_rep_1_epoch_30 E_2 ERR  SL  Avrg  ORACLE  : 0.808418333530426\n",
      "(ORG)E2_rep_1_epoch_30 E_2 ERR  SL  Avrg  NO_ORACLE  : 0.9961734414100647\n",
      "The following file will be overwritten: saved_data/eval_results/E2_rep_1.json\n",
      "Evaluation results will be saved at:  saved_data/eval_results/E2_rep_1.json\n"
     ]
    },
    {
     "name": "stderr",
     "output_type": "stream",
     "text": [
      "\n"
     ]
    },
    {
     "name": "stdout",
     "output_type": "stream",
     "text": [
      "--------------------------------------------------\n"
     ]
    },
    {
     "name": "stderr",
     "output_type": "stream",
     "text": [
      "EPOCH:  20%|██        | 6/30 [01:53<07:31, 18.81s/it]"
     ]
    }
   ],
   "source": [
    "# rep 1:\n",
    "conf.experiment_name = \"E2_rep_1\"\n",
    "Exp = Experiment(ExperimentType.E_2, config=conf)\n",
    "Exp.run()\n",
    "Exp.save_results(overwrite=True)\n",
    "\n",
    "conf.experiment_name = \"E2_rep_2\"\n",
    "Exp = Experiment(ExperimentType.E_2, config=conf)\n",
    "Exp.run()\n",
    "Exp.save_results(overwrite=True)\n",
    "\n",
    "conf.experiment_name = \"E2_rep_3\"\n",
    "Exp = Experiment(ExperimentType.E_2, config=conf)\n",
    "Exp.run()\n",
    "Exp.save_results(overwrite=True)\n"
   ]
  },
  {
   "cell_type": "markdown",
   "metadata": {},
   "source": [
    "E 3_1"
   ]
  },
  {
   "cell_type": "code",
   "execution_count": null,
   "metadata": {},
   "outputs": [],
   "source": [
    "conf =  E3_Config()\n",
    "conf.train_model = True\n",
    "conf.evaluation_interval = 20\n",
    "conf.use_tensorboard = True\n",
    "conf.use_tensorboard = True\n",
    "conf.detailed_logging = False\n",
    "conf"
   ]
  },
  {
   "cell_type": "code",
   "execution_count": null,
   "metadata": {},
   "outputs": [],
   "source": [
    "# rep 1:\n",
    "conf.experiment_name = \"E3_1_rep_1\"\n",
    "Exp = Experiment(ExperimentType.E_3_1, config=conf)\n",
    "Exp.run()\n",
    "Exp.save_results(overwrite=True)\n",
    "\n",
    "conf.experiment_name = \"E3_1_rep_2\"\n",
    "Exp = Experiment(ExperimentType.E_3_1, config=conf)\n",
    "Exp.run()\n",
    "Exp.save_results(overwrite=True)\n",
    "\n",
    "conf.experiment_name = \"E3_1_rep_3\"\n",
    "Exp = Experiment(ExperimentType.E_3_1, config=conf)\n",
    "Exp.run()\n",
    "Exp.save_results(overwrite=True)"
   ]
  },
  {
   "cell_type": "markdown",
   "metadata": {},
   "source": [
    "E3_2"
   ]
  },
  {
   "cell_type": "code",
   "execution_count": null,
   "metadata": {},
   "outputs": [],
   "source": [
    "conf =  E3_Config()\n",
    "conf.train_model = True\n",
    "conf.evaluation_interval = 20\n",
    "conf.use_tensorboard = True\n",
    "conf.use_tensorboard = True\n",
    "conf.detailed_logging = False\n",
    "conf"
   ]
  },
  {
   "cell_type": "code",
   "execution_count": null,
   "metadata": {},
   "outputs": [],
   "source": [
    "# rep 1:\n",
    "conf.experiment_name = \"E3_2_rep_1\"\n",
    "Exp = Experiment(ExperimentType.E_3_2, config=conf)\n",
    "Exp.run()\n",
    "Exp.save_results(overwrite=True)\n",
    "\n",
    "conf.experiment_name = \"E3_2_rep_2\"\n",
    "Exp = Experiment(ExperimentType.E_3_2, config=conf)\n",
    "Exp.run()\n",
    "Exp.save_results(overwrite=True)\n",
    "\n",
    "conf.experiment_name = \"E3_2_rep_3\"\n",
    "Exp = Experiment(ExperimentType.E_3_2, config=conf)\n",
    "Exp.run()\n",
    "Exp.save_results(overwrite=True)"
   ]
  },
  {
   "cell_type": "markdown",
   "metadata": {},
   "source": [
    "E3_3"
   ]
  },
  {
   "cell_type": "code",
   "execution_count": null,
   "metadata": {},
   "outputs": [],
   "source": [
    "# No reps, just once each setting\n",
    "run_experiment_group(\"3_3\")"
   ]
  }
 ],
 "metadata": {
  "kernelspec": {
   "display_name": "Python 3",
   "language": "python",
   "name": "python3"
  },
  "language_info": {
   "codemirror_mode": {
    "name": "ipython",
    "version": 3
   },
   "file_extension": ".py",
   "mimetype": "text/x-python",
   "name": "python",
   "nbconvert_exporter": "python",
   "pygments_lexer": "ipython3",
   "version": "3.10.8"
  }
 },
 "nbformat": 4,
 "nbformat_minor": 2
}
