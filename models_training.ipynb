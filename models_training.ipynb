{
 "cells": [
  {
   "cell_type": "markdown",
   "metadata": {},
   "source": [
    "# Training models for all Experiments\n",
    "##### numbers of epoches are based on analysis of k-fold results\n",
    "##### all hyperparams are fixed"
   ]
  },
  {
   "cell_type": "code",
   "execution_count": 2,
   "metadata": {},
   "outputs": [
    {
     "name": "stdout",
     "output_type": "stream",
     "text": [
      "(4, 64)\n"
     ]
    }
   ],
   "source": [
    "from experiments.experiment_type import ExperimentType\n",
    "from experiments.experiment_config import E1_Config,E2_Config,E3_Config\n",
    "from experiments.experiment import Experiment\n",
    "from experiments.utils import merge_results_by_group"
   ]
  },
  {
   "cell_type": "code",
   "execution_count": 3,
   "metadata": {},
   "outputs": [],
   "source": [
    "from experiments.experiment_type import ExperimentType, get_experiments_in_group, get_config\n",
    "from experiments.experiment_config import ExperimentConfig\n",
    "from experiments.experiment import Experiment\n",
    "\n",
    "def run_experiment_group(experiment_group, config, from_epoch=0):\n",
    "    group:list[ExperimentType] = get_experiments_in_group(experiment_group)\n",
    "    for exp in group:\n",
    "        Exp = Experiment(experiment_type= exp, config=config)\n",
    "        Exp.run(from_epoch=from_epoch)\n",
    "        Exp.save_results()"
   ]
  },
  {
   "cell_type": "markdown",
   "metadata": {},
   "source": [
    "E1_1"
   ]
  },
  {
   "cell_type": "code",
   "execution_count": 3,
   "metadata": {},
   "outputs": [
    {
     "data": {
      "text/plain": [
       "-----HYPER PARAMS-----\n",
       "emb_dim: emb_dim: 128\n",
       "num_layers: 1\n",
       "num_heads: 8\n",
       "forward_dim: 512\n",
       "dropout: 0.05\n",
       "learning_rate: 0.0007\n",
       "batch_size: 64\n",
       "batch_size_eval: 500\n",
       "grad_clip: 1\n",
       "optimizer: AdamW\n",
       "epochs: 70\n",
       "--------PATHS---------\n",
       "model_save_path: saved_data/models/E_1/\n",
       "tensorboard_log_path: saved_data/tensorboard_runs/E_1/\n",
       "results_dict_path: saved_data/eval_results/E_1/\n",
       "model_weights_path: None\n",
       "--------OTHER---------\n",
       "experiment_name: AUTO\n",
       "evaluation_interval: 5\n",
       "model_save_interval: 5\n",
       "k_fold: None\n",
       "use_tensorboard: True\n",
       "detailed_logging: False\n",
       "train_model: True\n",
       "overwrite_if_saving: False\n",
       "device: cuda"
      ]
     },
     "execution_count": 3,
     "metadata": {},
     "output_type": "execute_result"
    }
   ],
   "source": [
    "conf =  E1_Config(\n",
    "                epochs = 70,\n",
    "                evaluation_interval = 5,\n",
    "                model_save_interval = 5,\n",
    "                detailed_logging = False,\n",
    "    )\n",
    "conf\n"
   ]
  },
  {
   "cell_type": "code",
   "execution_count": 4,
   "metadata": {},
   "outputs": [
    {
     "name": "stdout",
     "output_type": "stream",
     "text": [
      "--------------------------------------------------\n",
      "Loading model weights from:  saved_data/models/E_1/E_1_1_epoch_45_rep_1.weights\n"
     ]
    },
    {
     "name": "stderr",
     "output_type": "stream",
     "text": [
      "c:\\KU\\ATNLP\\group_repo\\atnlp-project\\experiments\\experiment.py:174: FutureWarning: You are using `torch.load` with `weights_only=False` (the current default value), which uses the default pickle module implicitly. It is possible to construct malicious pickle data which will execute arbitrary code during unpickling (See https://github.com/pytorch/pytorch/blob/main/SECURITY.md#untrusted-models for more details). In a future release, the default value for `weights_only` will be flipped to `True`. This limits the functions that could be executed during unpickling. Arbitrary objects will no longer be allowed to be loaded via this mode unless they are explicitly allowlisted by the user via `torch.serialization.add_safe_globals`. We recommend you start setting `weights_only=True` for any use case where you don't have full control of the loaded file. Please open an issue on GitHub for any issues related to this experimental feature.\n",
      "  self.model.load_state_dict(torch.load(p))\n",
      "EPOCH:  14%|█▍        | 5/35 [00:31<03:22,  6.74s/it]"
     ]
    },
    {
     "name": "stdout",
     "output_type": "stream",
     "text": [
      "Model saved at:  saved_data/models/E_1/E_1_1{resume_45_epoch}_epoch_50_rep_1.weights\n"
     ]
    },
    {
     "name": "stderr",
     "output_type": "stream",
     "text": [
      "EPOCH:  29%|██▊       | 10/35 [01:01<02:43,  6.56s/it]"
     ]
    },
    {
     "name": "stdout",
     "output_type": "stream",
     "text": [
      "Model saved at:  saved_data/models/E_1/E_1_1{resume_45_epoch}_epoch_55_rep_1.weights\n"
     ]
    },
    {
     "name": "stderr",
     "output_type": "stream",
     "text": [
      "EPOCH:  43%|████▎     | 15/35 [01:31<02:12,  6.64s/it]"
     ]
    },
    {
     "name": "stdout",
     "output_type": "stream",
     "text": [
      "Model saved at:  saved_data/models/E_1/E_1_1{resume_45_epoch}_epoch_60_rep_1.weights\n"
     ]
    },
    {
     "name": "stderr",
     "output_type": "stream",
     "text": [
      "EPOCH:  57%|█████▋    | 20/35 [02:02<01:39,  6.61s/it]"
     ]
    },
    {
     "name": "stdout",
     "output_type": "stream",
     "text": [
      "Model saved at:  saved_data/models/E_1/E_1_1{resume_45_epoch}_epoch_65_rep_1.weights\n"
     ]
    },
    {
     "name": "stderr",
     "output_type": "stream",
     "text": [
      "EPOCH:  71%|███████▏  | 25/35 [02:34<01:08,  6.83s/it]"
     ]
    },
    {
     "name": "stdout",
     "output_type": "stream",
     "text": [
      "Model saved at:  saved_data/models/E_1/E_1_1{resume_45_epoch}_epoch_70_rep_1.weights\n"
     ]
    },
    {
     "name": "stderr",
     "output_type": "stream",
     "text": [
      "EPOCH:  86%|████████▌ | 30/35 [03:05<00:34,  6.80s/it]"
     ]
    },
    {
     "name": "stdout",
     "output_type": "stream",
     "text": [
      "Model saved at:  saved_data/models/E_1/E_1_1{resume_45_epoch}_epoch_75_rep_1.weights\n"
     ]
    },
    {
     "name": "stderr",
     "output_type": "stream",
     "text": [
      "EPOCH:  97%|█████████▋| 34/35 [03:28<00:05,  5.95s/it]"
     ]
    },
    {
     "name": "stdout",
     "output_type": "stream",
     "text": [
      "Epoch 80/80 Batch 9170/20960 Trining Loss: 0.4275841870712611\n"
     ]
    },
    {
     "name": "stderr",
     "output_type": "stream",
     "text": [
      "EPOCH: 100%|██████████| 35/35 [03:37<00:00,  6.20s/it]"
     ]
    },
    {
     "name": "stdout",
     "output_type": "stream",
     "text": [
      "Experiment: E_1_1{resume_45_epoch}_rep_1_epoch_80 Results, Type: E_1_1\n",
      "(ORG)E_1_1{resume_45_epoch}_rep_1_epoch_80 E_1_1 ACC  TL  Avrg  ORACLE  : 0.9992116689682007\n",
      "(ORG)E_1_1{resume_45_epoch}_rep_1_epoch_80 E_1_1 ACC  TL  Avrg  NO_ORACLE  : 0.9993458390235901\n",
      "(ORG)E_1_1{resume_45_epoch}_rep_1_epoch_80 E_1_1 ERR  TL  Avrg  ORACLE  : 0.0007883260841481388\n",
      "(ORG)E_1_1{resume_45_epoch}_rep_1_epoch_80 E_1_1 ERR  TL  Avrg  NO_ORACLE  : 0.0006541429320350289\n",
      "(ORG)E_1_1{resume_45_epoch}_rep_1_epoch_80 E_1_1 ACC  SL  Avrg  ORACLE  : 0.9901960492134094\n",
      "(ORG)E_1_1{resume_45_epoch}_rep_1_epoch_80 E_1_1 ACC  SL  Avrg  NO_ORACLE  : 0.9952176213264465\n",
      "(ORG)E_1_1{resume_45_epoch}_rep_1_epoch_80 E_1_1 ERR  SL  Avrg  ORACLE  : 0.009803921915590763\n",
      "(ORG)E_1_1{resume_45_epoch}_rep_1_epoch_80 E_1_1 ERR  SL  Avrg  NO_ORACLE  : 0.00478240055963397\n",
      "Model saved at:  saved_data/models/E_1/E_1_1{resume_45_epoch}_epoch_80_rep_1.weights\n",
      "Training finished for experiment:  E_1_1\n",
      "Evaluation results will be saved at:  saved_data/eval_results/E_1/E_1_1{resume_45_epoch}_rep_1.json\n"
     ]
    },
    {
     "name": "stderr",
     "output_type": "stream",
     "text": [
      "\n"
     ]
    }
   ],
   "source": [
    "Exp = Experiment(ExperimentType.E_1_1, config=conf)\n",
    "Exp.run(from_epoch=45)\n",
    "Exp.save_results()"
   ]
  },
  {
   "cell_type": "markdown",
   "metadata": {},
   "source": [
    "E1_2"
   ]
  },
  {
   "cell_type": "code",
   "execution_count": 4,
   "metadata": {},
   "outputs": [
    {
     "data": {
      "text/plain": [
       "-----HYPER PARAMS-----\n",
       "emb_dim: emb_dim: 128\n",
       "num_layers: 1\n",
       "num_heads: 8\n",
       "forward_dim: 512\n",
       "dropout: 0.05\n",
       "learning_rate: 0.0007\n",
       "batch_size: 64\n",
       "batch_size_eval: 500\n",
       "grad_clip: 1\n",
       "optimizer: AdamW\n",
       "epochs: 70\n",
       "--------PATHS---------\n",
       "model_save_path: saved_data/models/E_1/\n",
       "tensorboard_log_path: saved_data/tensorboard_runs/E_1/\n",
       "results_dict_path: saved_data/eval_results/E_1/\n",
       "model_weights_path: None\n",
       "--------OTHER---------\n",
       "experiment_name: AUTO\n",
       "evaluation_interval: 5\n",
       "model_save_interval: 5\n",
       "k_fold: None\n",
       "use_tensorboard: True\n",
       "detailed_logging: False\n",
       "train_model: True\n",
       "overwrite_if_saving: False\n",
       "device: cuda"
      ]
     },
     "execution_count": 4,
     "metadata": {},
     "output_type": "execute_result"
    }
   ],
   "source": [
    "conf =  E1_Config(\n",
    "                epochs = 70,\n",
    "                evaluation_interval = 5,\n",
    "                model_save_interval = 5,\n",
    "                detailed_logging = False,\n",
    "    )\n",
    "conf"
   ]
  },
  {
   "cell_type": "code",
   "execution_count": 5,
   "metadata": {},
   "outputs": [
    {
     "name": "stdout",
     "output_type": "stream",
     "text": [
      "--------------------------------------------------\n",
      "Loading model weights from:  saved_data/models/E_1/E_1_2_1_epoch_45_rep_1.weights\n"
     ]
    },
    {
     "name": "stderr",
     "output_type": "stream",
     "text": [
      "c:\\KU\\ATNLP\\group_repo\\atnlp-project\\experiments\\experiment.py:174: FutureWarning: You are using `torch.load` with `weights_only=False` (the current default value), which uses the default pickle module implicitly. It is possible to construct malicious pickle data which will execute arbitrary code during unpickling (See https://github.com/pytorch/pytorch/blob/main/SECURITY.md#untrusted-models for more details). In a future release, the default value for `weights_only` will be flipped to `True`. This limits the functions that could be executed during unpickling. Arbitrary objects will no longer be allowed to be loaded via this mode unless they are explicitly allowlisted by the user via `torch.serialization.add_safe_globals`. We recommend you start setting `weights_only=True` for any use case where you don't have full control of the loaded file. Please open an issue on GitHub for any issues related to this experimental feature.\n",
      "  self.model.load_state_dict(torch.load(p))\n",
      "EPOCH:  28%|██▊       | 7/25 [00:26<01:10,  3.89s/it]"
     ]
    },
    {
     "name": "stdout",
     "output_type": "stream",
     "text": [
      "Model saved at:  saved_data/models/E_1/E_1_2_1{resume_45_epoch}_epoch_50_rep_2.weights\n"
     ]
    },
    {
     "name": "stderr",
     "output_type": "stream",
     "text": [
      "EPOCH:  48%|████▊     | 12/25 [00:51<00:57,  4.45s/it]"
     ]
    },
    {
     "name": "stdout",
     "output_type": "stream",
     "text": [
      "Model saved at:  saved_data/models/E_1/E_1_2_1{resume_45_epoch}_epoch_55_rep_1.weights\n"
     ]
    },
    {
     "name": "stderr",
     "output_type": "stream",
     "text": [
      "EPOCH:  68%|██████▊   | 17/25 [01:17<00:38,  4.81s/it]"
     ]
    },
    {
     "name": "stdout",
     "output_type": "stream",
     "text": [
      "Model saved at:  saved_data/models/E_1/E_1_2_1{resume_45_epoch}_epoch_60_rep_1.weights\n"
     ]
    },
    {
     "name": "stderr",
     "output_type": "stream",
     "text": [
      "EPOCH:  88%|████████▊ | 22/25 [01:43<00:14,  4.96s/it]"
     ]
    },
    {
     "name": "stdout",
     "output_type": "stream",
     "text": [
      "Model saved at:  saved_data/models/E_1/E_1_2_1{resume_45_epoch}_epoch_65_rep_1.weights\n"
     ]
    },
    {
     "name": "stderr",
     "output_type": "stream",
     "text": [
      "EPOCH:  96%|█████████▌| 24/25 [01:43<00:03,  3.31s/it]"
     ]
    },
    {
     "name": "stdout",
     "output_type": "stream",
     "text": [
      "Epoch 70/70 Batch 100/280 Trining Loss: 0.2522483877837658\n"
     ]
    },
    {
     "name": "stderr",
     "output_type": "stream",
     "text": [
      "EPOCH: 100%|██████████| 25/25 [02:09<00:00,  5.18s/it]"
     ]
    },
    {
     "name": "stdout",
     "output_type": "stream",
     "text": [
      "Experiment: E_1_2_1{resume_45_epoch}_rep_1_epoch_70 Results, Type: E_1_2_1\n",
      "(ORG)E_1_2_1{resume_45_epoch}_rep_1_epoch_70 E_1_2_1 ACC  TL  Avrg  ORACLE  : 0.696587860584259\n",
      "(ORG)E_1_2_1{resume_45_epoch}_rep_1_epoch_70 E_1_2_1 ACC  TL  Avrg  NO_ORACLE  : 0.6368522047996521\n",
      "(ORG)E_1_2_1{resume_45_epoch}_rep_1_epoch_70 E_1_2_1 ERR  TL  Avrg  ORACLE  : 0.3034121096134186\n",
      "(ORG)E_1_2_1{resume_45_epoch}_rep_1_epoch_70 E_1_2_1 ERR  TL  Avrg  NO_ORACLE  : 0.3631477653980255\n",
      "(ORG)E_1_2_1{resume_45_epoch}_rep_1_epoch_70 E_1_2_1 ACC  SL  Avrg  ORACLE  : 0.17081300914287567\n",
      "(ORG)E_1_2_1{resume_45_epoch}_rep_1_epoch_70 E_1_2_1 ACC  SL  Avrg  NO_ORACLE  : 0.13274720311164856\n",
      "(ORG)E_1_2_1{resume_45_epoch}_rep_1_epoch_70 E_1_2_1 ERR  SL  Avrg  ORACLE  : 0.8291869759559631\n",
      "(ORG)E_1_2_1{resume_45_epoch}_rep_1_epoch_70 E_1_2_1 ERR  SL  Avrg  NO_ORACLE  : 0.867252767086029\n",
      "Model saved at:  saved_data/models/E_1/E_1_2_1{resume_45_epoch}_epoch_70_rep_1.weights\n",
      "Training finished for experiment:  E_1_2_1\n",
      "Evaluation results will be saved at:  saved_data/eval_results/E_1/E_1_2_1{resume_45_epoch}_rep_2.json\n",
      "--------------------------------------------------\n"
     ]
    },
    {
     "name": "stderr",
     "output_type": "stream",
     "text": [
      "\n",
      "c:\\KU\\ATNLP\\group_repo\\atnlp-project\\experiments\\experiment.py:174: FutureWarning: You are using `torch.load` with `weights_only=False` (the current default value), which uses the default pickle module implicitly. It is possible to construct malicious pickle data which will execute arbitrary code during unpickling (See https://github.com/pytorch/pytorch/blob/main/SECURITY.md#untrusted-models for more details). In a future release, the default value for `weights_only` will be flipped to `True`. This limits the functions that could be executed during unpickling. Arbitrary objects will no longer be allowed to be loaded via this mode unless they are explicitly allowlisted by the user via `torch.serialization.add_safe_globals`. We recommend you start setting `weights_only=True` for any use case where you don't have full control of the loaded file. Please open an issue on GitHub for any issues related to this experimental feature.\n",
      "  self.model.load_state_dict(torch.load(p))\n"
     ]
    },
    {
     "name": "stdout",
     "output_type": "stream",
     "text": [
      "Loading model weights from:  saved_data/models/E_1/E_1_2_2_epoch_45_rep_1.weights\n"
     ]
    },
    {
     "name": "stderr",
     "output_type": "stream",
     "text": [
      "EPOCH:  24%|██▍       | 6/25 [00:25<01:51,  5.89s/it]"
     ]
    },
    {
     "name": "stdout",
     "output_type": "stream",
     "text": [
      "Model saved at:  saved_data/models/E_1/E_1_2_2{resume_45_epoch}_epoch_50_rep_2.weights\n"
     ]
    },
    {
     "name": "stderr",
     "output_type": "stream",
     "text": [
      "EPOCH:  44%|████▍     | 11/25 [00:51<01:29,  6.41s/it]"
     ]
    },
    {
     "name": "stdout",
     "output_type": "stream",
     "text": [
      "Model saved at:  saved_data/models/E_1/E_1_2_2{resume_45_epoch}_epoch_55_rep_1.weights\n"
     ]
    },
    {
     "name": "stderr",
     "output_type": "stream",
     "text": [
      "EPOCH:  64%|██████▍   | 16/25 [01:17<00:58,  6.52s/it]"
     ]
    },
    {
     "name": "stdout",
     "output_type": "stream",
     "text": [
      "Model saved at:  saved_data/models/E_1/E_1_2_2{resume_45_epoch}_epoch_60_rep_1.weights\n"
     ]
    },
    {
     "name": "stderr",
     "output_type": "stream",
     "text": [
      "EPOCH:  84%|████████▍ | 21/25 [01:42<00:25,  6.49s/it]"
     ]
    },
    {
     "name": "stdout",
     "output_type": "stream",
     "text": [
      "Model saved at:  saved_data/models/E_1/E_1_2_2{resume_45_epoch}_epoch_65_rep_1.weights\n"
     ]
    },
    {
     "name": "stderr",
     "output_type": "stream",
     "text": [
      "EPOCH:  96%|█████████▌| 24/25 [01:43<00:02,  2.32s/it]"
     ]
    },
    {
     "name": "stdout",
     "output_type": "stream",
     "text": [
      "Epoch 70/70 Batch 175/490 Trining Loss: 0.35381364077329636\n"
     ]
    },
    {
     "name": "stderr",
     "output_type": "stream",
     "text": [
      "EPOCH: 100%|██████████| 25/25 [02:08<00:00,  5.14s/it]"
     ]
    },
    {
     "name": "stdout",
     "output_type": "stream",
     "text": [
      "Experiment: E_1_2_2{resume_45_epoch}_rep_1_epoch_70 Results, Type: E_1_2_2\n",
      "(ORG)E_1_2_2{resume_45_epoch}_rep_1_epoch_70 E_1_2_2 ACC  TL  Avrg  ORACLE  : 0.8108397126197815\n",
      "(ORG)E_1_2_2{resume_45_epoch}_rep_1_epoch_70 E_1_2_2 ACC  TL  Avrg  NO_ORACLE  : 0.7526056170463562\n",
      "(ORG)E_1_2_2{resume_45_epoch}_rep_1_epoch_70 E_1_2_2 ERR  TL  Avrg  ORACLE  : 0.1891603171825409\n",
      "(ORG)E_1_2_2{resume_45_epoch}_rep_1_epoch_70 E_1_2_2 ERR  TL  Avrg  NO_ORACLE  : 0.2473943680524826\n",
      "(ORG)E_1_2_2{resume_45_epoch}_rep_1_epoch_70 E_1_2_2 ACC  SL  Avrg  ORACLE  : 0.4378294050693512\n",
      "(ORG)E_1_2_2{resume_45_epoch}_rep_1_epoch_70 E_1_2_2 ACC  SL  Avrg  NO_ORACLE  : 0.3547237813472748\n",
      "(ORG)E_1_2_2{resume_45_epoch}_rep_1_epoch_70 E_1_2_2 ERR  SL  Avrg  ORACLE  : 0.5621706247329712\n",
      "(ORG)E_1_2_2{resume_45_epoch}_rep_1_epoch_70 E_1_2_2 ERR  SL  Avrg  NO_ORACLE  : 0.6452761888504028\n",
      "Model saved at:  saved_data/models/E_1/E_1_2_2{resume_45_epoch}_epoch_70_rep_1.weights\n",
      "Training finished for experiment:  E_1_2_2\n",
      "Evaluation results will be saved at:  saved_data/eval_results/E_1/E_1_2_2{resume_45_epoch}_rep_2.json\n",
      "--------------------------------------------------\n"
     ]
    },
    {
     "name": "stderr",
     "output_type": "stream",
     "text": [
      "\n"
     ]
    },
    {
     "name": "stdout",
     "output_type": "stream",
     "text": [
      "Loading model weights from:  saved_data/models/E_1/E_1_2_4_epoch_45_rep_1.weights\n"
     ]
    },
    {
     "name": "stderr",
     "output_type": "stream",
     "text": [
      "EPOCH:  20%|██        | 5/25 [00:23<02:46,  8.34s/it]"
     ]
    },
    {
     "name": "stdout",
     "output_type": "stream",
     "text": [
      "Model saved at:  saved_data/models/E_1/E_1_2_4{resume_45_epoch}_epoch_50_rep_2.weights\n"
     ]
    },
    {
     "name": "stderr",
     "output_type": "stream",
     "text": [
      "EPOCH:  40%|████      | 10/25 [00:48<02:07,  8.53s/it]"
     ]
    },
    {
     "name": "stdout",
     "output_type": "stream",
     "text": [
      "Model saved at:  saved_data/models/E_1/E_1_2_4{resume_45_epoch}_epoch_55_rep_1.weights\n"
     ]
    },
    {
     "name": "stderr",
     "output_type": "stream",
     "text": [
      "EPOCH:  60%|██████    | 15/25 [01:04<01:01,  6.14s/it]"
     ]
    },
    {
     "name": "stdout",
     "output_type": "stream",
     "text": [
      "Model saved at:  saved_data/models/E_1/E_1_2_4{resume_45_epoch}_epoch_60_rep_1.weights\n"
     ]
    },
    {
     "name": "stderr",
     "output_type": "stream",
     "text": [
      "EPOCH:  80%|████████  | 20/25 [01:26<00:37,  7.50s/it]"
     ]
    },
    {
     "name": "stdout",
     "output_type": "stream",
     "text": [
      "Model saved at:  saved_data/models/E_1/E_1_2_4{resume_45_epoch}_epoch_65_rep_1.weights\n"
     ]
    },
    {
     "name": "stderr",
     "output_type": "stream",
     "text": [
      "EPOCH:  96%|█████████▌| 24/25 [01:27<00:02,  2.02s/it]"
     ]
    },
    {
     "name": "stdout",
     "output_type": "stream",
     "text": [
      "Epoch 70/70 Batch 350/980 Trining Loss: 0.6508431956171989\n"
     ]
    },
    {
     "name": "stderr",
     "output_type": "stream",
     "text": [
      "EPOCH: 100%|██████████| 25/25 [01:51<00:00,  4.47s/it]"
     ]
    },
    {
     "name": "stdout",
     "output_type": "stream",
     "text": [
      "Experiment: E_1_2_4{resume_45_epoch}_rep_1_epoch_70 Results, Type: E_1_2_4\n",
      "(ORG)E_1_2_4{resume_45_epoch}_rep_1_epoch_70 E_1_2_4 ACC  TL  Avrg  ORACLE  : 0.9098235964775085\n",
      "(ORG)E_1_2_4{resume_45_epoch}_rep_1_epoch_70 E_1_2_4 ACC  TL  Avrg  NO_ORACLE  : 0.8777371048927307\n",
      "(ORG)E_1_2_4{resume_45_epoch}_rep_1_epoch_70 E_1_2_4 ERR  TL  Avrg  ORACLE  : 0.09017638117074966\n",
      "(ORG)E_1_2_4{resume_45_epoch}_rep_1_epoch_70 E_1_2_4 ERR  TL  Avrg  NO_ORACLE  : 0.1222628653049469\n",
      "(ORG)E_1_2_4{resume_45_epoch}_rep_1_epoch_70 E_1_2_4 ACC  SL  Avrg  ORACLE  : 0.6839194893836975\n",
      "(ORG)E_1_2_4{resume_45_epoch}_rep_1_epoch_70 E_1_2_4 ACC  SL  Avrg  NO_ORACLE  : 0.586181104183197\n",
      "(ORG)E_1_2_4{resume_45_epoch}_rep_1_epoch_70 E_1_2_4 ERR  SL  Avrg  ORACLE  : 0.3160805106163025\n",
      "(ORG)E_1_2_4{resume_45_epoch}_rep_1_epoch_70 E_1_2_4 ERR  SL  Avrg  NO_ORACLE  : 0.4138188660144806\n",
      "Model saved at:  saved_data/models/E_1/E_1_2_4{resume_45_epoch}_epoch_70_rep_1.weights\n",
      "Training finished for experiment:  E_1_2_4\n",
      "Evaluation results will be saved at:  saved_data/eval_results/E_1/E_1_2_4{resume_45_epoch}_rep_2.json\n",
      "--------------------------------------------------\n"
     ]
    },
    {
     "name": "stderr",
     "output_type": "stream",
     "text": [
      "\n"
     ]
    },
    {
     "name": "stdout",
     "output_type": "stream",
     "text": [
      "Loading model weights from:  saved_data/models/E_1/E_1_2_8_epoch_45_rep_1.weights\n"
     ]
    },
    {
     "name": "stderr",
     "output_type": "stream",
     "text": [
      "EPOCH:  20%|██        | 5/25 [00:20<02:19,  7.00s/it]"
     ]
    },
    {
     "name": "stdout",
     "output_type": "stream",
     "text": [
      "Model saved at:  saved_data/models/E_1/E_1_2_8{resume_45_epoch}_epoch_50_rep_2.weights\n"
     ]
    },
    {
     "name": "stderr",
     "output_type": "stream",
     "text": [
      "EPOCH:  40%|████      | 10/25 [00:40<01:41,  6.76s/it]"
     ]
    },
    {
     "name": "stdout",
     "output_type": "stream",
     "text": [
      "Model saved at:  saved_data/models/E_1/E_1_2_8{resume_45_epoch}_epoch_55_rep_1.weights\n"
     ]
    },
    {
     "name": "stderr",
     "output_type": "stream",
     "text": [
      "EPOCH:  60%|██████    | 15/25 [00:59<01:03,  6.36s/it]"
     ]
    },
    {
     "name": "stdout",
     "output_type": "stream",
     "text": [
      "Model saved at:  saved_data/models/E_1/E_1_2_8{resume_45_epoch}_epoch_60_rep_1.weights\n"
     ]
    },
    {
     "name": "stderr",
     "output_type": "stream",
     "text": [
      "EPOCH:  80%|████████  | 20/25 [01:22<00:38,  7.64s/it]"
     ]
    },
    {
     "name": "stdout",
     "output_type": "stream",
     "text": [
      "Model saved at:  saved_data/models/E_1/E_1_2_8{resume_45_epoch}_epoch_65_rep_1.weights\n"
     ]
    },
    {
     "name": "stderr",
     "output_type": "stream",
     "text": [
      "EPOCH:  96%|█████████▌| 24/25 [01:24<00:02,  2.25s/it]"
     ]
    },
    {
     "name": "stdout",
     "output_type": "stream",
     "text": [
      "Epoch 70/70 Batch 675/1890 Trining Loss: 0.6888077361509204\n"
     ]
    },
    {
     "name": "stderr",
     "output_type": "stream",
     "text": [
      "EPOCH: 100%|██████████| 25/25 [01:45<00:00,  4.23s/it]"
     ]
    },
    {
     "name": "stdout",
     "output_type": "stream",
     "text": [
      "Experiment: E_1_2_8{resume_45_epoch}_rep_1_epoch_70 Results, Type: E_1_2_8\n",
      "(ORG)E_1_2_8{resume_45_epoch}_rep_1_epoch_70 E_1_2_8 ACC  TL  Avrg  ORACLE  : 0.981487512588501\n",
      "(ORG)E_1_2_8{resume_45_epoch}_rep_1_epoch_70 E_1_2_8 ACC  TL  Avrg  NO_ORACLE  : 0.9792577624320984\n",
      "(ORG)E_1_2_8{resume_45_epoch}_rep_1_epoch_70 E_1_2_8 ERR  TL  Avrg  ORACLE  : 0.018512476235628128\n",
      "(ORG)E_1_2_8{resume_45_epoch}_rep_1_epoch_70 E_1_2_8 ERR  TL  Avrg  NO_ORACLE  : 0.02074223943054676\n",
      "(ORG)E_1_2_8{resume_45_epoch}_rep_1_epoch_70 E_1_2_8 ACC  SL  Avrg  ORACLE  : 0.9209896922111511\n",
      "(ORG)E_1_2_8{resume_45_epoch}_rep_1_epoch_70 E_1_2_8 ACC  SL  Avrg  NO_ORACLE  : 0.9086703658103943\n",
      "(ORG)E_1_2_8{resume_45_epoch}_rep_1_epoch_70 E_1_2_8 ERR  SL  Avrg  ORACLE  : 0.07901029288768768\n",
      "(ORG)E_1_2_8{resume_45_epoch}_rep_1_epoch_70 E_1_2_8 ERR  SL  Avrg  NO_ORACLE  : 0.0913296565413475\n",
      "Model saved at:  saved_data/models/E_1/E_1_2_8{resume_45_epoch}_epoch_70_rep_1.weights\n",
      "Training finished for experiment:  E_1_2_8\n",
      "Evaluation results will be saved at:  saved_data/eval_results/E_1/E_1_2_8{resume_45_epoch}_rep_2.json\n"
     ]
    },
    {
     "name": "stderr",
     "output_type": "stream",
     "text": [
      "\n"
     ]
    },
    {
     "name": "stdout",
     "output_type": "stream",
     "text": [
      "--------------------------------------------------\n",
      "Loading model weights from:  saved_data/models/E_1/E_1_2_16_epoch_45_rep_1.weights\n"
     ]
    },
    {
     "name": "stderr",
     "output_type": "stream",
     "text": [
      "EPOCH:  20%|██        | 5/25 [00:19<02:04,  6.22s/it]"
     ]
    },
    {
     "name": "stdout",
     "output_type": "stream",
     "text": [
      "Model saved at:  saved_data/models/E_1/E_1_2_16{resume_45_epoch}_epoch_50_rep_2.weights\n"
     ]
    },
    {
     "name": "stderr",
     "output_type": "stream",
     "text": [
      "EPOCH:  40%|████      | 10/25 [00:39<01:32,  6.14s/it]"
     ]
    },
    {
     "name": "stdout",
     "output_type": "stream",
     "text": [
      "Model saved at:  saved_data/models/E_1/E_1_2_16{resume_45_epoch}_epoch_55_rep_1.weights\n"
     ]
    },
    {
     "name": "stderr",
     "output_type": "stream",
     "text": [
      "EPOCH:  60%|██████    | 15/25 [01:00<01:05,  6.53s/it]"
     ]
    },
    {
     "name": "stdout",
     "output_type": "stream",
     "text": [
      "Model saved at:  saved_data/models/E_1/E_1_2_16{resume_45_epoch}_epoch_60_rep_1.weights\n"
     ]
    },
    {
     "name": "stderr",
     "output_type": "stream",
     "text": [
      "EPOCH:  80%|████████  | 20/25 [01:18<00:29,  5.84s/it]"
     ]
    },
    {
     "name": "stdout",
     "output_type": "stream",
     "text": [
      "Model saved at:  saved_data/models/E_1/E_1_2_16{resume_45_epoch}_epoch_65_rep_1.weights\n"
     ]
    },
    {
     "name": "stderr",
     "output_type": "stream",
     "text": [
      "EPOCH:  96%|█████████▌| 24/25 [01:22<00:02,  2.22s/it]"
     ]
    },
    {
     "name": "stdout",
     "output_type": "stream",
     "text": [
      "Epoch 70/70 Batch 1325/3710 Trining Loss: 0.5812381482683122\n"
     ]
    },
    {
     "name": "stderr",
     "output_type": "stream",
     "text": [
      "EPOCH: 100%|██████████| 25/25 [01:37<00:00,  3.92s/it]"
     ]
    },
    {
     "name": "stdout",
     "output_type": "stream",
     "text": [
      "Experiment: E_1_2_16{resume_45_epoch}_rep_1_epoch_70 Results, Type: E_1_2_16\n",
      "(ORG)E_1_2_16{resume_45_epoch}_rep_1_epoch_70 E_1_2_16 ACC  TL  Avrg  ORACLE  : 0.9987438917160034\n",
      "(ORG)E_1_2_16{resume_45_epoch}_rep_1_epoch_70 E_1_2_16 ACC  TL  Avrg  NO_ORACLE  : 0.9976269006729126\n",
      "(ORG)E_1_2_16{resume_45_epoch}_rep_1_epoch_70 E_1_2_16 ERR  TL  Avrg  ORACLE  : 0.0012561066541820765\n",
      "(ORG)E_1_2_16{resume_45_epoch}_rep_1_epoch_70 E_1_2_16 ERR  TL  Avrg  NO_ORACLE  : 0.002373087452724576\n",
      "(ORG)E_1_2_16{resume_45_epoch}_rep_1_epoch_70 E_1_2_16 ACC  SL  Avrg  ORACLE  : 0.9866780638694763\n",
      "(ORG)E_1_2_16{resume_45_epoch}_rep_1_epoch_70 E_1_2_16 ACC  SL  Avrg  NO_ORACLE  : 0.9851978421211243\n",
      "(ORG)E_1_2_16{resume_45_epoch}_rep_1_epoch_70 E_1_2_16 ERR  SL  Avrg  ORACLE  : 0.013321947306394577\n",
      "(ORG)E_1_2_16{resume_45_epoch}_rep_1_epoch_70 E_1_2_16 ERR  SL  Avrg  NO_ORACLE  : 0.01480216346681118\n",
      "Model saved at:  saved_data/models/E_1/E_1_2_16{resume_45_epoch}_epoch_70_rep_1.weights\n",
      "Training finished for experiment:  E_1_2_16\n",
      "Evaluation results will be saved at:  saved_data/eval_results/E_1/E_1_2_16{resume_45_epoch}_rep_2.json\n"
     ]
    },
    {
     "name": "stderr",
     "output_type": "stream",
     "text": [
      "\n"
     ]
    },
    {
     "name": "stdout",
     "output_type": "stream",
     "text": [
      "--------------------------------------------------\n",
      "Loading model weights from:  saved_data/models/E_1/E_1_2_32_epoch_45_rep_1.weights\n"
     ]
    },
    {
     "name": "stderr",
     "output_type": "stream",
     "text": [
      "EPOCH:  20%|██        | 5/25 [00:21<01:57,  5.86s/it]"
     ]
    },
    {
     "name": "stdout",
     "output_type": "stream",
     "text": [
      "Model saved at:  saved_data/models/E_1/E_1_2_32{resume_45_epoch}_epoch_50_rep_2.weights\n"
     ]
    },
    {
     "name": "stderr",
     "output_type": "stream",
     "text": [
      "EPOCH:  40%|████      | 10/25 [00:41<01:26,  5.78s/it]"
     ]
    },
    {
     "name": "stdout",
     "output_type": "stream",
     "text": [
      "Model saved at:  saved_data/models/E_1/E_1_2_32{resume_45_epoch}_epoch_55_rep_1.weights\n"
     ]
    },
    {
     "name": "stderr",
     "output_type": "stream",
     "text": [
      "EPOCH:  60%|██████    | 15/25 [01:03<00:58,  5.89s/it]"
     ]
    },
    {
     "name": "stdout",
     "output_type": "stream",
     "text": [
      "Model saved at:  saved_data/models/E_1/E_1_2_32{resume_45_epoch}_epoch_60_rep_1.weights\n"
     ]
    },
    {
     "name": "stderr",
     "output_type": "stream",
     "text": [
      "EPOCH:  80%|████████  | 20/25 [01:24<00:29,  5.87s/it]"
     ]
    },
    {
     "name": "stdout",
     "output_type": "stream",
     "text": [
      "Model saved at:  saved_data/models/E_1/E_1_2_32{resume_45_epoch}_epoch_65_rep_1.weights\n"
     ]
    },
    {
     "name": "stderr",
     "output_type": "stream",
     "text": [
      "EPOCH:  96%|█████████▌| 24/25 [01:32<00:03,  3.03s/it]"
     ]
    },
    {
     "name": "stdout",
     "output_type": "stream",
     "text": [
      "Epoch 70/70 Batch 2625/7350 Trining Loss: 1.020118145737797\n"
     ]
    },
    {
     "name": "stderr",
     "output_type": "stream",
     "text": [
      "EPOCH: 100%|██████████| 25/25 [01:45<00:00,  4.24s/it]"
     ]
    },
    {
     "name": "stdout",
     "output_type": "stream",
     "text": [
      "Experiment: E_1_2_32{resume_45_epoch}_rep_1_epoch_70 Results, Type: E_1_2_32\n",
      "(ORG)E_1_2_32{resume_45_epoch}_rep_1_epoch_70 E_1_2_32 ACC  TL  Avrg  ORACLE  : 0.998866856098175\n",
      "(ORG)E_1_2_32{resume_45_epoch}_rep_1_epoch_70 E_1_2_32 ACC  TL  Avrg  NO_ORACLE  : 0.9990532398223877\n",
      "(ORG)E_1_2_32{resume_45_epoch}_rep_1_epoch_70 E_1_2_32 ERR  TL  Avrg  ORACLE  : 0.001133169513195753\n",
      "(ORG)E_1_2_32{resume_45_epoch}_rep_1_epoch_70 E_1_2_32 ERR  TL  Avrg  NO_ORACLE  : 0.000946760643273592\n",
      "(ORG)E_1_2_32{resume_45_epoch}_rep_1_epoch_70 E_1_2_32 ACC  SL  Avrg  ORACLE  : 0.9869189262390137\n",
      "(ORG)E_1_2_32{resume_45_epoch}_rep_1_epoch_70 E_1_2_32 ACC  SL  Avrg  NO_ORACLE  : 0.9917012453079224\n",
      "(ORG)E_1_2_32{resume_45_epoch}_rep_1_epoch_70 E_1_2_32 ERR  SL  Avrg  ORACLE  : 0.013081088662147522\n",
      "(ORG)E_1_2_32{resume_45_epoch}_rep_1_epoch_70 E_1_2_32 ERR  SL  Avrg  NO_ORACLE  : 0.008298755623400211\n",
      "Model saved at:  saved_data/models/E_1/E_1_2_32{resume_45_epoch}_epoch_70_rep_1.weights\n",
      "Training finished for experiment:  E_1_2_32\n",
      "Evaluation results will be saved at:  saved_data/eval_results/E_1/E_1_2_32{resume_45_epoch}_rep_2.json\n"
     ]
    },
    {
     "name": "stderr",
     "output_type": "stream",
     "text": [
      "\n"
     ]
    },
    {
     "name": "stdout",
     "output_type": "stream",
     "text": [
      "--------------------------------------------------\n",
      "Loading model weights from:  saved_data/models/E_1/E_1_2_64_epoch_45_rep_1.weights\n"
     ]
    },
    {
     "name": "stderr",
     "output_type": "stream",
     "text": [
      "EPOCH:  20%|██        | 5/25 [00:27<02:06,  6.32s/it]"
     ]
    },
    {
     "name": "stdout",
     "output_type": "stream",
     "text": [
      "Model saved at:  saved_data/models/E_1/E_1_2_64{resume_45_epoch}_epoch_50_rep_2.weights\n"
     ]
    },
    {
     "name": "stderr",
     "output_type": "stream",
     "text": [
      "EPOCH:  40%|████      | 10/25 [00:54<01:34,  6.29s/it]"
     ]
    },
    {
     "name": "stdout",
     "output_type": "stream",
     "text": [
      "Model saved at:  saved_data/models/E_1/E_1_2_64{resume_45_epoch}_epoch_55_rep_1.weights\n"
     ]
    },
    {
     "name": "stderr",
     "output_type": "stream",
     "text": [
      "EPOCH:  60%|██████    | 15/25 [01:21<01:02,  6.29s/it]"
     ]
    },
    {
     "name": "stdout",
     "output_type": "stream",
     "text": [
      "Model saved at:  saved_data/models/E_1/E_1_2_64{resume_45_epoch}_epoch_60_rep_1.weights\n"
     ]
    },
    {
     "name": "stderr",
     "output_type": "stream",
     "text": [
      "EPOCH:  80%|████████  | 20/25 [01:48<00:31,  6.32s/it]"
     ]
    },
    {
     "name": "stdout",
     "output_type": "stream",
     "text": [
      "Model saved at:  saved_data/models/E_1/E_1_2_64{resume_45_epoch}_epoch_65_rep_1.weights\n"
     ]
    },
    {
     "name": "stderr",
     "output_type": "stream",
     "text": [
      "EPOCH:  96%|█████████▌| 24/25 [02:05<00:04,  4.82s/it]"
     ]
    },
    {
     "name": "stdout",
     "output_type": "stream",
     "text": [
      "Epoch 70/70 Batch 5250/14700 Trining Loss: 0.5479648303662543\n"
     ]
    },
    {
     "name": "stderr",
     "output_type": "stream",
     "text": [
      "EPOCH: 100%|██████████| 25/25 [02:15<00:00,  5.43s/it]"
     ]
    },
    {
     "name": "stdout",
     "output_type": "stream",
     "text": [
      "Experiment: E_1_2_64{resume_45_epoch}_rep_1_epoch_70 Results, Type: E_1_2_64\n",
      "(ORG)E_1_2_64{resume_45_epoch}_rep_1_epoch_70 E_1_2_64 ACC  TL  Avrg  ORACLE  : 0.9995700120925903\n",
      "(ORG)E_1_2_64{resume_45_epoch}_rep_1_epoch_70 E_1_2_64 ACC  TL  Avrg  NO_ORACLE  : 0.9999345541000366\n",
      "(ORG)E_1_2_64{resume_45_epoch}_rep_1_epoch_70 E_1_2_64 ERR  TL  Avrg  ORACLE  : 0.0004299829015508294\n",
      "(ORG)E_1_2_64{resume_45_epoch}_rep_1_epoch_70 E_1_2_64 ERR  TL  Avrg  NO_ORACLE  : 6.543217750731856e-05\n",
      "(ORG)E_1_2_64{resume_45_epoch}_rep_1_epoch_70 E_1_2_64 ACC  SL  Avrg  ORACLE  : 0.9941551685333252\n",
      "(ORG)E_1_2_64{resume_45_epoch}_rep_1_epoch_70 E_1_2_64 ACC  SL  Avrg  NO_ORACLE  : 0.9994686245918274\n",
      "(ORG)E_1_2_64{resume_45_epoch}_rep_1_epoch_70 E_1_2_64 ERR  SL  Avrg  ORACLE  : 0.005844845902174711\n",
      "(ORG)E_1_2_64{resume_45_epoch}_rep_1_epoch_70 E_1_2_64 ERR  SL  Avrg  NO_ORACLE  : 0.0005313496221788228\n",
      "Model saved at:  saved_data/models/E_1/E_1_2_64{resume_45_epoch}_epoch_70_rep_1.weights\n",
      "Training finished for experiment:  E_1_2_64\n",
      "Evaluation results will be saved at:  saved_data/eval_results/E_1/E_1_2_64{resume_45_epoch}_rep_2.json\n"
     ]
    },
    {
     "name": "stderr",
     "output_type": "stream",
     "text": [
      "\n"
     ]
    }
   ],
   "source": [
    "run_experiment_group(\"1_2\",config=conf, from_epoch=45)"
   ]
  },
  {
   "cell_type": "markdown",
   "metadata": {},
   "source": [
    "Merge results for Experiment 1"
   ]
  },
  {
   "cell_type": "code",
   "execution_count": 6,
   "metadata": {},
   "outputs": [
    {
     "name": "stdout",
     "output_type": "stream",
     "text": [
      "Loading E1.json\n",
      "Loading E_1_1_rep_1.json\n",
      "Loading E_1_1{resume_45_epoch}_rep_1.json\n",
      "Loading E_1_2_16_rep_1.json\n",
      "Loading E_1_2_16{resume_45_epoch}_rep_1.json\n",
      "Loading E_1_2_16{resume_45_epoch}_rep_2.json\n",
      "Loading E_1_2_1_rep_1.json\n",
      "Loading E_1_2_1{resume_45_epoch}_rep_1.json\n",
      "Loading E_1_2_1{resume_45_epoch}_rep_2.json\n",
      "Loading E_1_2_2_rep_1.json\n",
      "Loading E_1_2_2{resume_45_epoch}_rep_1.json\n",
      "Loading E_1_2_2{resume_45_epoch}_rep_2.json\n",
      "Loading E_1_2_32_rep_1.json\n",
      "Loading E_1_2_32{resume_45_epoch}_rep_1.json\n",
      "Loading E_1_2_32{resume_45_epoch}_rep_2.json\n",
      "Loading E_1_2_4_rep_1.json\n",
      "Loading E_1_2_4{resume_45_epoch}_rep_1.json\n",
      "Loading E_1_2_4{resume_45_epoch}_rep_2.json\n",
      "Loading E_1_2_64_rep_1.json\n",
      "Loading E_1_2_64{resume_45_epoch}_rep_1.json\n",
      "Loading E_1_2_64{resume_45_epoch}_rep_2.json\n",
      "Loading E_1_2_8_rep_1.json\n",
      "Loading E_1_2_8{resume_45_epoch}_rep_1.json\n",
      "Loading E_1_2_8{resume_45_epoch}_rep_2.json\n",
      "Merged and Saved to saved_data/eval_results/E_1/E1.json\n"
     ]
    }
   ],
   "source": [
    "merge_results_by_group(\"1\",\"saved_data/eval_results/E_1/\",\"saved_data/eval_results/E_1/\")"
   ]
  },
  {
   "cell_type": "markdown",
   "metadata": {},
   "source": [
    " E2"
   ]
  },
  {
   "cell_type": "code",
   "execution_count": 5,
   "metadata": {},
   "outputs": [
    {
     "data": {
      "text/plain": [
       "-----HYPER PARAMS-----\n",
       "emb_dim: emb_dim: 128\n",
       "num_layers: 2\n",
       "num_heads: 8\n",
       "forward_dim: 256\n",
       "dropout: 0.15\n",
       "learning_rate: 0.0002\n",
       "batch_size: 16\n",
       "batch_size_eval: 500\n",
       "grad_clip: 1\n",
       "optimizer: AdamW\n",
       "epochs: 80\n",
       "--------PATHS---------\n",
       "model_save_path: saved_data/models/E_2/\n",
       "tensorboard_log_path: saved_data/tensorboard_runs/E_2/\n",
       "results_dict_path: saved_data/eval_results/E_2/\n",
       "model_weights_path: None\n",
       "--------OTHER---------\n",
       "experiment_name: AUTO\n",
       "evaluation_interval: 5\n",
       "model_save_interval: 5\n",
       "k_fold: None\n",
       "use_tensorboard: True\n",
       "detailed_logging: False\n",
       "train_model: True\n",
       "overwrite_if_saving: False\n",
       "device: cuda"
      ]
     },
     "execution_count": 5,
     "metadata": {},
     "output_type": "execute_result"
    }
   ],
   "source": [
    "conf =  E2_Config(\n",
    "                epochs = 80,\n",
    "                evaluation_interval = 5,\n",
    "                model_save_interval = 5,\n",
    "                detailed_logging = False,\n",
    ")\n",
    "conf"
   ]
  },
  {
   "cell_type": "code",
   "execution_count": 6,
   "metadata": {},
   "outputs": [
    {
     "name": "stdout",
     "output_type": "stream",
     "text": [
      "--------------------------------------------------\n",
      "Loading model weights from:  saved_data/models/E_2/E_2_epoch_45_rep_1.weights\n"
     ]
    },
    {
     "name": "stderr",
     "output_type": "stream",
     "text": [
      "c:\\KU\\ATNLP\\group_repo\\atnlp-project\\experiments\\experiment.py:174: FutureWarning: You are using `torch.load` with `weights_only=False` (the current default value), which uses the default pickle module implicitly. It is possible to construct malicious pickle data which will execute arbitrary code during unpickling (See https://github.com/pytorch/pytorch/blob/main/SECURITY.md#untrusted-models for more details). In a future release, the default value for `weights_only` will be flipped to `True`. This limits the functions that could be executed during unpickling. Arbitrary objects will no longer be allowed to be loaded via this mode unless they are explicitly allowlisted by the user via `torch.serialization.add_safe_globals`. We recommend you start setting `weights_only=True` for any use case where you don't have full control of the loaded file. Please open an issue on GitHub for any issues related to this experimental feature.\n",
      "  self.model.load_state_dict(torch.load(p))\n",
      "EPOCH:  14%|█▍        | 5/35 [02:11<13:15, 26.51s/it]"
     ]
    },
    {
     "name": "stdout",
     "output_type": "stream",
     "text": [
      "Model saved at:  saved_data/models/E_2/E_2{resume_45_epoch}_epoch_50_rep_1.weights\n"
     ]
    },
    {
     "name": "stderr",
     "output_type": "stream",
     "text": [
      "EPOCH:  29%|██▊       | 10/35 [04:09<10:10, 24.42s/it]"
     ]
    },
    {
     "name": "stdout",
     "output_type": "stream",
     "text": [
      "Model saved at:  saved_data/models/E_2/E_2{resume_45_epoch}_epoch_55_rep_1.weights\n"
     ]
    },
    {
     "name": "stderr",
     "output_type": "stream",
     "text": [
      "EPOCH:  43%|████▎     | 15/35 [06:06<08:01, 24.09s/it]"
     ]
    },
    {
     "name": "stdout",
     "output_type": "stream",
     "text": [
      "Model saved at:  saved_data/models/E_2/E_2{resume_45_epoch}_epoch_60_rep_1.weights\n"
     ]
    },
    {
     "name": "stderr",
     "output_type": "stream",
     "text": [
      "EPOCH:  57%|█████▋    | 20/35 [08:04<06:01, 24.13s/it]"
     ]
    },
    {
     "name": "stdout",
     "output_type": "stream",
     "text": [
      "Model saved at:  saved_data/models/E_2/E_2{resume_45_epoch}_epoch_65_rep_1.weights\n"
     ]
    },
    {
     "name": "stderr",
     "output_type": "stream",
     "text": [
      "EPOCH:  71%|███████▏  | 25/35 [10:01<04:00, 24.07s/it]"
     ]
    },
    {
     "name": "stdout",
     "output_type": "stream",
     "text": [
      "Model saved at:  saved_data/models/E_2/E_2{resume_45_epoch}_epoch_70_rep_1.weights\n"
     ]
    },
    {
     "name": "stderr",
     "output_type": "stream",
     "text": [
      "EPOCH:  86%|████████▌ | 30/35 [11:58<01:59, 23.99s/it]"
     ]
    },
    {
     "name": "stdout",
     "output_type": "stream",
     "text": [
      "Model saved at:  saved_data/models/E_2/E_2{resume_45_epoch}_epoch_75_rep_1.weights\n"
     ]
    },
    {
     "name": "stderr",
     "output_type": "stream",
     "text": [
      "EPOCH:  97%|█████████▋| 34/35 [13:28<00:22, 22.95s/it]"
     ]
    },
    {
     "name": "stdout",
     "output_type": "stream",
     "text": [
      "Epoch 80/80 Batch 37170/84960 Trining Loss: 3.5519357361336006\n"
     ]
    },
    {
     "name": "stderr",
     "output_type": "stream",
     "text": [
      "EPOCH: 100%|██████████| 35/35 [13:54<00:00, 23.85s/it]"
     ]
    },
    {
     "name": "stdout",
     "output_type": "stream",
     "text": [
      "Experiment: E_2{resume_45_epoch}_rep_1_epoch_80 Results, Type: E_2\n",
      "(ORG)E_2{resume_45_epoch}_rep_1_epoch_80 E_2 ACC  TL  Avrg  ORACLE  : 0.7266401052474976\n",
      "(ORG)E_2{resume_45_epoch}_rep_1_epoch_80 E_2 ACC  TL  Avrg  NO_ORACLE  : 0.5898868441581726\n",
      "(ORG)E_2{resume_45_epoch}_rep_1_epoch_80 E_2 ERR  TL  Avrg  ORACLE  : 0.27335989475250244\n",
      "(ORG)E_2{resume_45_epoch}_rep_1_epoch_80 E_2 ERR  TL  Avrg  NO_ORACLE  : 0.410113126039505\n",
      "(ORG)E_2{resume_45_epoch}_rep_1_epoch_80 E_2 ACC  SL  Avrg  ORACLE  : 0.14158163964748383\n",
      "(ORG)E_2{resume_45_epoch}_rep_1_epoch_80 E_2 ACC  SL  Avrg  NO_ORACLE  : 0.009948979131877422\n",
      "(ORG)E_2{resume_45_epoch}_rep_1_epoch_80 E_2 ERR  SL  Avrg  ORACLE  : 0.858418345451355\n",
      "(ORG)E_2{resume_45_epoch}_rep_1_epoch_80 E_2 ERR  SL  Avrg  NO_ORACLE  : 0.9900510311126709\n",
      "Model saved at:  saved_data/models/E_2/E_2{resume_45_epoch}_epoch_80_rep_1.weights\n",
      "Training finished for experiment:  E_2\n",
      "Evaluation results will be saved at:  saved_data/eval_results/E_2/E_2{resume_45_epoch}_rep_1.json\n"
     ]
    },
    {
     "name": "stderr",
     "output_type": "stream",
     "text": [
      "\n"
     ]
    }
   ],
   "source": [
    "Exp = Experiment(ExperimentType.E_2, config=conf)\n",
    "Exp.run(from_epoch=45)\n",
    "Exp.save_results()\n",
    "\n"
   ]
  },
  {
   "cell_type": "code",
   "execution_count": 7,
   "metadata": {},
   "outputs": [
    {
     "name": "stdout",
     "output_type": "stream",
     "text": [
      "Loading E_2_rep_1.json\n",
      "Loading E_2{resume_45_epoch}_rep_1.json\n",
      "Merged and Saved to saved_data/eval_results/E_2/E2.json\n"
     ]
    },
    {
     "data": {
      "text/plain": [
       "Experiment Results Container:\n",
       "Experiment: E_2_rep_1_epoch_5 Results, Type: E_2\n",
       "Experiment: E_2_rep_1_epoch_10 Results, Type: E_2\n",
       "Experiment: E_2_rep_1_epoch_15 Results, Type: E_2\n",
       "Experiment: E_2_rep_1_epoch_20 Results, Type: E_2\n",
       "Experiment: E_2_rep_1_epoch_25 Results, Type: E_2\n",
       "Experiment: E_2_rep_1_epoch_30 Results, Type: E_2\n",
       "Experiment: E_2_rep_1_epoch_35 Results, Type: E_2\n",
       "Experiment: E_2_rep_1_epoch_40 Results, Type: E_2\n",
       "Experiment: E_2_rep_1_epoch_45 Results, Type: E_2\n",
       "Experiment: E_2_rep_1_epoch_50 Results, Type: E_2\n",
       "Experiment: E_2{resume_45_epoch}_rep_1_epoch_50 Results, Type: E_2\n",
       "Experiment: E_2{resume_45_epoch}_rep_1_epoch_55 Results, Type: E_2\n",
       "Experiment: E_2{resume_45_epoch}_rep_1_epoch_60 Results, Type: E_2\n",
       "Experiment: E_2{resume_45_epoch}_rep_1_epoch_65 Results, Type: E_2\n",
       "Experiment: E_2{resume_45_epoch}_rep_1_epoch_70 Results, Type: E_2\n",
       "Experiment: E_2{resume_45_epoch}_rep_1_epoch_75 Results, Type: E_2\n",
       "Experiment: E_2{resume_45_epoch}_rep_1_epoch_80 Results, Type: E_2"
      ]
     },
     "execution_count": 7,
     "metadata": {},
     "output_type": "execute_result"
    }
   ],
   "source": [
    "merge_results_by_group(\"2\",\"saved_data/eval_results/E_2/\",\"saved_data/eval_results/E_2/\")"
   ]
  },
  {
   "cell_type": "markdown",
   "metadata": {},
   "source": [
    "E 3_1"
   ]
  },
  {
   "cell_type": "code",
   "execution_count": null,
   "metadata": {},
   "outputs": [],
   "source": [
    "conf =  E3_Config(\n",
    "                epochs = 50,\n",
    "                evaluation_interval = 5,\n",
    "                model_save_interval = 5,\n",
    "                detailed_logging = False,   \n",
    ")\n",
    "conf"
   ]
  },
  {
   "cell_type": "code",
   "execution_count": null,
   "metadata": {},
   "outputs": [],
   "source": [
    "Exp = Experiment(ExperimentType.E_3_1, config=conf)\n",
    "Exp.run()\n",
    "Exp.save_results()"
   ]
  },
  {
   "cell_type": "markdown",
   "metadata": {},
   "source": [
    "E3_2"
   ]
  },
  {
   "cell_type": "code",
   "execution_count": null,
   "metadata": {},
   "outputs": [],
   "source": [
    "conf =  E3_Config(\n",
    "                epochs = 50,\n",
    "                evaluation_interval = 5,\n",
    "                model_save_interval = 5,\n",
    "                detailed_logging = False,\n",
    ")"
   ]
  },
  {
   "cell_type": "code",
   "execution_count": null,
   "metadata": {},
   "outputs": [],
   "source": [
    "# rep 1:\n",
    "Exp = Experiment(ExperimentType.E_3_2, config=conf)\n",
    "Exp.run()\n",
    "Exp.save_results()\n"
   ]
  },
  {
   "cell_type": "markdown",
   "metadata": {},
   "source": [
    "E3_3"
   ]
  },
  {
   "cell_type": "code",
   "execution_count": null,
   "metadata": {},
   "outputs": [],
   "source": [
    "# No reps, just once each setting\n",
    "run_experiment_group(\"3_3\")"
   ]
  },
  {
   "cell_type": "code",
   "execution_count": 8,
   "metadata": {},
   "outputs": [
    {
     "name": "stdout",
     "output_type": "stream",
     "text": [
      "Loading E_3_1_rep_1.json\n",
      "Merged and Saved to saved_data/eval_results/E_3/E3_1.json\n",
      "Loading E_3_2_rep_1.json\n",
      "Merged and Saved to saved_data/eval_results/E_3/E3_2.json\n",
      "Loading E_3_3_16_1_rep_1.json\n",
      "Loading E_3_3_16_2_rep_1.json\n",
      "Loading E_3_3_16_3_rep_1.json\n",
      "Loading E_3_3_16_4_rep_1.json\n",
      "Loading E_3_3_16_5_rep_1.json\n",
      "Loading E_3_3_1_1_rep_1.json\n",
      "Loading E_3_3_1_2_rep_1.json\n",
      "Loading E_3_3_1_3_rep_1.json\n",
      "Loading E_3_3_1_4_rep_1.json\n",
      "Loading E_3_3_1_5_rep_1.json\n",
      "Loading E_3_3_2_1_rep_1.json\n",
      "Loading E_3_3_2_2_rep_1.json\n",
      "Loading E_3_3_2_3_rep_1.json\n",
      "Loading E_3_3_2_4_rep_1.json\n",
      "Loading E_3_3_2_5_rep_1.json\n",
      "Loading E_3_3_32_1_rep_1.json\n",
      "Loading E_3_3_32_2_rep_1.json\n",
      "Loading E_3_3_32_3_rep_1.json\n",
      "Loading E_3_3_32_4_rep_1.json\n",
      "Loading E_3_3_32_5_rep_1.json\n",
      "Loading E_3_3_4_1_rep_1.json\n",
      "Loading E_3_3_4_2_rep_1.json\n",
      "Loading E_3_3_4_3_rep_1.json\n",
      "Loading E_3_3_4_4_rep_1.json\n",
      "Loading E_3_3_4_5_rep_1.json\n",
      "Loading E_3_3_8_1_rep_1.json\n",
      "Loading E_3_3_8_2_rep_1.json\n",
      "Loading E_3_3_8_3_rep_1.json\n",
      "Loading E_3_3_8_4_rep_1.json\n",
      "Loading E_3_3_8_5_rep_1.json\n",
      "Merged and Saved to saved_data/eval_results/E_3/E3_3.json\n"
     ]
    },
    {
     "data": {
      "text/plain": [
       "Experiment Results Container:\n",
       "Experiment: E_3_3_16_1_rep_1_epoch_5 Results, Type: E_3_3_16_1\n",
       "Experiment: E_3_3_16_1_rep_1_epoch_10 Results, Type: E_3_3_16_1\n",
       "Experiment: E_3_3_16_1_rep_1_epoch_15 Results, Type: E_3_3_16_1\n",
       "Experiment: E_3_3_16_1_rep_1_epoch_20 Results, Type: E_3_3_16_1\n",
       "Experiment: E_3_3_16_1_rep_1_epoch_25 Results, Type: E_3_3_16_1\n",
       "Experiment: E_3_3_16_1_rep_1_epoch_30 Results, Type: E_3_3_16_1\n",
       "Experiment: E_3_3_16_1_rep_1_epoch_35 Results, Type: E_3_3_16_1\n",
       "Experiment: E_3_3_16_1_rep_1_epoch_40 Results, Type: E_3_3_16_1\n",
       "Experiment: E_3_3_16_1_rep_1_epoch_45 Results, Type: E_3_3_16_1\n",
       "Experiment: E_3_3_16_1_rep_1_epoch_50 Results, Type: E_3_3_16_1\n",
       "Experiment: E_3_3_16_2_rep_1_epoch_5 Results, Type: E_3_3_16_2\n",
       "Experiment: E_3_3_16_2_rep_1_epoch_10 Results, Type: E_3_3_16_2\n",
       "Experiment: E_3_3_16_2_rep_1_epoch_15 Results, Type: E_3_3_16_2\n",
       "Experiment: E_3_3_16_2_rep_1_epoch_20 Results, Type: E_3_3_16_2\n",
       "Experiment: E_3_3_16_2_rep_1_epoch_25 Results, Type: E_3_3_16_2\n",
       "Experiment: E_3_3_16_2_rep_1_epoch_30 Results, Type: E_3_3_16_2\n",
       "Experiment: E_3_3_16_2_rep_1_epoch_35 Results, Type: E_3_3_16_2\n",
       "Experiment: E_3_3_16_2_rep_1_epoch_40 Results, Type: E_3_3_16_2\n",
       "Experiment: E_3_3_16_2_rep_1_epoch_45 Results, Type: E_3_3_16_2\n",
       "Experiment: E_3_3_16_2_rep_1_epoch_50 Results, Type: E_3_3_16_2\n",
       "Experiment: E_3_3_16_3_rep_1_epoch_5 Results, Type: E_3_3_16_3\n",
       "Experiment: E_3_3_16_3_rep_1_epoch_10 Results, Type: E_3_3_16_3\n",
       "Experiment: E_3_3_16_3_rep_1_epoch_15 Results, Type: E_3_3_16_3\n",
       "Experiment: E_3_3_16_3_rep_1_epoch_20 Results, Type: E_3_3_16_3\n",
       "Experiment: E_3_3_16_3_rep_1_epoch_25 Results, Type: E_3_3_16_3\n",
       "Experiment: E_3_3_16_3_rep_1_epoch_30 Results, Type: E_3_3_16_3\n",
       "Experiment: E_3_3_16_3_rep_1_epoch_35 Results, Type: E_3_3_16_3\n",
       "Experiment: E_3_3_16_3_rep_1_epoch_40 Results, Type: E_3_3_16_3\n",
       "Experiment: E_3_3_16_3_rep_1_epoch_45 Results, Type: E_3_3_16_3\n",
       "Experiment: E_3_3_16_3_rep_1_epoch_50 Results, Type: E_3_3_16_3\n",
       "Experiment: E_3_3_16_4_rep_1_epoch_5 Results, Type: E_3_3_16_4\n",
       "Experiment: E_3_3_16_4_rep_1_epoch_10 Results, Type: E_3_3_16_4\n",
       "Experiment: E_3_3_16_4_rep_1_epoch_15 Results, Type: E_3_3_16_4\n",
       "Experiment: E_3_3_16_4_rep_1_epoch_20 Results, Type: E_3_3_16_4\n",
       "Experiment: E_3_3_16_4_rep_1_epoch_25 Results, Type: E_3_3_16_4\n",
       "Experiment: E_3_3_16_4_rep_1_epoch_30 Results, Type: E_3_3_16_4\n",
       "Experiment: E_3_3_16_4_rep_1_epoch_35 Results, Type: E_3_3_16_4\n",
       "Experiment: E_3_3_16_4_rep_1_epoch_40 Results, Type: E_3_3_16_4\n",
       "Experiment: E_3_3_16_4_rep_1_epoch_45 Results, Type: E_3_3_16_4\n",
       "Experiment: E_3_3_16_4_rep_1_epoch_50 Results, Type: E_3_3_16_4\n",
       "Experiment: E_3_3_16_5_rep_1_epoch_5 Results, Type: E_3_3_16_5\n",
       "Experiment: E_3_3_16_5_rep_1_epoch_10 Results, Type: E_3_3_16_5\n",
       "Experiment: E_3_3_16_5_rep_1_epoch_15 Results, Type: E_3_3_16_5\n",
       "Experiment: E_3_3_16_5_rep_1_epoch_20 Results, Type: E_3_3_16_5\n",
       "Experiment: E_3_3_16_5_rep_1_epoch_25 Results, Type: E_3_3_16_5\n",
       "Experiment: E_3_3_16_5_rep_1_epoch_30 Results, Type: E_3_3_16_5\n",
       "Experiment: E_3_3_16_5_rep_1_epoch_35 Results, Type: E_3_3_16_5\n",
       "Experiment: E_3_3_16_5_rep_1_epoch_40 Results, Type: E_3_3_16_5\n",
       "Experiment: E_3_3_16_5_rep_1_epoch_45 Results, Type: E_3_3_16_5\n",
       "Experiment: E_3_3_16_5_rep_1_epoch_50 Results, Type: E_3_3_16_5\n",
       "Experiment: E_3_3_1_1_rep_1_epoch_5 Results, Type: E_3_3_1_1\n",
       "Experiment: E_3_3_1_1_rep_1_epoch_10 Results, Type: E_3_3_1_1\n",
       "Experiment: E_3_3_1_1_rep_1_epoch_15 Results, Type: E_3_3_1_1\n",
       "Experiment: E_3_3_1_1_rep_1_epoch_20 Results, Type: E_3_3_1_1\n",
       "Experiment: E_3_3_1_1_rep_1_epoch_25 Results, Type: E_3_3_1_1\n",
       "Experiment: E_3_3_1_1_rep_1_epoch_30 Results, Type: E_3_3_1_1\n",
       "Experiment: E_3_3_1_1_rep_1_epoch_35 Results, Type: E_3_3_1_1\n",
       "Experiment: E_3_3_1_1_rep_1_epoch_40 Results, Type: E_3_3_1_1\n",
       "Experiment: E_3_3_1_1_rep_1_epoch_45 Results, Type: E_3_3_1_1\n",
       "Experiment: E_3_3_1_1_rep_1_epoch_50 Results, Type: E_3_3_1_1\n",
       "Experiment: E_3_3_1_2_rep_1_epoch_5 Results, Type: E_3_3_1_2\n",
       "Experiment: E_3_3_1_2_rep_1_epoch_10 Results, Type: E_3_3_1_2\n",
       "Experiment: E_3_3_1_2_rep_1_epoch_15 Results, Type: E_3_3_1_2\n",
       "Experiment: E_3_3_1_2_rep_1_epoch_20 Results, Type: E_3_3_1_2\n",
       "Experiment: E_3_3_1_2_rep_1_epoch_25 Results, Type: E_3_3_1_2\n",
       "Experiment: E_3_3_1_2_rep_1_epoch_30 Results, Type: E_3_3_1_2\n",
       "Experiment: E_3_3_1_2_rep_1_epoch_35 Results, Type: E_3_3_1_2\n",
       "Experiment: E_3_3_1_2_rep_1_epoch_40 Results, Type: E_3_3_1_2\n",
       "Experiment: E_3_3_1_2_rep_1_epoch_45 Results, Type: E_3_3_1_2\n",
       "Experiment: E_3_3_1_2_rep_1_epoch_50 Results, Type: E_3_3_1_2\n",
       "Experiment: E_3_3_1_3_rep_1_epoch_5 Results, Type: E_3_3_1_3\n",
       "Experiment: E_3_3_1_3_rep_1_epoch_10 Results, Type: E_3_3_1_3\n",
       "Experiment: E_3_3_1_3_rep_1_epoch_15 Results, Type: E_3_3_1_3\n",
       "Experiment: E_3_3_1_3_rep_1_epoch_20 Results, Type: E_3_3_1_3\n",
       "Experiment: E_3_3_1_3_rep_1_epoch_25 Results, Type: E_3_3_1_3\n",
       "Experiment: E_3_3_1_3_rep_1_epoch_30 Results, Type: E_3_3_1_3\n",
       "Experiment: E_3_3_1_3_rep_1_epoch_35 Results, Type: E_3_3_1_3\n",
       "Experiment: E_3_3_1_3_rep_1_epoch_40 Results, Type: E_3_3_1_3\n",
       "Experiment: E_3_3_1_3_rep_1_epoch_45 Results, Type: E_3_3_1_3\n",
       "Experiment: E_3_3_1_3_rep_1_epoch_50 Results, Type: E_3_3_1_3\n",
       "Experiment: E_3_3_1_4_rep_1_epoch_5 Results, Type: E_3_3_1_4\n",
       "Experiment: E_3_3_1_4_rep_1_epoch_10 Results, Type: E_3_3_1_4\n",
       "Experiment: E_3_3_1_4_rep_1_epoch_15 Results, Type: E_3_3_1_4\n",
       "Experiment: E_3_3_1_4_rep_1_epoch_20 Results, Type: E_3_3_1_4\n",
       "Experiment: E_3_3_1_4_rep_1_epoch_25 Results, Type: E_3_3_1_4\n",
       "Experiment: E_3_3_1_4_rep_1_epoch_30 Results, Type: E_3_3_1_4\n",
       "Experiment: E_3_3_1_4_rep_1_epoch_35 Results, Type: E_3_3_1_4\n",
       "Experiment: E_3_3_1_4_rep_1_epoch_40 Results, Type: E_3_3_1_4\n",
       "Experiment: E_3_3_1_4_rep_1_epoch_45 Results, Type: E_3_3_1_4\n",
       "Experiment: E_3_3_1_4_rep_1_epoch_50 Results, Type: E_3_3_1_4\n",
       "Experiment: E_3_3_1_5_rep_1_epoch_5 Results, Type: E_3_3_1_5\n",
       "Experiment: E_3_3_1_5_rep_1_epoch_10 Results, Type: E_3_3_1_5\n",
       "Experiment: E_3_3_1_5_rep_1_epoch_15 Results, Type: E_3_3_1_5\n",
       "Experiment: E_3_3_1_5_rep_1_epoch_20 Results, Type: E_3_3_1_5\n",
       "Experiment: E_3_3_1_5_rep_1_epoch_25 Results, Type: E_3_3_1_5\n",
       "Experiment: E_3_3_1_5_rep_1_epoch_30 Results, Type: E_3_3_1_5\n",
       "Experiment: E_3_3_1_5_rep_1_epoch_35 Results, Type: E_3_3_1_5\n",
       "Experiment: E_3_3_1_5_rep_1_epoch_40 Results, Type: E_3_3_1_5\n",
       "Experiment: E_3_3_1_5_rep_1_epoch_45 Results, Type: E_3_3_1_5\n",
       "Experiment: E_3_3_1_5_rep_1_epoch_50 Results, Type: E_3_3_1_5\n",
       "Experiment: E_3_3_2_1_rep_1_epoch_5 Results, Type: E_3_3_2_1\n",
       "Experiment: E_3_3_2_1_rep_1_epoch_10 Results, Type: E_3_3_2_1\n",
       "Experiment: E_3_3_2_1_rep_1_epoch_15 Results, Type: E_3_3_2_1\n",
       "Experiment: E_3_3_2_1_rep_1_epoch_20 Results, Type: E_3_3_2_1\n",
       "Experiment: E_3_3_2_1_rep_1_epoch_25 Results, Type: E_3_3_2_1\n",
       "Experiment: E_3_3_2_1_rep_1_epoch_30 Results, Type: E_3_3_2_1\n",
       "Experiment: E_3_3_2_1_rep_1_epoch_35 Results, Type: E_3_3_2_1\n",
       "Experiment: E_3_3_2_1_rep_1_epoch_40 Results, Type: E_3_3_2_1\n",
       "Experiment: E_3_3_2_1_rep_1_epoch_45 Results, Type: E_3_3_2_1\n",
       "Experiment: E_3_3_2_1_rep_1_epoch_50 Results, Type: E_3_3_2_1\n",
       "Experiment: E_3_3_2_2_rep_1_epoch_5 Results, Type: E_3_3_2_2\n",
       "Experiment: E_3_3_2_2_rep_1_epoch_10 Results, Type: E_3_3_2_2\n",
       "Experiment: E_3_3_2_2_rep_1_epoch_15 Results, Type: E_3_3_2_2\n",
       "Experiment: E_3_3_2_2_rep_1_epoch_20 Results, Type: E_3_3_2_2\n",
       "Experiment: E_3_3_2_2_rep_1_epoch_25 Results, Type: E_3_3_2_2\n",
       "Experiment: E_3_3_2_2_rep_1_epoch_30 Results, Type: E_3_3_2_2\n",
       "Experiment: E_3_3_2_2_rep_1_epoch_35 Results, Type: E_3_3_2_2\n",
       "Experiment: E_3_3_2_2_rep_1_epoch_40 Results, Type: E_3_3_2_2\n",
       "Experiment: E_3_3_2_2_rep_1_epoch_45 Results, Type: E_3_3_2_2\n",
       "Experiment: E_3_3_2_2_rep_1_epoch_50 Results, Type: E_3_3_2_2\n",
       "Experiment: E_3_3_2_3_rep_1_epoch_5 Results, Type: E_3_3_2_3\n",
       "Experiment: E_3_3_2_3_rep_1_epoch_10 Results, Type: E_3_3_2_3\n",
       "Experiment: E_3_3_2_3_rep_1_epoch_15 Results, Type: E_3_3_2_3\n",
       "Experiment: E_3_3_2_3_rep_1_epoch_20 Results, Type: E_3_3_2_3\n",
       "Experiment: E_3_3_2_3_rep_1_epoch_25 Results, Type: E_3_3_2_3\n",
       "Experiment: E_3_3_2_3_rep_1_epoch_30 Results, Type: E_3_3_2_3\n",
       "Experiment: E_3_3_2_3_rep_1_epoch_35 Results, Type: E_3_3_2_3\n",
       "Experiment: E_3_3_2_3_rep_1_epoch_40 Results, Type: E_3_3_2_3\n",
       "Experiment: E_3_3_2_3_rep_1_epoch_45 Results, Type: E_3_3_2_3\n",
       "Experiment: E_3_3_2_3_rep_1_epoch_50 Results, Type: E_3_3_2_3\n",
       "Experiment: E_3_3_2_4_rep_1_epoch_5 Results, Type: E_3_3_2_4\n",
       "Experiment: E_3_3_2_4_rep_1_epoch_10 Results, Type: E_3_3_2_4\n",
       "Experiment: E_3_3_2_4_rep_1_epoch_15 Results, Type: E_3_3_2_4\n",
       "Experiment: E_3_3_2_4_rep_1_epoch_20 Results, Type: E_3_3_2_4\n",
       "Experiment: E_3_3_2_4_rep_1_epoch_25 Results, Type: E_3_3_2_4\n",
       "Experiment: E_3_3_2_4_rep_1_epoch_30 Results, Type: E_3_3_2_4\n",
       "Experiment: E_3_3_2_4_rep_1_epoch_35 Results, Type: E_3_3_2_4\n",
       "Experiment: E_3_3_2_4_rep_1_epoch_40 Results, Type: E_3_3_2_4\n",
       "Experiment: E_3_3_2_4_rep_1_epoch_45 Results, Type: E_3_3_2_4\n",
       "Experiment: E_3_3_2_4_rep_1_epoch_50 Results, Type: E_3_3_2_4\n",
       "Experiment: E_3_3_2_5_rep_1_epoch_5 Results, Type: E_3_3_2_5\n",
       "Experiment: E_3_3_2_5_rep_1_epoch_10 Results, Type: E_3_3_2_5\n",
       "Experiment: E_3_3_2_5_rep_1_epoch_15 Results, Type: E_3_3_2_5\n",
       "Experiment: E_3_3_2_5_rep_1_epoch_20 Results, Type: E_3_3_2_5\n",
       "Experiment: E_3_3_2_5_rep_1_epoch_25 Results, Type: E_3_3_2_5\n",
       "Experiment: E_3_3_2_5_rep_1_epoch_30 Results, Type: E_3_3_2_5\n",
       "Experiment: E_3_3_2_5_rep_1_epoch_35 Results, Type: E_3_3_2_5\n",
       "Experiment: E_3_3_2_5_rep_1_epoch_40 Results, Type: E_3_3_2_5\n",
       "Experiment: E_3_3_2_5_rep_1_epoch_45 Results, Type: E_3_3_2_5\n",
       "Experiment: E_3_3_2_5_rep_1_epoch_50 Results, Type: E_3_3_2_5\n",
       "Experiment: E_3_3_32_1_rep_1_epoch_5 Results, Type: E_3_3_32_1\n",
       "Experiment: E_3_3_32_1_rep_1_epoch_10 Results, Type: E_3_3_32_1\n",
       "Experiment: E_3_3_32_1_rep_1_epoch_15 Results, Type: E_3_3_32_1\n",
       "Experiment: E_3_3_32_1_rep_1_epoch_20 Results, Type: E_3_3_32_1\n",
       "Experiment: E_3_3_32_1_rep_1_epoch_25 Results, Type: E_3_3_32_1\n",
       "Experiment: E_3_3_32_1_rep_1_epoch_30 Results, Type: E_3_3_32_1\n",
       "Experiment: E_3_3_32_1_rep_1_epoch_35 Results, Type: E_3_3_32_1\n",
       "Experiment: E_3_3_32_1_rep_1_epoch_40 Results, Type: E_3_3_32_1\n",
       "Experiment: E_3_3_32_1_rep_1_epoch_45 Results, Type: E_3_3_32_1\n",
       "Experiment: E_3_3_32_1_rep_1_epoch_50 Results, Type: E_3_3_32_1\n",
       "Experiment: E_3_3_32_2_rep_1_epoch_5 Results, Type: E_3_3_32_2\n",
       "Experiment: E_3_3_32_2_rep_1_epoch_10 Results, Type: E_3_3_32_2\n",
       "Experiment: E_3_3_32_2_rep_1_epoch_15 Results, Type: E_3_3_32_2\n",
       "Experiment: E_3_3_32_2_rep_1_epoch_20 Results, Type: E_3_3_32_2\n",
       "Experiment: E_3_3_32_2_rep_1_epoch_25 Results, Type: E_3_3_32_2\n",
       "Experiment: E_3_3_32_2_rep_1_epoch_30 Results, Type: E_3_3_32_2\n",
       "Experiment: E_3_3_32_2_rep_1_epoch_35 Results, Type: E_3_3_32_2\n",
       "Experiment: E_3_3_32_2_rep_1_epoch_40 Results, Type: E_3_3_32_2\n",
       "Experiment: E_3_3_32_2_rep_1_epoch_45 Results, Type: E_3_3_32_2\n",
       "Experiment: E_3_3_32_2_rep_1_epoch_50 Results, Type: E_3_3_32_2\n",
       "Experiment: E_3_3_32_3_rep_1_epoch_5 Results, Type: E_3_3_32_3\n",
       "Experiment: E_3_3_32_3_rep_1_epoch_10 Results, Type: E_3_3_32_3\n",
       "Experiment: E_3_3_32_3_rep_1_epoch_15 Results, Type: E_3_3_32_3\n",
       "Experiment: E_3_3_32_3_rep_1_epoch_20 Results, Type: E_3_3_32_3\n",
       "Experiment: E_3_3_32_3_rep_1_epoch_25 Results, Type: E_3_3_32_3\n",
       "Experiment: E_3_3_32_3_rep_1_epoch_30 Results, Type: E_3_3_32_3\n",
       "Experiment: E_3_3_32_3_rep_1_epoch_35 Results, Type: E_3_3_32_3\n",
       "Experiment: E_3_3_32_3_rep_1_epoch_40 Results, Type: E_3_3_32_3\n",
       "Experiment: E_3_3_32_3_rep_1_epoch_45 Results, Type: E_3_3_32_3\n",
       "Experiment: E_3_3_32_3_rep_1_epoch_50 Results, Type: E_3_3_32_3\n",
       "Experiment: E_3_3_32_4_rep_1_epoch_5 Results, Type: E_3_3_32_4\n",
       "Experiment: E_3_3_32_4_rep_1_epoch_10 Results, Type: E_3_3_32_4\n",
       "Experiment: E_3_3_32_4_rep_1_epoch_15 Results, Type: E_3_3_32_4\n",
       "Experiment: E_3_3_32_4_rep_1_epoch_20 Results, Type: E_3_3_32_4\n",
       "Experiment: E_3_3_32_4_rep_1_epoch_25 Results, Type: E_3_3_32_4\n",
       "Experiment: E_3_3_32_4_rep_1_epoch_30 Results, Type: E_3_3_32_4\n",
       "Experiment: E_3_3_32_4_rep_1_epoch_35 Results, Type: E_3_3_32_4\n",
       "Experiment: E_3_3_32_4_rep_1_epoch_40 Results, Type: E_3_3_32_4\n",
       "Experiment: E_3_3_32_4_rep_1_epoch_45 Results, Type: E_3_3_32_4\n",
       "Experiment: E_3_3_32_4_rep_1_epoch_50 Results, Type: E_3_3_32_4\n",
       "Experiment: E_3_3_32_5_rep_1_epoch_5 Results, Type: E_3_3_32_5\n",
       "Experiment: E_3_3_32_5_rep_1_epoch_10 Results, Type: E_3_3_32_5\n",
       "Experiment: E_3_3_32_5_rep_1_epoch_15 Results, Type: E_3_3_32_5\n",
       "Experiment: E_3_3_32_5_rep_1_epoch_20 Results, Type: E_3_3_32_5\n",
       "Experiment: E_3_3_32_5_rep_1_epoch_25 Results, Type: E_3_3_32_5\n",
       "Experiment: E_3_3_32_5_rep_1_epoch_30 Results, Type: E_3_3_32_5\n",
       "Experiment: E_3_3_32_5_rep_1_epoch_35 Results, Type: E_3_3_32_5\n",
       "Experiment: E_3_3_32_5_rep_1_epoch_40 Results, Type: E_3_3_32_5\n",
       "Experiment: E_3_3_32_5_rep_1_epoch_45 Results, Type: E_3_3_32_5\n",
       "Experiment: E_3_3_32_5_rep_1_epoch_50 Results, Type: E_3_3_32_5\n",
       "Experiment: E_3_3_4_1_rep_1_epoch_5 Results, Type: E_3_3_4_1\n",
       "Experiment: E_3_3_4_1_rep_1_epoch_10 Results, Type: E_3_3_4_1\n",
       "Experiment: E_3_3_4_1_rep_1_epoch_15 Results, Type: E_3_3_4_1\n",
       "Experiment: E_3_3_4_1_rep_1_epoch_20 Results, Type: E_3_3_4_1\n",
       "Experiment: E_3_3_4_1_rep_1_epoch_25 Results, Type: E_3_3_4_1\n",
       "Experiment: E_3_3_4_1_rep_1_epoch_30 Results, Type: E_3_3_4_1\n",
       "Experiment: E_3_3_4_1_rep_1_epoch_35 Results, Type: E_3_3_4_1\n",
       "Experiment: E_3_3_4_1_rep_1_epoch_40 Results, Type: E_3_3_4_1\n",
       "Experiment: E_3_3_4_1_rep_1_epoch_45 Results, Type: E_3_3_4_1\n",
       "Experiment: E_3_3_4_1_rep_1_epoch_50 Results, Type: E_3_3_4_1\n",
       "Experiment: E_3_3_4_2_rep_1_epoch_5 Results, Type: E_3_3_4_2\n",
       "Experiment: E_3_3_4_2_rep_1_epoch_10 Results, Type: E_3_3_4_2\n",
       "Experiment: E_3_3_4_2_rep_1_epoch_15 Results, Type: E_3_3_4_2\n",
       "Experiment: E_3_3_4_2_rep_1_epoch_20 Results, Type: E_3_3_4_2\n",
       "Experiment: E_3_3_4_2_rep_1_epoch_25 Results, Type: E_3_3_4_2\n",
       "Experiment: E_3_3_4_2_rep_1_epoch_30 Results, Type: E_3_3_4_2\n",
       "Experiment: E_3_3_4_2_rep_1_epoch_35 Results, Type: E_3_3_4_2\n",
       "Experiment: E_3_3_4_2_rep_1_epoch_40 Results, Type: E_3_3_4_2\n",
       "Experiment: E_3_3_4_2_rep_1_epoch_45 Results, Type: E_3_3_4_2\n",
       "Experiment: E_3_3_4_2_rep_1_epoch_50 Results, Type: E_3_3_4_2\n",
       "Experiment: E_3_3_4_3_rep_1_epoch_5 Results, Type: E_3_3_4_3\n",
       "Experiment: E_3_3_4_3_rep_1_epoch_10 Results, Type: E_3_3_4_3\n",
       "Experiment: E_3_3_4_3_rep_1_epoch_15 Results, Type: E_3_3_4_3\n",
       "Experiment: E_3_3_4_3_rep_1_epoch_20 Results, Type: E_3_3_4_3\n",
       "Experiment: E_3_3_4_3_rep_1_epoch_25 Results, Type: E_3_3_4_3\n",
       "Experiment: E_3_3_4_3_rep_1_epoch_30 Results, Type: E_3_3_4_3\n",
       "Experiment: E_3_3_4_3_rep_1_epoch_35 Results, Type: E_3_3_4_3\n",
       "Experiment: E_3_3_4_3_rep_1_epoch_40 Results, Type: E_3_3_4_3\n",
       "Experiment: E_3_3_4_3_rep_1_epoch_45 Results, Type: E_3_3_4_3\n",
       "Experiment: E_3_3_4_3_rep_1_epoch_50 Results, Type: E_3_3_4_3\n",
       "Experiment: E_3_3_4_4_rep_1_epoch_5 Results, Type: E_3_3_4_4\n",
       "Experiment: E_3_3_4_4_rep_1_epoch_10 Results, Type: E_3_3_4_4\n",
       "Experiment: E_3_3_4_4_rep_1_epoch_15 Results, Type: E_3_3_4_4\n",
       "Experiment: E_3_3_4_4_rep_1_epoch_20 Results, Type: E_3_3_4_4\n",
       "Experiment: E_3_3_4_4_rep_1_epoch_25 Results, Type: E_3_3_4_4\n",
       "Experiment: E_3_3_4_4_rep_1_epoch_30 Results, Type: E_3_3_4_4\n",
       "Experiment: E_3_3_4_4_rep_1_epoch_35 Results, Type: E_3_3_4_4\n",
       "Experiment: E_3_3_4_4_rep_1_epoch_40 Results, Type: E_3_3_4_4\n",
       "Experiment: E_3_3_4_4_rep_1_epoch_45 Results, Type: E_3_3_4_4\n",
       "Experiment: E_3_3_4_4_rep_1_epoch_50 Results, Type: E_3_3_4_4\n",
       "Experiment: E_3_3_4_5_rep_1_epoch_5 Results, Type: E_3_3_4_5\n",
       "Experiment: E_3_3_4_5_rep_1_epoch_10 Results, Type: E_3_3_4_5\n",
       "Experiment: E_3_3_4_5_rep_1_epoch_15 Results, Type: E_3_3_4_5\n",
       "Experiment: E_3_3_4_5_rep_1_epoch_20 Results, Type: E_3_3_4_5\n",
       "Experiment: E_3_3_4_5_rep_1_epoch_25 Results, Type: E_3_3_4_5\n",
       "Experiment: E_3_3_4_5_rep_1_epoch_30 Results, Type: E_3_3_4_5\n",
       "Experiment: E_3_3_4_5_rep_1_epoch_35 Results, Type: E_3_3_4_5\n",
       "Experiment: E_3_3_4_5_rep_1_epoch_40 Results, Type: E_3_3_4_5\n",
       "Experiment: E_3_3_4_5_rep_1_epoch_45 Results, Type: E_3_3_4_5\n",
       "Experiment: E_3_3_4_5_rep_1_epoch_50 Results, Type: E_3_3_4_5\n",
       "Experiment: E_3_3_8_1_rep_1_epoch_5 Results, Type: E_3_3_8_1\n",
       "Experiment: E_3_3_8_1_rep_1_epoch_10 Results, Type: E_3_3_8_1\n",
       "Experiment: E_3_3_8_1_rep_1_epoch_15 Results, Type: E_3_3_8_1\n",
       "Experiment: E_3_3_8_1_rep_1_epoch_20 Results, Type: E_3_3_8_1\n",
       "Experiment: E_3_3_8_1_rep_1_epoch_25 Results, Type: E_3_3_8_1\n",
       "Experiment: E_3_3_8_1_rep_1_epoch_30 Results, Type: E_3_3_8_1\n",
       "Experiment: E_3_3_8_1_rep_1_epoch_35 Results, Type: E_3_3_8_1\n",
       "Experiment: E_3_3_8_1_rep_1_epoch_40 Results, Type: E_3_3_8_1\n",
       "Experiment: E_3_3_8_1_rep_1_epoch_45 Results, Type: E_3_3_8_1\n",
       "Experiment: E_3_3_8_1_rep_1_epoch_50 Results, Type: E_3_3_8_1\n",
       "Experiment: E_3_3_8_2_rep_1_epoch_5 Results, Type: E_3_3_8_2\n",
       "Experiment: E_3_3_8_2_rep_1_epoch_10 Results, Type: E_3_3_8_2\n",
       "Experiment: E_3_3_8_2_rep_1_epoch_15 Results, Type: E_3_3_8_2\n",
       "Experiment: E_3_3_8_2_rep_1_epoch_20 Results, Type: E_3_3_8_2\n",
       "Experiment: E_3_3_8_2_rep_1_epoch_25 Results, Type: E_3_3_8_2\n",
       "Experiment: E_3_3_8_2_rep_1_epoch_30 Results, Type: E_3_3_8_2\n",
       "Experiment: E_3_3_8_2_rep_1_epoch_35 Results, Type: E_3_3_8_2\n",
       "Experiment: E_3_3_8_2_rep_1_epoch_40 Results, Type: E_3_3_8_2\n",
       "Experiment: E_3_3_8_2_rep_1_epoch_45 Results, Type: E_3_3_8_2\n",
       "Experiment: E_3_3_8_2_rep_1_epoch_50 Results, Type: E_3_3_8_2\n",
       "Experiment: E_3_3_8_3_rep_1_epoch_5 Results, Type: E_3_3_8_3\n",
       "Experiment: E_3_3_8_3_rep_1_epoch_10 Results, Type: E_3_3_8_3\n",
       "Experiment: E_3_3_8_3_rep_1_epoch_15 Results, Type: E_3_3_8_3\n",
       "Experiment: E_3_3_8_3_rep_1_epoch_20 Results, Type: E_3_3_8_3\n",
       "Experiment: E_3_3_8_3_rep_1_epoch_25 Results, Type: E_3_3_8_3\n",
       "Experiment: E_3_3_8_3_rep_1_epoch_30 Results, Type: E_3_3_8_3\n",
       "Experiment: E_3_3_8_3_rep_1_epoch_35 Results, Type: E_3_3_8_3\n",
       "Experiment: E_3_3_8_3_rep_1_epoch_40 Results, Type: E_3_3_8_3\n",
       "Experiment: E_3_3_8_3_rep_1_epoch_45 Results, Type: E_3_3_8_3\n",
       "Experiment: E_3_3_8_3_rep_1_epoch_50 Results, Type: E_3_3_8_3\n",
       "Experiment: E_3_3_8_4_rep_1_epoch_5 Results, Type: E_3_3_8_4\n",
       "Experiment: E_3_3_8_4_rep_1_epoch_10 Results, Type: E_3_3_8_4\n",
       "Experiment: E_3_3_8_4_rep_1_epoch_15 Results, Type: E_3_3_8_4\n",
       "Experiment: E_3_3_8_4_rep_1_epoch_20 Results, Type: E_3_3_8_4\n",
       "Experiment: E_3_3_8_4_rep_1_epoch_25 Results, Type: E_3_3_8_4\n",
       "Experiment: E_3_3_8_4_rep_1_epoch_30 Results, Type: E_3_3_8_4\n",
       "Experiment: E_3_3_8_4_rep_1_epoch_35 Results, Type: E_3_3_8_4\n",
       "Experiment: E_3_3_8_4_rep_1_epoch_40 Results, Type: E_3_3_8_4\n",
       "Experiment: E_3_3_8_4_rep_1_epoch_45 Results, Type: E_3_3_8_4\n",
       "Experiment: E_3_3_8_4_rep_1_epoch_50 Results, Type: E_3_3_8_4\n",
       "Experiment: E_3_3_8_5_rep_1_epoch_5 Results, Type: E_3_3_8_5\n",
       "Experiment: E_3_3_8_5_rep_1_epoch_10 Results, Type: E_3_3_8_5\n",
       "Experiment: E_3_3_8_5_rep_1_epoch_15 Results, Type: E_3_3_8_5\n",
       "Experiment: E_3_3_8_5_rep_1_epoch_20 Results, Type: E_3_3_8_5\n",
       "Experiment: E_3_3_8_5_rep_1_epoch_25 Results, Type: E_3_3_8_5\n",
       "Experiment: E_3_3_8_5_rep_1_epoch_30 Results, Type: E_3_3_8_5\n",
       "Experiment: E_3_3_8_5_rep_1_epoch_35 Results, Type: E_3_3_8_5\n",
       "Experiment: E_3_3_8_5_rep_1_epoch_40 Results, Type: E_3_3_8_5\n",
       "Experiment: E_3_3_8_5_rep_1_epoch_45 Results, Type: E_3_3_8_5\n",
       "Experiment: E_3_3_8_5_rep_1_epoch_50 Results, Type: E_3_3_8_5"
      ]
     },
     "execution_count": 8,
     "metadata": {},
     "output_type": "execute_result"
    }
   ],
   "source": [
    "merge_results_by_group(\"3_1\",\"saved_data/eval_results/E_3/\",\"saved_data/eval_results/E_3/\")\n",
    "merge_results_by_group(\"3_2\",\"saved_data/eval_results/E_3/\",\"saved_data/eval_results/E_3/\")\n",
    "merge_results_by_group(\"3_3\",\"saved_data/eval_results/E_3/\",\"saved_data/eval_results/E_3/\")"
   ]
  }
 ],
 "metadata": {
  "kernelspec": {
   "display_name": "Python 3",
   "language": "python",
   "name": "python3"
  },
  "language_info": {
   "codemirror_mode": {
    "name": "ipython",
    "version": 3
   },
   "file_extension": ".py",
   "mimetype": "text/x-python",
   "name": "python",
   "nbconvert_exporter": "python",
   "pygments_lexer": "ipython3",
   "version": "3.10.8"
  }
 },
 "nbformat": 4,
 "nbformat_minor": 2
}
