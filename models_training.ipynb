{
 "cells": [
  {
   "cell_type": "markdown",
   "metadata": {},
   "source": [
    "# K-Fold parameter search\n",
    "##### 3-fold training of a single experiment setting from each group (E1, E2, E3)\n",
    "##### The aim is to search for an optimal number of epoches for the rest of experiment settings"
   ]
  },
  {
   "cell_type": "code",
   "execution_count": 1,
   "metadata": {},
   "outputs": [
    {
     "name": "stdout",
     "output_type": "stream",
     "text": [
      "(4, 64)\n"
     ]
    }
   ],
   "source": [
    "from experiments.experiment_type import ExperimentType\n",
    "from experiments.experiment_config import E1_Config,E2_Config,E3_Config\n",
    "from experiments.experiment import Experiment"
   ]
  },
  {
   "cell_type": "markdown",
   "metadata": {},
   "source": [
    "E1_1"
   ]
  },
  {
   "cell_type": "code",
   "execution_count": 2,
   "metadata": {},
   "outputs": [
    {
     "data": {
      "text/plain": [
       "experiment_name: E1_1_rep_1\n",
       "emb_dim: 128\n",
       "num_layers: 1\n",
       "num_heads: 8\n",
       "forward_dim: 512\n",
       "dropout: 0.05\n",
       "learning_rate: 0.0007\n",
       "batch_size: 64\n",
       "batch_size_eval: 500\n",
       "grad_clip: 1\n",
       "optimizer: AdamW\n",
       "epochs: 25\n",
       "model_save_path: saved_data/models/\n",
       "tensorboard_log_path: saved_data/tensorboard_runs/\n",
       "results_dict_path: saved_data/eval_results/\n",
       "model_weights_path: None\n",
       "device: cuda\n",
       "train_model: True\n",
       "use_tensorboard: True\n",
       "evaluation_interval: 25\n",
       "k_fold: None\n",
       "detailed_logging: False"
      ]
     },
     "execution_count": 2,
     "metadata": {},
     "output_type": "execute_result"
    }
   ],
   "source": [
    "conf =  E1_Config()\n",
    "conf.train_model = True\n",
    "conf.evaluation_interval = 25\n",
    "conf.use_tensorboard = True\n",
    "conf.experiment_name = \"E1_1_rep_1\"\n",
    "conf.use_tensorboard = True\n",
    "conf.detailed_logging = False\n",
    "conf"
   ]
  },
  {
   "cell_type": "code",
   "execution_count": 3,
   "metadata": {},
   "outputs": [
    {
     "name": "stdout",
     "output_type": "stream",
     "text": [
      "The following file will be overwritten: saved_data/tensorboard_runs/E1_1_rep_1\n",
      "--------------------------------------------------\n"
     ]
    },
    {
     "name": "stderr",
     "output_type": "stream",
     "text": [
      "EPOCH:  96%|█████████▌| 24/25 [02:18<00:05,  5.86s/it]"
     ]
    },
    {
     "name": "stdout",
     "output_type": "stream",
     "text": [
      "Epoch 25/25 Batch 6550/6550 Trining Loss: 1.482384554692544\n"
     ]
    },
    {
     "name": "stderr",
     "output_type": "stream",
     "text": [
      "EPOCH: 100%|██████████| 25/25 [02:27<00:00,  5.89s/it]"
     ]
    },
    {
     "name": "stdout",
     "output_type": "stream",
     "text": [
      "Experiment: E1_1_rep_1_epoch_25 Results, Type: E_1_1\n",
      "(ORG)E1_1_rep_1_epoch_25 E_1_1 ACC  TL  Avrg  ORACLE  : 0.9994632601737976\n",
      "(ORG)E1_1_rep_1_epoch_25 E_1_1 ACC  TL  Avrg  NO_ORACLE  : 0.9999664425849915\n",
      "(ORG)E1_1_rep_1_epoch_25 E_1_1 ERR  TL  Avrg  ORACLE  : 0.0005367326666601002\n",
      "(ORG)E1_1_rep_1_epoch_25 E_1_1 ERR  TL  Avrg  NO_ORACLE  : 3.3545791666256264e-05\n",
      "(ORG)E1_1_rep_1_epoch_25 E_1_1 ACC  SL  Avrg  ORACLE  : 0.9923481941223145\n",
      "(ORG)E1_1_rep_1_epoch_25 E_1_1 ACC  SL  Avrg  NO_ORACLE  : 0.999521791934967\n",
      "(ORG)E1_1_rep_1_epoch_25 E_1_1 ERR  SL  Avrg  ORACLE  : 0.007651841267943382\n",
      "(ORG)E1_1_rep_1_epoch_25 E_1_1 ERR  SL  Avrg  NO_ORACLE  : 0.0004782400792464614\n",
      "The following file will be overwritten: saved_data/eval_results/E1_1_rep_1.json\n",
      "Evaluation results will be saved at:  saved_data/eval_results/E1_1_rep_1.json\n"
     ]
    },
    {
     "name": "stderr",
     "output_type": "stream",
     "text": [
      "\n"
     ]
    },
    {
     "name": "stdout",
     "output_type": "stream",
     "text": [
      "The following file will be overwritten: saved_data/tensorboard_runs/E1_1_rep_2\n",
      "--------------------------------------------------\n"
     ]
    },
    {
     "name": "stderr",
     "output_type": "stream",
     "text": [
      "EPOCH:  96%|█████████▌| 24/25 [02:19<00:05,  5.83s/it]"
     ]
    },
    {
     "name": "stdout",
     "output_type": "stream",
     "text": [
      "Epoch 25/25 Batch 6550/6550 Trining Loss: 1.2882310474233236\n"
     ]
    },
    {
     "name": "stderr",
     "output_type": "stream",
     "text": [
      "EPOCH: 100%|██████████| 25/25 [02:28<00:00,  5.94s/it]"
     ]
    },
    {
     "name": "stdout",
     "output_type": "stream",
     "text": [
      "Experiment: E1_1_rep_2_epoch_25 Results, Type: E_1_1\n",
      "(ORG)E1_1_rep_2_epoch_25 E_1_1 ACC  TL  Avrg  ORACLE  : 0.9992452263832092\n",
      "(ORG)E1_1_rep_2_epoch_25 E_1_1 ACC  TL  Avrg  NO_ORACLE  : 0.9997316598892212\n",
      "(ORG)E1_1_rep_2_epoch_25 E_1_1 ERR  TL  Avrg  ORACLE  : 0.0007547802524641156\n",
      "(ORG)E1_1_rep_2_epoch_25 E_1_1 ERR  TL  Avrg  NO_ORACLE  : 0.0002683663333300501\n",
      "(ORG)E1_1_rep_2_epoch_25 E_1_1 ACC  SL  Avrg  ORACLE  : 0.990913450717926\n",
      "(ORG)E1_1_rep_2_epoch_25 E_1_1 ACC  SL  Avrg  NO_ORACLE  : 0.9980870485305786\n",
      "(ORG)E1_1_rep_2_epoch_25 E_1_1 ERR  SL  Avrg  ORACLE  : 0.009086561389267445\n",
      "(ORG)E1_1_rep_2_epoch_25 E_1_1 ERR  SL  Avrg  NO_ORACLE  : 0.0019129603169858456\n",
      "The following file will be overwritten: saved_data/eval_results/E1_1_rep_2.json\n",
      "Evaluation results will be saved at:  saved_data/eval_results/E1_1_rep_2.json\n"
     ]
    },
    {
     "name": "stderr",
     "output_type": "stream",
     "text": [
      "\n"
     ]
    },
    {
     "name": "stdout",
     "output_type": "stream",
     "text": [
      "The following file will be overwritten: saved_data/tensorboard_runs/E1_1_rep_3\n",
      "--------------------------------------------------\n"
     ]
    },
    {
     "name": "stderr",
     "output_type": "stream",
     "text": [
      "EPOCH:  96%|█████████▌| 24/25 [02:20<00:05,  5.82s/it]"
     ]
    },
    {
     "name": "stdout",
     "output_type": "stream",
     "text": [
      "Epoch 25/25 Batch 6550/6550 Trining Loss: 1.1484344027994666\n"
     ]
    },
    {
     "name": "stderr",
     "output_type": "stream",
     "text": [
      "EPOCH: 100%|██████████| 25/25 [02:29<00:00,  5.97s/it]"
     ]
    },
    {
     "name": "stdout",
     "output_type": "stream",
     "text": [
      "Experiment: E1_1_rep_3_epoch_25 Results, Type: E_1_1\n",
      "(ORG)E1_1_rep_3_epoch_25 E_1_1 ACC  TL  Avrg  ORACLE  : 0.9994297027587891\n",
      "(ORG)E1_1_rep_3_epoch_25 E_1_1 ACC  TL  Avrg  NO_ORACLE  : 0.999832272529602\n",
      "(ORG)E1_1_rep_3_epoch_25 E_1_1 ERR  TL  Avrg  ORACLE  : 0.0005702784401364625\n",
      "(ORG)E1_1_rep_3_epoch_25 E_1_1 ERR  TL  Avrg  NO_ORACLE  : 0.0001677289546933025\n",
      "(ORG)E1_1_rep_3_epoch_25 E_1_1 ACC  SL  Avrg  ORACLE  : 0.9923481941223145\n",
      "(ORG)E1_1_rep_3_epoch_25 E_1_1 ACC  SL  Avrg  NO_ORACLE  : 0.9988043904304504\n",
      "(ORG)E1_1_rep_3_epoch_25 E_1_1 ERR  SL  Avrg  ORACLE  : 0.007651841267943382\n",
      "(ORG)E1_1_rep_3_epoch_25 E_1_1 ERR  SL  Avrg  NO_ORACLE  : 0.0011956002563238144\n",
      "The following file will be overwritten: saved_data/eval_results/E1_1_rep_3.json\n",
      "Evaluation results will be saved at:  saved_data/eval_results/E1_1_rep_3.json\n"
     ]
    },
    {
     "name": "stderr",
     "output_type": "stream",
     "text": [
      "\n"
     ]
    }
   ],
   "source": [
    "# rep 1:\n",
    "conf.experiment_name = \"E1_1_rep_1\"\n",
    "Exp = Experiment(ExperimentType.E_1_1, config=conf)\n",
    "Exp.run()\n",
    "Exp.save_results(overwrite=True)\n",
    "\n",
    "conf.experiment_name = \"E1_1_rep_2\"\n",
    "Exp = Experiment(ExperimentType.E_1_1, config=conf)\n",
    "Exp.run()\n",
    "Exp.save_results(overwrite=True)\n",
    "\n",
    "conf.experiment_name = \"E1_1_rep_3\"\n",
    "Exp = Experiment(ExperimentType.E_1_1, config=conf)\n",
    "Exp.run()\n",
    "Exp.save_results(overwrite=True)\n",
    "\n"
   ]
  },
  {
   "cell_type": "code",
   "execution_count": 2,
   "metadata": {},
   "outputs": [],
   "source": [
    "from experiments.experiment_type import ExperimentType, get_experiments_in_group, get_config\n",
    "from experiments.experiment_config import ExperimentConfig\n",
    "from experiments.experiment import Experiment\n",
    "\n",
    "def run_experiment_group(experiment_group):\n",
    "    group:list[ExperimentType] = get_experiments_in_group(experiment_group)\n",
    "    conf:ExperimentConfig = get_config(group[0])\n",
    "    conf.evaluation_interval = conf.epochs\n",
    "    conf.train_model = True\n",
    "    conf.use_tensorboard = True\n",
    "    conf.use_tensorboard = True\n",
    "    conf.detailed_logging = False\n",
    "\n",
    "    for exp in group:\n",
    "        conf.experiment_name = exp.name\n",
    "        Exp = Experiment(experiment_type= exp, config=conf)\n",
    "        Exp.run()\n",
    "        Exp.save_results(overwrite=False)"
   ]
  },
  {
   "cell_type": "markdown",
   "metadata": {},
   "source": [
    "E1_2"
   ]
  },
  {
   "cell_type": "code",
   "execution_count": 3,
   "metadata": {},
   "outputs": [
    {
     "name": "stdout",
     "output_type": "stream",
     "text": [
      "--------------------------------------------------\n"
     ]
    },
    {
     "name": "stderr",
     "output_type": "stream",
     "text": [
      "EPOCH:  96%|█████████▌| 24/25 [00:01<00:00, 12.45it/s]"
     ]
    },
    {
     "name": "stdout",
     "output_type": "stream",
     "text": [
      "Epoch 25/25 Batch 100/100 Trining Loss: 1.9519347250461578\n"
     ]
    },
    {
     "name": "stderr",
     "output_type": "stream",
     "text": [
      "EPOCH: 100%|██████████| 25/25 [00:46<00:00,  1.86s/it]"
     ]
    },
    {
     "name": "stdout",
     "output_type": "stream",
     "text": [
      "Experiment: E_1_2_1(1)_epoch_25 Results, Type: E_1_2_1\n",
      "(ORG)E_1_2_1(1)_epoch_25 E_1_2_1 ACC  TL  Avrg  ORACLE  : 0.5671735405921936\n",
      "(ORG)E_1_2_1(1)_epoch_25 E_1_2_1 ACC  TL  Avrg  NO_ORACLE  : 0.553909420967102\n",
      "(ORG)E_1_2_1(1)_epoch_25 E_1_2_1 ERR  TL  Avrg  ORACLE  : 0.4328264594078064\n",
      "(ORG)E_1_2_1(1)_epoch_25 E_1_2_1 ERR  TL  Avrg  NO_ORACLE  : 0.44609054923057556\n",
      "(ORG)E_1_2_1(1)_epoch_25 E_1_2_1 ACC  SL  Avrg  ORACLE  : 0.06584222614765167\n",
      "(ORG)E_1_2_1(1)_epoch_25 E_1_2_1 ACC  SL  Avrg  NO_ORACLE  : 0.06362011283636093\n",
      "(ORG)E_1_2_1(1)_epoch_25 E_1_2_1 ERR  SL  Avrg  ORACLE  : 0.9341577291488647\n",
      "(ORG)E_1_2_1(1)_epoch_25 E_1_2_1 ERR  SL  Avrg  NO_ORACLE  : 0.9363798499107361\n",
      "Evaluation results will be saved at:  saved_data/eval_results/E_1_2_1(1).json\n",
      "--------------------------------------------------\n"
     ]
    },
    {
     "name": "stderr",
     "output_type": "stream",
     "text": [
      "\n",
      "EPOCH:  96%|█████████▌| 24/25 [00:03<00:00,  6.74it/s]"
     ]
    },
    {
     "name": "stdout",
     "output_type": "stream",
     "text": [
      "Epoch 25/25 Batch 175/175 Trining Loss: 2.1781786382198334\n"
     ]
    },
    {
     "name": "stderr",
     "output_type": "stream",
     "text": [
      "EPOCH: 100%|██████████| 25/25 [00:28<00:00,  1.12s/it]"
     ]
    },
    {
     "name": "stdout",
     "output_type": "stream",
     "text": [
      "Experiment: E_1_2_2(1)_epoch_25 Results, Type: E_1_2_2\n",
      "(ORG)E_1_2_2(1)_epoch_25 E_1_2_2 ACC  TL  Avrg  ORACLE  : 0.7168703079223633\n",
      "(ORG)E_1_2_2(1)_epoch_25 E_1_2_2 ACC  TL  Avrg  NO_ORACLE  : 0.6783039569854736\n",
      "(ORG)E_1_2_2(1)_epoch_25 E_1_2_2 ERR  TL  Avrg  ORACLE  : 0.2831296920776367\n",
      "(ORG)E_1_2_2(1)_epoch_25 E_1_2_2 ERR  TL  Avrg  NO_ORACLE  : 0.32169604301452637\n",
      "(ORG)E_1_2_2(1)_epoch_25 E_1_2_2 ACC  SL  Avrg  ORACLE  : 0.17074955999851227\n",
      "(ORG)E_1_2_2(1)_epoch_25 E_1_2_2 ACC  SL  Avrg  NO_ORACLE  : 0.14161624014377594\n",
      "(ORG)E_1_2_2(1)_epoch_25 E_1_2_2 ERR  SL  Avrg  ORACLE  : 0.8292504549026489\n",
      "(ORG)E_1_2_2(1)_epoch_25 E_1_2_2 ERR  SL  Avrg  NO_ORACLE  : 0.8583837747573853\n",
      "Evaluation results will be saved at:  saved_data/eval_results/E_1_2_2(1).json\n",
      "--------------------------------------------------\n"
     ]
    },
    {
     "name": "stderr",
     "output_type": "stream",
     "text": [
      "\n",
      "EPOCH:  96%|█████████▌| 24/25 [00:07<00:00,  3.36it/s]"
     ]
    },
    {
     "name": "stdout",
     "output_type": "stream",
     "text": [
      "Epoch 25/25 Batch 350/350 Trining Loss: 2.398733377456665\n"
     ]
    },
    {
     "name": "stderr",
     "output_type": "stream",
     "text": [
      "EPOCH: 100%|██████████| 25/25 [00:29<00:00,  1.20s/it]"
     ]
    },
    {
     "name": "stdout",
     "output_type": "stream",
     "text": [
      "Experiment: E_1_2_4(1)_epoch_25 Results, Type: E_1_2_4\n",
      "(ORG)E_1_2_4(1)_epoch_25 E_1_2_4 ACC  TL  Avrg  ORACLE  : 0.8125115036964417\n",
      "(ORG)E_1_2_4(1)_epoch_25 E_1_2_4 ACC  TL  Avrg  NO_ORACLE  : 0.7692246437072754\n",
      "(ORG)E_1_2_4(1)_epoch_25 E_1_2_4 ERR  TL  Avrg  ORACLE  : 0.18748849630355835\n",
      "(ORG)E_1_2_4(1)_epoch_25 E_1_2_4 ERR  TL  Avrg  NO_ORACLE  : 0.2307753711938858\n",
      "(ORG)E_1_2_4(1)_epoch_25 E_1_2_4 ACC  SL  Avrg  ORACLE  : 0.4284646809101105\n",
      "(ORG)E_1_2_4(1)_epoch_25 E_1_2_4 ACC  SL  Avrg  NO_ORACLE  : 0.3452226519584656\n",
      "(ORG)E_1_2_4(1)_epoch_25 E_1_2_4 ERR  SL  Avrg  ORACLE  : 0.5715352892875671\n",
      "(ORG)E_1_2_4(1)_epoch_25 E_1_2_4 ERR  SL  Avrg  NO_ORACLE  : 0.6547772884368896\n",
      "Evaluation results will be saved at:  saved_data/eval_results/E_1_2_4(1).json\n",
      "--------------------------------------------------\n"
     ]
    },
    {
     "name": "stderr",
     "output_type": "stream",
     "text": [
      "\n",
      "EPOCH:  96%|█████████▌| 24/25 [00:14<00:00,  1.70it/s]"
     ]
    },
    {
     "name": "stdout",
     "output_type": "stream",
     "text": [
      "Epoch 25/25 Batch 675/675 Trining Loss: 2.1473857909440994\n"
     ]
    },
    {
     "name": "stderr",
     "output_type": "stream",
     "text": [
      "EPOCH: 100%|██████████| 25/25 [00:30<00:00,  1.22s/it]"
     ]
    },
    {
     "name": "stdout",
     "output_type": "stream",
     "text": [
      "Experiment: E_1_2_8(1)_epoch_25 Results, Type: E_1_2_8\n",
      "(ORG)E_1_2_8(1)_epoch_25 E_1_2_8 ACC  TL  Avrg  ORACLE  : 0.951728343963623\n",
      "(ORG)E_1_2_8(1)_epoch_25 E_1_2_8 ACC  TL  Avrg  NO_ORACLE  : 0.924017608165741\n",
      "(ORG)E_1_2_8(1)_epoch_25 E_1_2_8 ERR  TL  Avrg  ORACLE  : 0.04827165976166725\n",
      "(ORG)E_1_2_8(1)_epoch_25 E_1_2_8 ERR  TL  Avrg  NO_ORACLE  : 0.07598236203193665\n",
      "(ORG)E_1_2_8(1)_epoch_25 E_1_2_8 ACC  SL  Avrg  ORACLE  : 0.8357417583465576\n",
      "(ORG)E_1_2_8(1)_epoch_25 E_1_2_8 ACC  SL  Avrg  NO_ORACLE  : 0.7175902128219604\n",
      "(ORG)E_1_2_8(1)_epoch_25 E_1_2_8 ERR  SL  Avrg  ORACLE  : 0.16425824165344238\n",
      "(ORG)E_1_2_8(1)_epoch_25 E_1_2_8 ERR  SL  Avrg  NO_ORACLE  : 0.28240981698036194\n",
      "Evaluation results will be saved at:  saved_data/eval_results/E_1_2_8(1).json\n"
     ]
    },
    {
     "name": "stderr",
     "output_type": "stream",
     "text": [
      "\n"
     ]
    },
    {
     "name": "stdout",
     "output_type": "stream",
     "text": [
      "--------------------------------------------------\n"
     ]
    },
    {
     "name": "stderr",
     "output_type": "stream",
     "text": [
      "EPOCH:  96%|█████████▌| 24/25 [00:28<00:01,  1.16s/it]"
     ]
    },
    {
     "name": "stdout",
     "output_type": "stream",
     "text": [
      "Epoch 25/25 Batch 1325/1325 Trining Loss: 1.9128750264644623\n"
     ]
    },
    {
     "name": "stderr",
     "output_type": "stream",
     "text": [
      "EPOCH: 100%|██████████| 25/25 [00:47<00:00,  1.90s/it]"
     ]
    },
    {
     "name": "stdout",
     "output_type": "stream",
     "text": [
      "Experiment: E_1_2_16(1)_epoch_25 Results, Type: E_1_2_16\n",
      "(ORG)E_1_2_16(1)_epoch_25 E_1_2_16 ACC  TL  Avrg  ORACLE  : 0.9905275106430054\n",
      "(ORG)E_1_2_16(1)_epoch_25 E_1_2_16 ACC  TL  Avrg  NO_ORACLE  : 0.9892992377281189\n",
      "(ORG)E_1_2_16(1)_epoch_25 E_1_2_16 ERR  TL  Avrg  ORACLE  : 0.00947247538715601\n",
      "(ORG)E_1_2_16(1)_epoch_25 E_1_2_16 ERR  TL  Avrg  NO_ORACLE  : 0.010700756683945656\n",
      "(ORG)E_1_2_16(1)_epoch_25 E_1_2_16 ACC  SL  Avrg  ORACLE  : 0.9578137993812561\n",
      "(ORG)E_1_2_16(1)_epoch_25 E_1_2_16 ACC  SL  Avrg  NO_ORACLE  : 0.9458012580871582\n",
      "(ORG)E_1_2_16(1)_epoch_25 E_1_2_16 ERR  SL  Avrg  ORACLE  : 0.04218616336584091\n",
      "(ORG)E_1_2_16(1)_epoch_25 E_1_2_16 ERR  SL  Avrg  NO_ORACLE  : 0.05419868975877762\n",
      "Evaluation results will be saved at:  saved_data/eval_results/E_1_2_16(1).json\n"
     ]
    },
    {
     "name": "stderr",
     "output_type": "stream",
     "text": [
      "\n"
     ]
    },
    {
     "name": "stdout",
     "output_type": "stream",
     "text": [
      "--------------------------------------------------\n"
     ]
    },
    {
     "name": "stderr",
     "output_type": "stream",
     "text": [
      "EPOCH:  96%|█████████▌| 24/25 [00:55<00:02,  2.31s/it]"
     ]
    },
    {
     "name": "stdout",
     "output_type": "stream",
     "text": [
      "Epoch 25/25 Batch 2625/2625 Trining Loss: 1.7498793185222894\n"
     ]
    },
    {
     "name": "stderr",
     "output_type": "stream",
     "text": [
      "EPOCH: 100%|██████████| 25/25 [01:08<00:00,  2.73s/it]"
     ]
    },
    {
     "name": "stdout",
     "output_type": "stream",
     "text": [
      "Experiment: E_1_2_32(1)_epoch_25 Results, Type: E_1_2_32\n",
      "(ORG)E_1_2_32(1)_epoch_25 E_1_2_32 ACC  TL  Avrg  ORACLE  : 0.9979004263877869\n",
      "(ORG)E_1_2_32(1)_epoch_25 E_1_2_32 ACC  TL  Avrg  NO_ORACLE  : 0.9974148273468018\n",
      "(ORG)E_1_2_32(1)_epoch_25 E_1_2_32 ERR  TL  Avrg  ORACLE  : 0.0020995521917939186\n",
      "(ORG)E_1_2_32(1)_epoch_25 E_1_2_32 ERR  TL  Avrg  NO_ORACLE  : 0.0025851961690932512\n",
      "(ORG)E_1_2_32(1)_epoch_25 E_1_2_32 ACC  SL  Avrg  ORACLE  : 0.9859342575073242\n",
      "(ORG)E_1_2_32(1)_epoch_25 E_1_2_32 ACC  SL  Avrg  NO_ORACLE  : 0.9885364174842834\n",
      "(ORG)E_1_2_32(1)_epoch_25 E_1_2_32 ERR  SL  Avrg  ORACLE  : 0.014065686613321304\n",
      "(ORG)E_1_2_32(1)_epoch_25 E_1_2_32 ERR  SL  Avrg  NO_ORACLE  : 0.011463534086942673\n",
      "Evaluation results will be saved at:  saved_data/eval_results/E_1_2_32(1).json\n"
     ]
    },
    {
     "name": "stderr",
     "output_type": "stream",
     "text": [
      "\n"
     ]
    },
    {
     "name": "stdout",
     "output_type": "stream",
     "text": [
      "--------------------------------------------------\n"
     ]
    },
    {
     "name": "stderr",
     "output_type": "stream",
     "text": [
      "EPOCH:  96%|█████████▌| 24/25 [01:51<00:04,  4.70s/it]"
     ]
    },
    {
     "name": "stdout",
     "output_type": "stream",
     "text": [
      "Epoch 25/25 Batch 5250/5250 Trining Loss: 0.9577598911128007\n"
     ]
    },
    {
     "name": "stderr",
     "output_type": "stream",
     "text": [
      "EPOCH: 100%|██████████| 25/25 [02:02<00:00,  4.89s/it]"
     ]
    },
    {
     "name": "stdout",
     "output_type": "stream",
     "text": [
      "Experiment: E_1_2_64(1)_epoch_25 Results, Type: E_1_2_64\n",
      "(ORG)E_1_2_64(1)_epoch_25 E_1_2_64 ACC  TL  Avrg  ORACLE  : 0.9992334842681885\n",
      "(ORG)E_1_2_64(1)_epoch_25 E_1_2_64 ACC  TL  Avrg  NO_ORACLE  : 0.9994391798973083\n",
      "(ORG)E_1_2_64(1)_epoch_25 E_1_2_64 ERR  TL  Avrg  ORACLE  : 0.0007664912263862789\n",
      "(ORG)E_1_2_64(1)_epoch_25 E_1_2_64 ERR  TL  Avrg  NO_ORACLE  : 0.0005608472274616361\n",
      "(ORG)E_1_2_64(1)_epoch_25 E_1_2_64 ACC  SL  Avrg  ORACLE  : 0.9917640686035156\n",
      "(ORG)E_1_2_64(1)_epoch_25 E_1_2_64 ACC  SL  Avrg  NO_ORACLE  : 0.9954835176467896\n",
      "(ORG)E_1_2_64(1)_epoch_25 E_1_2_64 ERR  SL  Avrg  ORACLE  : 0.008235919289290905\n",
      "(ORG)E_1_2_64(1)_epoch_25 E_1_2_64 ERR  SL  Avrg  NO_ORACLE  : 0.004516471643000841\n",
      "Evaluation results will be saved at:  saved_data/eval_results/E_1_2_64(1).json\n"
     ]
    },
    {
     "name": "stderr",
     "output_type": "stream",
     "text": [
      "\n"
     ]
    }
   ],
   "source": [
    "reps = 3\n",
    "for i in range(reps):\n",
    "    run_experiment_group(\"1_2\")"
   ]
  },
  {
   "cell_type": "markdown",
   "metadata": {},
   "source": [
    " E2"
   ]
  },
  {
   "cell_type": "code",
   "execution_count": 3,
   "metadata": {},
   "outputs": [
    {
     "data": {
      "text/plain": [
       "experiment_name: None\n",
       "emb_dim: 128\n",
       "num_layers: 2\n",
       "num_heads: 8\n",
       "forward_dim: 256\n",
       "dropout: 0.15\n",
       "learning_rate: 0.0002\n",
       "batch_size: 16\n",
       "batch_size_eval: 500\n",
       "grad_clip: 1\n",
       "optimizer: AdamW\n",
       "epochs: 30\n",
       "model_save_path: saved_data/models/\n",
       "tensorboard_log_path: saved_data/tensorboard_runs/\n",
       "results_dict_path: saved_data/eval_results/\n",
       "model_weights_path: None\n",
       "device: cuda\n",
       "train_model: True\n",
       "use_tensorboard: True\n",
       "evaluation_interval: 25\n",
       "k_fold: None\n",
       "detailed_logging: False"
      ]
     },
     "execution_count": 3,
     "metadata": {},
     "output_type": "execute_result"
    }
   ],
   "source": [
    "conf =  E2_Config()\n",
    "conf.train_model = True\n",
    "conf.evaluation_interval = 30\n",
    "conf.use_tensorboard = True\n",
    "conf.use_tensorboard = True\n",
    "conf.detailed_logging = False\n",
    "conf"
   ]
  },
  {
   "cell_type": "code",
   "execution_count": 4,
   "metadata": {},
   "outputs": [
    {
     "name": "stdout",
     "output_type": "stream",
     "text": [
      "--------------------------------------------------\n"
     ]
    },
    {
     "name": "stderr",
     "output_type": "stream",
     "text": [
      "EPOCH:  97%|█████████▋| 29/30 [09:24<00:19, 19.56s/it]"
     ]
    },
    {
     "name": "stdout",
     "output_type": "stream",
     "text": [
      "Epoch 30/30 Batch 31860/31860 Trining Loss: 8.982963125992683\n"
     ]
    },
    {
     "name": "stderr",
     "output_type": "stream",
     "text": [
      "EPOCH: 100%|██████████| 30/30 [09:48<00:00, 19.61s/it]"
     ]
    },
    {
     "name": "stdout",
     "output_type": "stream",
     "text": [
      "Experiment: E2_rep_1_epoch_30 Results, Type: E_2\n",
      "(ORG)E2_rep_1_epoch_30 E_2 ACC  TL  Avrg  ORACLE  : 0.7559671401977539\n",
      "(ORG)E2_rep_1_epoch_30 E_2 ACC  TL  Avrg  NO_ORACLE  : 0.5753914713859558\n",
      "(ORG)E2_rep_1_epoch_30 E_2 ERR  TL  Avrg  ORACLE  : 0.2440328299999237\n",
      "(ORG)E2_rep_1_epoch_30 E_2 ERR  TL  Avrg  NO_ORACLE  : 0.4246084988117218\n",
      "(ORG)E2_rep_1_epoch_30 E_2 ACC  SL  Avrg  ORACLE  : 0.1915816217660904\n",
      "(ORG)E2_rep_1_epoch_30 E_2 ACC  SL  Avrg  NO_ORACLE  : 0.0038265304174274206\n",
      "(ORG)E2_rep_1_epoch_30 E_2 ERR  SL  Avrg  ORACLE  : 0.808418333530426\n",
      "(ORG)E2_rep_1_epoch_30 E_2 ERR  SL  Avrg  NO_ORACLE  : 0.9961734414100647\n",
      "The following file will be overwritten: saved_data/eval_results/E2_rep_1.json\n",
      "Evaluation results will be saved at:  saved_data/eval_results/E2_rep_1.json\n"
     ]
    },
    {
     "name": "stderr",
     "output_type": "stream",
     "text": [
      "\n"
     ]
    },
    {
     "name": "stdout",
     "output_type": "stream",
     "text": [
      "--------------------------------------------------\n"
     ]
    },
    {
     "name": "stderr",
     "output_type": "stream",
     "text": [
      "EPOCH:  97%|█████████▋| 29/30 [08:42<00:17, 17.86s/it]"
     ]
    },
    {
     "name": "stdout",
     "output_type": "stream",
     "text": [
      "Epoch 30/30 Batch 31860/31860 Trining Loss: 12.347619607957313\n"
     ]
    },
    {
     "name": "stderr",
     "output_type": "stream",
     "text": [
      "EPOCH: 100%|██████████| 30/30 [09:04<00:00, 18.15s/it]"
     ]
    },
    {
     "name": "stdout",
     "output_type": "stream",
     "text": [
      "Experiment: E2_rep_2_epoch_30 Results, Type: E_2\n",
      "(ORG)E2_rep_2_epoch_30 E_2 ACC  TL  Avrg  ORACLE  : 0.8372654318809509\n",
      "(ORG)E2_rep_2_epoch_30 E_2 ACC  TL  Avrg  NO_ORACLE  : 0.6708919405937195\n",
      "(ORG)E2_rep_2_epoch_30 E_2 ERR  TL  Avrg  ORACLE  : 0.16273455321788788\n",
      "(ORG)E2_rep_2_epoch_30 E_2 ERR  TL  Avrg  NO_ORACLE  : 0.32910802960395813\n",
      "(ORG)E2_rep_2_epoch_30 E_2 ACC  SL  Avrg  ORACLE  : 0.16326530277729034\n",
      "(ORG)E2_rep_2_epoch_30 E_2 ACC  SL  Avrg  NO_ORACLE  : 0.013265305198729038\n",
      "(ORG)E2_rep_2_epoch_30 E_2 ERR  SL  Avrg  ORACLE  : 0.8367346525192261\n",
      "(ORG)E2_rep_2_epoch_30 E_2 ERR  SL  Avrg  NO_ORACLE  : 0.9867346286773682\n",
      "The following file will be overwritten: saved_data/eval_results/E2_rep_2.json\n",
      "Evaluation results will be saved at:  saved_data/eval_results/E2_rep_2.json\n"
     ]
    },
    {
     "name": "stderr",
     "output_type": "stream",
     "text": [
      "\n"
     ]
    },
    {
     "name": "stdout",
     "output_type": "stream",
     "text": [
      "--------------------------------------------------\n"
     ]
    },
    {
     "name": "stderr",
     "output_type": "stream",
     "text": [
      "EPOCH:  97%|█████████▋| 29/30 [08:45<00:18, 18.21s/it]"
     ]
    },
    {
     "name": "stdout",
     "output_type": "stream",
     "text": [
      "Epoch 30/30 Batch 31860/31860 Trining Loss: 10.327147274714662\n"
     ]
    },
    {
     "name": "stderr",
     "output_type": "stream",
     "text": [
      "EPOCH: 100%|██████████| 30/30 [09:08<00:00, 18.30s/it]"
     ]
    },
    {
     "name": "stdout",
     "output_type": "stream",
     "text": [
      "Experiment: E2_rep_3_epoch_30 Results, Type: E_2\n",
      "(ORG)E2_rep_3_epoch_30 E_2 ACC  TL  Avrg  ORACLE  : 0.8292287588119507\n",
      "(ORG)E2_rep_3_epoch_30 E_2 ACC  TL  Avrg  NO_ORACLE  : 0.6626655459403992\n",
      "(ORG)E2_rep_3_epoch_30 E_2 ERR  TL  Avrg  ORACLE  : 0.17077124118804932\n",
      "(ORG)E2_rep_3_epoch_30 E_2 ERR  TL  Avrg  NO_ORACLE  : 0.33733442425727844\n",
      "(ORG)E2_rep_3_epoch_30 E_2 ACC  SL  Avrg  ORACLE  : 0.12933672964572906\n",
      "(ORG)E2_rep_3_epoch_30 E_2 ACC  SL  Avrg  NO_ORACLE  : 0.013010203838348389\n",
      "(ORG)E2_rep_3_epoch_30 E_2 ERR  SL  Avrg  ORACLE  : 0.8706632256507874\n",
      "(ORG)E2_rep_3_epoch_30 E_2 ERR  SL  Avrg  NO_ORACLE  : 0.9869897365570068\n",
      "The following file will be overwritten: saved_data/eval_results/E2_rep_3.json\n",
      "Evaluation results will be saved at:  saved_data/eval_results/E2_rep_3.json\n"
     ]
    },
    {
     "name": "stderr",
     "output_type": "stream",
     "text": [
      "\n"
     ]
    }
   ],
   "source": [
    "# rep 1:\n",
    "conf.experiment_name = \"E2_rep_1\"\n",
    "Exp = Experiment(ExperimentType.E_2, config=conf)\n",
    "Exp.run()\n",
    "Exp.save_results(overwrite=True)\n",
    "\n",
    "conf.experiment_name = \"E2_rep_2\"\n",
    "Exp = Experiment(ExperimentType.E_2, config=conf)\n",
    "Exp.run()\n",
    "Exp.save_results(overwrite=True)\n",
    "\n",
    "conf.experiment_name = \"E2_rep_3\"\n",
    "Exp = Experiment(ExperimentType.E_2, config=conf)\n",
    "Exp.run()\n",
    "Exp.save_results(overwrite=True)\n"
   ]
  },
  {
   "cell_type": "markdown",
   "metadata": {},
   "source": [
    "E 3_1"
   ]
  },
  {
   "cell_type": "code",
   "execution_count": 5,
   "metadata": {},
   "outputs": [
    {
     "data": {
      "text/plain": [
       "experiment_name: None\n",
       "emb_dim: 128\n",
       "num_layers: 2\n",
       "num_heads: 8\n",
       "forward_dim: 256\n",
       "dropout: 0.15\n",
       "learning_rate: 0.0002\n",
       "batch_size: 16\n",
       "batch_size_eval: 500\n",
       "grad_clip: 1\n",
       "optimizer: AdamW\n",
       "epochs: 40\n",
       "model_save_path: saved_data/models/\n",
       "tensorboard_log_path: saved_data/tensorboard_runs/\n",
       "results_dict_path: saved_data/eval_results/\n",
       "model_weights_path: None\n",
       "device: cuda\n",
       "train_model: True\n",
       "use_tensorboard: True\n",
       "evaluation_interval: 20\n",
       "k_fold: None\n",
       "detailed_logging: False"
      ]
     },
     "execution_count": 5,
     "metadata": {},
     "output_type": "execute_result"
    }
   ],
   "source": [
    "conf =  E3_Config()\n",
    "conf.train_model = True\n",
    "conf.evaluation_interval = 20\n",
    "conf.use_tensorboard = True\n",
    "conf.use_tensorboard = True\n",
    "conf.detailed_logging = False\n",
    "conf"
   ]
  },
  {
   "cell_type": "code",
   "execution_count": 6,
   "metadata": {},
   "outputs": [
    {
     "name": "stdout",
     "output_type": "stream",
     "text": [
      "--------------------------------------------------\n"
     ]
    },
    {
     "name": "stderr",
     "output_type": "stream",
     "text": [
      "EPOCH:  98%|█████████▊| 39/40 [14:44<00:22, 22.54s/it]"
     ]
    },
    {
     "name": "stdout",
     "output_type": "stream",
     "text": [
      "Epoch 40/40 Batch 54760/54760 Trining Loss: 7.689180485496763\n"
     ]
    },
    {
     "name": "stderr",
     "output_type": "stream",
     "text": [
      "EPOCH: 100%|██████████| 40/40 [15:07<00:00, 22.69s/it]"
     ]
    },
    {
     "name": "stdout",
     "output_type": "stream",
     "text": [
      "Experiment: E3_1_rep_1_epoch_40 Results, Type: E_3_1\n",
      "(ORG)E3_1_rep_1_epoch_40 E_3_1 ACC  TL  Avrg  ORACLE  : 0.9966861009597778\n",
      "(ORG)E3_1_rep_1_epoch_40 E_3_1 ACC  TL  Avrg  NO_ORACLE  : 0.9993730187416077\n",
      "(ORG)E3_1_rep_1_epoch_40 E_3_1 ERR  TL  Avrg  ORACLE  : 0.0033139274455606937\n",
      "(ORG)E3_1_rep_1_epoch_40 E_3_1 ERR  TL  Avrg  NO_ORACLE  : 0.0006269592558965087\n",
      "(ORG)E3_1_rep_1_epoch_40 E_3_1 ACC  SL  Avrg  ORACLE  : 0.9701986908912659\n",
      "(ORG)E3_1_rep_1_epoch_40 E_3_1 ACC  SL  Avrg  NO_ORACLE  : 0.9950330853462219\n",
      "(ORG)E3_1_rep_1_epoch_40 E_3_1 ERR  SL  Avrg  ORACLE  : 0.029801324009895325\n",
      "(ORG)E3_1_rep_1_epoch_40 E_3_1 ERR  SL  Avrg  NO_ORACLE  : 0.004966887645423412\n",
      "The following file will be overwritten: saved_data/eval_results/E3_1_rep_1.json\n",
      "Evaluation results will be saved at:  saved_data/eval_results/E3_1_rep_1.json\n"
     ]
    },
    {
     "name": "stderr",
     "output_type": "stream",
     "text": [
      "\n"
     ]
    },
    {
     "name": "stdout",
     "output_type": "stream",
     "text": [
      "--------------------------------------------------\n"
     ]
    },
    {
     "name": "stderr",
     "output_type": "stream",
     "text": [
      "EPOCH:  98%|█████████▊| 39/40 [14:41<00:22, 22.45s/it]"
     ]
    },
    {
     "name": "stdout",
     "output_type": "stream",
     "text": [
      "Epoch 40/40 Batch 54760/54760 Trining Loss: 6.790130774192221\n"
     ]
    },
    {
     "name": "stderr",
     "output_type": "stream",
     "text": [
      "EPOCH: 100%|██████████| 40/40 [15:04<00:00, 22.61s/it]"
     ]
    },
    {
     "name": "stdout",
     "output_type": "stream",
     "text": [
      "Experiment: E3_1_rep_2_epoch_40 Results, Type: E_3_1\n",
      "(ORG)E3_1_rep_2_epoch_40 E_3_1 ACC  TL  Avrg  ORACLE  : 0.9811912178993225\n",
      "(ORG)E3_1_rep_2_epoch_40 E_3_1 ACC  TL  Avrg  NO_ORACLE  : 0.9829825162887573\n",
      "(ORG)E3_1_rep_2_epoch_40 E_3_1 ERR  TL  Avrg  ORACLE  : 0.018808776512742043\n",
      "(ORG)E3_1_rep_2_epoch_40 E_3_1 ERR  TL  Avrg  NO_ORACLE  : 0.017017465084791183\n",
      "(ORG)E3_1_rep_2_epoch_40 E_3_1 ACC  SL  Avrg  ORACLE  : 0.932947039604187\n",
      "(ORG)E3_1_rep_2_epoch_40 E_3_1 ACC  SL  Avrg  NO_ORACLE  : 0.9552980065345764\n",
      "(ORG)E3_1_rep_2_epoch_40 E_3_1 ERR  SL  Avrg  ORACLE  : 0.06705298274755478\n",
      "(ORG)E3_1_rep_2_epoch_40 E_3_1 ERR  SL  Avrg  NO_ORACLE  : 0.04470198601484299\n",
      "The following file will be overwritten: saved_data/eval_results/E3_1_rep_2.json\n",
      "Evaluation results will be saved at:  saved_data/eval_results/E3_1_rep_2.json\n"
     ]
    },
    {
     "name": "stderr",
     "output_type": "stream",
     "text": [
      "\n"
     ]
    },
    {
     "name": "stdout",
     "output_type": "stream",
     "text": [
      "--------------------------------------------------\n"
     ]
    },
    {
     "name": "stderr",
     "output_type": "stream",
     "text": [
      "EPOCH:  98%|█████████▊| 39/40 [14:30<00:22, 22.23s/it]"
     ]
    },
    {
     "name": "stdout",
     "output_type": "stream",
     "text": [
      "Epoch 40/40 Batch 54760/54760 Trining Loss: 6.68490159603607\n"
     ]
    },
    {
     "name": "stderr",
     "output_type": "stream",
     "text": [
      "EPOCH: 100%|██████████| 40/40 [14:53<00:00, 22.34s/it]"
     ]
    },
    {
     "name": "stdout",
     "output_type": "stream",
     "text": [
      "Experiment: E3_1_rep_3_epoch_40 Results, Type: E_3_1\n",
      "(ORG)E3_1_rep_3_epoch_40 E_3_1 ACC  TL  Avrg  ORACLE  : 0.9971339106559753\n",
      "(ORG)E3_1_rep_3_epoch_40 E_3_1 ACC  TL  Avrg  NO_ORACLE  : 0.9996417164802551\n",
      "(ORG)E3_1_rep_3_epoch_40 E_3_1 ERR  TL  Avrg  ORACLE  : 0.0028660993557423353\n",
      "(ORG)E3_1_rep_3_epoch_40 E_3_1 ERR  TL  Avrg  NO_ORACLE  : 0.0003582624194677919\n",
      "(ORG)E3_1_rep_3_epoch_40 E_3_1 ACC  SL  Avrg  ORACLE  : 0.9735099077224731\n",
      "(ORG)E3_1_rep_3_epoch_40 E_3_1 ACC  SL  Avrg  NO_ORACLE  : 0.996688723564148\n",
      "(ORG)E3_1_rep_3_epoch_40 E_3_1 ERR  SL  Avrg  ORACLE  : 0.026490066200494766\n",
      "(ORG)E3_1_rep_3_epoch_40 E_3_1 ERR  SL  Avrg  NO_ORACLE  : 0.0033112582750618458\n",
      "The following file will be overwritten: saved_data/eval_results/E3_1_rep_3.json\n",
      "Evaluation results will be saved at:  saved_data/eval_results/E3_1_rep_3.json\n"
     ]
    },
    {
     "name": "stderr",
     "output_type": "stream",
     "text": [
      "\n"
     ]
    }
   ],
   "source": [
    "# rep 1:\n",
    "conf.experiment_name = \"E3_1_rep_1\"\n",
    "Exp = Experiment(ExperimentType.E_3_1, config=conf)\n",
    "Exp.run()\n",
    "Exp.save_results(overwrite=True)\n",
    "\n",
    "conf.experiment_name = \"E3_1_rep_2\"\n",
    "Exp = Experiment(ExperimentType.E_3_1, config=conf)\n",
    "Exp.run()\n",
    "Exp.save_results(overwrite=True)\n",
    "\n",
    "conf.experiment_name = \"E3_1_rep_3\"\n",
    "Exp = Experiment(ExperimentType.E_3_1, config=conf)\n",
    "Exp.run()\n",
    "Exp.save_results(overwrite=True)"
   ]
  },
  {
   "cell_type": "markdown",
   "metadata": {},
   "source": [
    "E3_2"
   ]
  },
  {
   "cell_type": "code",
   "execution_count": 7,
   "metadata": {},
   "outputs": [
    {
     "data": {
      "text/plain": [
       "experiment_name: None\n",
       "emb_dim: 128\n",
       "num_layers: 2\n",
       "num_heads: 8\n",
       "forward_dim: 256\n",
       "dropout: 0.15\n",
       "learning_rate: 0.0002\n",
       "batch_size: 16\n",
       "batch_size_eval: 500\n",
       "grad_clip: 1\n",
       "optimizer: AdamW\n",
       "epochs: 40\n",
       "model_save_path: saved_data/models/\n",
       "tensorboard_log_path: saved_data/tensorboard_runs/\n",
       "results_dict_path: saved_data/eval_results/\n",
       "model_weights_path: None\n",
       "device: cuda\n",
       "train_model: True\n",
       "use_tensorboard: True\n",
       "evaluation_interval: 20\n",
       "k_fold: None\n",
       "detailed_logging: False"
      ]
     },
     "execution_count": 7,
     "metadata": {},
     "output_type": "execute_result"
    }
   ],
   "source": [
    "conf =  E3_Config()\n",
    "conf.train_model = True\n",
    "conf.evaluation_interval = 20\n",
    "conf.use_tensorboard = True\n",
    "conf.use_tensorboard = True\n",
    "conf.detailed_logging = False\n",
    "conf"
   ]
  },
  {
   "cell_type": "code",
   "execution_count": 8,
   "metadata": {},
   "outputs": [
    {
     "name": "stdout",
     "output_type": "stream",
     "text": [
      "--------------------------------------------------\n"
     ]
    },
    {
     "name": "stderr",
     "output_type": "stream",
     "text": [
      "EPOCH:  98%|█████████▊| 39/40 [10:00<00:16, 16.17s/it]"
     ]
    },
    {
     "name": "stdout",
     "output_type": "stream",
     "text": [
      "Epoch 40/40 Batch 36680/36680 Trining Loss: 6.427654333179817\n"
     ]
    },
    {
     "name": "stderr",
     "output_type": "stream",
     "text": [
      "EPOCH: 100%|██████████| 40/40 [10:23<00:00, 15.59s/it]"
     ]
    },
    {
     "name": "stdout",
     "output_type": "stream",
     "text": [
      "Experiment: E3_2_rep_1_epoch_40 Results, Type: E_3_2\n",
      "(ORG)E3_2_rep_1_epoch_40 E_3_2 ACC  TL  Avrg  ORACLE  : 0.6859914064407349\n",
      "(ORG)E3_2_rep_1_epoch_40 E_3_2 ACC  TL  Avrg  NO_ORACLE  : 0.6820662617683411\n",
      "(ORG)E3_2_rep_1_epoch_40 E_3_2 ERR  TL  Avrg  ORACLE  : 0.31400859355926514\n",
      "(ORG)E3_2_rep_1_epoch_40 E_3_2 ERR  TL  Avrg  NO_ORACLE  : 0.31793370842933655\n",
      "(ORG)E3_2_rep_1_epoch_40 E_3_2 ACC  SL  Avrg  ORACLE  : 0.003244225401431322\n",
      "(ORG)E3_2_rep_1_epoch_40 E_3_2 ACC  SL  Avrg  NO_ORACLE  : 0.0024656113237142563\n",
      "(ORG)E3_2_rep_1_epoch_40 E_3_2 ERR  SL  Avrg  ORACLE  : 0.996755838394165\n",
      "(ORG)E3_2_rep_1_epoch_40 E_3_2 ERR  SL  Avrg  NO_ORACLE  : 0.997534453868866\n",
      "The following file will be overwritten: saved_data/eval_results/E3_2_rep_1.json\n",
      "Evaluation results will be saved at:  saved_data/eval_results/E3_2_rep_1.json\n"
     ]
    },
    {
     "name": "stderr",
     "output_type": "stream",
     "text": [
      "\n"
     ]
    },
    {
     "name": "stdout",
     "output_type": "stream",
     "text": [
      "--------------------------------------------------\n"
     ]
    },
    {
     "name": "stderr",
     "output_type": "stream",
     "text": [
      "EPOCH:  98%|█████████▊| 39/40 [09:55<00:15, 15.09s/it]"
     ]
    },
    {
     "name": "stdout",
     "output_type": "stream",
     "text": [
      "Epoch 40/40 Batch 36680/36680 Trining Loss: 7.846820036822464\n"
     ]
    },
    {
     "name": "stderr",
     "output_type": "stream",
     "text": [
      "EPOCH: 100%|██████████| 40/40 [10:17<00:00, 15.45s/it]"
     ]
    },
    {
     "name": "stdout",
     "output_type": "stream",
     "text": [
      "Experiment: E3_2_rep_2_epoch_40 Results, Type: E_3_2\n",
      "(ORG)E3_2_rep_2_epoch_40 E_3_2 ACC  TL  Avrg  ORACLE  : 0.6422457098960876\n",
      "(ORG)E3_2_rep_2_epoch_40 E_3_2 ACC  TL  Avrg  NO_ORACLE  : 0.6240220069885254\n",
      "(ORG)E3_2_rep_2_epoch_40 E_3_2 ERR  TL  Avrg  ORACLE  : 0.35775429010391235\n",
      "(ORG)E3_2_rep_2_epoch_40 E_3_2 ERR  TL  Avrg  NO_ORACLE  : 0.3759779930114746\n",
      "(ORG)E3_2_rep_2_epoch_40 E_3_2 ACC  SL  Avrg  ORACLE  : 0.018297431990504265\n",
      "(ORG)E3_2_rep_2_epoch_40 E_3_2 ACC  SL  Avrg  NO_ORACLE  : 0.0011679211165755987\n",
      "(ORG)E3_2_rep_2_epoch_40 E_3_2 ERR  SL  Avrg  ORACLE  : 0.9817026257514954\n",
      "(ORG)E3_2_rep_2_epoch_40 E_3_2 ERR  SL  Avrg  NO_ORACLE  : 0.998832106590271\n",
      "The following file will be overwritten: saved_data/eval_results/E3_2_rep_2.json\n",
      "Evaluation results will be saved at:  saved_data/eval_results/E3_2_rep_2.json\n"
     ]
    },
    {
     "name": "stderr",
     "output_type": "stream",
     "text": [
      "\n"
     ]
    },
    {
     "name": "stdout",
     "output_type": "stream",
     "text": [
      "--------------------------------------------------\n"
     ]
    },
    {
     "name": "stderr",
     "output_type": "stream",
     "text": [
      "EPOCH:  98%|█████████▊| 39/40 [09:55<00:15, 15.01s/it]"
     ]
    },
    {
     "name": "stdout",
     "output_type": "stream",
     "text": [
      "Epoch 40/40 Batch 36680/36680 Trining Loss: 7.70700834269519\n"
     ]
    },
    {
     "name": "stderr",
     "output_type": "stream",
     "text": [
      "EPOCH: 100%|██████████| 40/40 [10:18<00:00, 15.45s/it]"
     ]
    },
    {
     "name": "stdout",
     "output_type": "stream",
     "text": [
      "Experiment: E3_2_rep_3_epoch_40 Results, Type: E_3_2\n",
      "(ORG)E3_2_rep_3_epoch_40 E_3_2 ACC  TL  Avrg  ORACLE  : 0.5703496932983398\n",
      "(ORG)E3_2_rep_3_epoch_40 E_3_2 ACC  TL  Avrg  NO_ORACLE  : 0.5537993907928467\n",
      "(ORG)E3_2_rep_3_epoch_40 E_3_2 ERR  TL  Avrg  ORACLE  : 0.42965033650398254\n",
      "(ORG)E3_2_rep_3_epoch_40 E_3_2 ERR  TL  Avrg  NO_ORACLE  : 0.4462006092071533\n",
      "(ORG)E3_2_rep_3_epoch_40 E_3_2 ACC  SL  Avrg  ORACLE  : 0.0038930706214159727\n",
      "(ORG)E3_2_rep_3_epoch_40 E_3_2 ACC  SL  Avrg  NO_ORACLE  : 0.0018167662201449275\n",
      "(ORG)E3_2_rep_3_epoch_40 E_3_2 ERR  SL  Avrg  ORACLE  : 0.9961069822311401\n",
      "(ORG)E3_2_rep_3_epoch_40 E_3_2 ERR  SL  Avrg  NO_ORACLE  : 0.9981833100318909\n",
      "The following file will be overwritten: saved_data/eval_results/E3_2_rep_3.json\n",
      "Evaluation results will be saved at:  saved_data/eval_results/E3_2_rep_3.json\n"
     ]
    },
    {
     "name": "stderr",
     "output_type": "stream",
     "text": [
      "\n"
     ]
    }
   ],
   "source": [
    "# rep 1:\n",
    "conf.experiment_name = \"E3_2_rep_1\"\n",
    "Exp = Experiment(ExperimentType.E_3_2, config=conf)\n",
    "Exp.run()\n",
    "Exp.save_results(overwrite=True)\n",
    "\n",
    "conf.experiment_name = \"E3_2_rep_2\"\n",
    "Exp = Experiment(ExperimentType.E_3_2, config=conf)\n",
    "Exp.run()\n",
    "Exp.save_results(overwrite=True)\n",
    "\n",
    "conf.experiment_name = \"E3_2_rep_3\"\n",
    "Exp = Experiment(ExperimentType.E_3_2, config=conf)\n",
    "Exp.run()\n",
    "Exp.save_results(overwrite=True)"
   ]
  },
  {
   "cell_type": "markdown",
   "metadata": {},
   "source": [
    "E3_3"
   ]
  },
  {
   "cell_type": "code",
   "execution_count": null,
   "metadata": {},
   "outputs": [],
   "source": []
  },
  {
   "cell_type": "code",
   "execution_count": 3,
   "metadata": {},
   "outputs": [
    {
     "name": "stdout",
     "output_type": "stream",
     "text": [
      "--------------------------------------------------\n"
     ]
    },
    {
     "name": "stderr",
     "output_type": "stream",
     "text": [
      "EPOCH:  45%|████▌     | 9/20 [02:31<03:05, 16.85s/it]\n"
     ]
    },
    {
     "ename": "KeyboardInterrupt",
     "evalue": "",
     "output_type": "error",
     "traceback": [
      "\u001b[1;31m---------------------------------------------------------------------------\u001b[0m",
      "\u001b[1;31mKeyboardInterrupt\u001b[0m                         Traceback (most recent call last)",
      "Cell \u001b[1;32mIn[3], line 2\u001b[0m\n\u001b[0;32m      1\u001b[0m \u001b[38;5;66;03m# No reps, just once each setting\u001b[39;00m\n\u001b[1;32m----> 2\u001b[0m \u001b[43mrun_experiment_group\u001b[49m\u001b[43m(\u001b[49m\u001b[38;5;124;43m\"\u001b[39;49m\u001b[38;5;124;43m3_3\u001b[39;49m\u001b[38;5;124;43m\"\u001b[39;49m\u001b[43m)\u001b[49m\n",
      "Cell \u001b[1;32mIn[2], line 17\u001b[0m, in \u001b[0;36mrun_experiment_group\u001b[1;34m(experiment_group)\u001b[0m\n\u001b[0;32m     15\u001b[0m conf\u001b[38;5;241m.\u001b[39mexperiment_name \u001b[38;5;241m=\u001b[39m exp\u001b[38;5;241m.\u001b[39mname\n\u001b[0;32m     16\u001b[0m Exp \u001b[38;5;241m=\u001b[39m Experiment(experiment_type\u001b[38;5;241m=\u001b[39m exp, config\u001b[38;5;241m=\u001b[39mconf)\n\u001b[1;32m---> 17\u001b[0m \u001b[43mExp\u001b[49m\u001b[38;5;241;43m.\u001b[39;49m\u001b[43mrun\u001b[49m\u001b[43m(\u001b[49m\u001b[43m)\u001b[49m\n\u001b[0;32m     18\u001b[0m Exp\u001b[38;5;241m.\u001b[39msave_results(overwrite\u001b[38;5;241m=\u001b[39m\u001b[38;5;28;01mFalse\u001b[39;00m)\n",
      "File \u001b[1;32mc:\\KU\\ATNLP\\Scan_Experiments\\experiments\\experiment.py:267\u001b[0m, in \u001b[0;36mExperiment.run\u001b[1;34m(self)\u001b[0m\n\u001b[0;32m    265\u001b[0m         \u001b[38;5;28mself\u001b[39m\u001b[38;5;241m.\u001b[39m_k_fold_train()\n\u001b[0;32m    266\u001b[0m     \u001b[38;5;28;01melse\u001b[39;00m:\n\u001b[1;32m--> 267\u001b[0m         \u001b[38;5;28;43mself\u001b[39;49m\u001b[38;5;241;43m.\u001b[39;49m\u001b[43m_train\u001b[49m\u001b[43m(\u001b[49m\u001b[43m)\u001b[49m\n\u001b[0;32m    268\u001b[0m \u001b[38;5;28;01mreturn\u001b[39;00m \u001b[38;5;28mself\u001b[39m\u001b[38;5;241m.\u001b[39mresult_container\n",
      "File \u001b[1;32mc:\\KU\\ATNLP\\Scan_Experiments\\experiments\\experiment.py:206\u001b[0m, in \u001b[0;36mExperiment._train\u001b[1;34m(self)\u001b[0m\n\u001b[0;32m    204\u001b[0m out \u001b[38;5;241m=\u001b[39m \u001b[38;5;28mself\u001b[39m\u001b[38;5;241m.\u001b[39mmodel(inputs, decoder_inputs)\n\u001b[0;32m    205\u001b[0m loss \u001b[38;5;241m=\u001b[39m criterion(out\u001b[38;5;241m.\u001b[39mpermute(\u001b[38;5;241m0\u001b[39m, \u001b[38;5;241m2\u001b[39m, \u001b[38;5;241m1\u001b[39m), target_label_indices)\n\u001b[1;32m--> 206\u001b[0m \u001b[43mloss\u001b[49m\u001b[38;5;241;43m.\u001b[39;49m\u001b[43mbackward\u001b[49m\u001b[43m(\u001b[49m\u001b[43m)\u001b[49m\n\u001b[0;32m    207\u001b[0m clip_grad_norm_(\u001b[38;5;28mself\u001b[39m\u001b[38;5;241m.\u001b[39mmodel\u001b[38;5;241m.\u001b[39mparameters(), grad_clip)\n\u001b[0;32m    208\u001b[0m optimizer\u001b[38;5;241m.\u001b[39mstep()\n",
      "File \u001b[1;32mc:\\Users\\newma\\AppData\\Local\\Programs\\Python\\Python310\\lib\\site-packages\\torch\\_tensor.py:581\u001b[0m, in \u001b[0;36mTensor.backward\u001b[1;34m(self, gradient, retain_graph, create_graph, inputs)\u001b[0m\n\u001b[0;32m    571\u001b[0m \u001b[38;5;28;01mif\u001b[39;00m has_torch_function_unary(\u001b[38;5;28mself\u001b[39m):\n\u001b[0;32m    572\u001b[0m     \u001b[38;5;28;01mreturn\u001b[39;00m handle_torch_function(\n\u001b[0;32m    573\u001b[0m         Tensor\u001b[38;5;241m.\u001b[39mbackward,\n\u001b[0;32m    574\u001b[0m         (\u001b[38;5;28mself\u001b[39m,),\n\u001b[1;32m   (...)\u001b[0m\n\u001b[0;32m    579\u001b[0m         inputs\u001b[38;5;241m=\u001b[39minputs,\n\u001b[0;32m    580\u001b[0m     )\n\u001b[1;32m--> 581\u001b[0m \u001b[43mtorch\u001b[49m\u001b[38;5;241;43m.\u001b[39;49m\u001b[43mautograd\u001b[49m\u001b[38;5;241;43m.\u001b[39;49m\u001b[43mbackward\u001b[49m\u001b[43m(\u001b[49m\n\u001b[0;32m    582\u001b[0m \u001b[43m    \u001b[49m\u001b[38;5;28;43mself\u001b[39;49m\u001b[43m,\u001b[49m\u001b[43m \u001b[49m\u001b[43mgradient\u001b[49m\u001b[43m,\u001b[49m\u001b[43m \u001b[49m\u001b[43mretain_graph\u001b[49m\u001b[43m,\u001b[49m\u001b[43m \u001b[49m\u001b[43mcreate_graph\u001b[49m\u001b[43m,\u001b[49m\u001b[43m \u001b[49m\u001b[43minputs\u001b[49m\u001b[38;5;241;43m=\u001b[39;49m\u001b[43minputs\u001b[49m\n\u001b[0;32m    583\u001b[0m \u001b[43m\u001b[49m\u001b[43m)\u001b[49m\n",
      "File \u001b[1;32mc:\\Users\\newma\\AppData\\Local\\Programs\\Python\\Python310\\lib\\site-packages\\torch\\autograd\\__init__.py:347\u001b[0m, in \u001b[0;36mbackward\u001b[1;34m(tensors, grad_tensors, retain_graph, create_graph, grad_variables, inputs)\u001b[0m\n\u001b[0;32m    342\u001b[0m     retain_graph \u001b[38;5;241m=\u001b[39m create_graph\n\u001b[0;32m    344\u001b[0m \u001b[38;5;66;03m# The reason we repeat the same comment below is that\u001b[39;00m\n\u001b[0;32m    345\u001b[0m \u001b[38;5;66;03m# some Python versions print out the first line of a multi-line function\u001b[39;00m\n\u001b[0;32m    346\u001b[0m \u001b[38;5;66;03m# calls in the traceback and some print out the last line\u001b[39;00m\n\u001b[1;32m--> 347\u001b[0m \u001b[43m_engine_run_backward\u001b[49m\u001b[43m(\u001b[49m\n\u001b[0;32m    348\u001b[0m \u001b[43m    \u001b[49m\u001b[43mtensors\u001b[49m\u001b[43m,\u001b[49m\n\u001b[0;32m    349\u001b[0m \u001b[43m    \u001b[49m\u001b[43mgrad_tensors_\u001b[49m\u001b[43m,\u001b[49m\n\u001b[0;32m    350\u001b[0m \u001b[43m    \u001b[49m\u001b[43mretain_graph\u001b[49m\u001b[43m,\u001b[49m\n\u001b[0;32m    351\u001b[0m \u001b[43m    \u001b[49m\u001b[43mcreate_graph\u001b[49m\u001b[43m,\u001b[49m\n\u001b[0;32m    352\u001b[0m \u001b[43m    \u001b[49m\u001b[43minputs\u001b[49m\u001b[43m,\u001b[49m\n\u001b[0;32m    353\u001b[0m \u001b[43m    \u001b[49m\u001b[43mallow_unreachable\u001b[49m\u001b[38;5;241;43m=\u001b[39;49m\u001b[38;5;28;43;01mTrue\u001b[39;49;00m\u001b[43m,\u001b[49m\n\u001b[0;32m    354\u001b[0m \u001b[43m    \u001b[49m\u001b[43maccumulate_grad\u001b[49m\u001b[38;5;241;43m=\u001b[39;49m\u001b[38;5;28;43;01mTrue\u001b[39;49;00m\u001b[43m,\u001b[49m\n\u001b[0;32m    355\u001b[0m \u001b[43m\u001b[49m\u001b[43m)\u001b[49m\n",
      "File \u001b[1;32mc:\\Users\\newma\\AppData\\Local\\Programs\\Python\\Python310\\lib\\site-packages\\torch\\autograd\\graph.py:825\u001b[0m, in \u001b[0;36m_engine_run_backward\u001b[1;34m(t_outputs, *args, **kwargs)\u001b[0m\n\u001b[0;32m    823\u001b[0m     unregister_hooks \u001b[38;5;241m=\u001b[39m _register_logging_hooks_on_whole_graph(t_outputs)\n\u001b[0;32m    824\u001b[0m \u001b[38;5;28;01mtry\u001b[39;00m:\n\u001b[1;32m--> 825\u001b[0m     \u001b[38;5;28;01mreturn\u001b[39;00m Variable\u001b[38;5;241m.\u001b[39m_execution_engine\u001b[38;5;241m.\u001b[39mrun_backward(  \u001b[38;5;66;03m# Calls into the C++ engine to run the backward pass\u001b[39;00m\n\u001b[0;32m    826\u001b[0m         t_outputs, \u001b[38;5;241m*\u001b[39margs, \u001b[38;5;241m*\u001b[39m\u001b[38;5;241m*\u001b[39mkwargs\n\u001b[0;32m    827\u001b[0m     )  \u001b[38;5;66;03m# Calls into the C++ engine to run the backward pass\u001b[39;00m\n\u001b[0;32m    828\u001b[0m \u001b[38;5;28;01mfinally\u001b[39;00m:\n\u001b[0;32m    829\u001b[0m     \u001b[38;5;28;01mif\u001b[39;00m attach_logging_hooks:\n",
      "\u001b[1;31mKeyboardInterrupt\u001b[0m: "
     ]
    }
   ],
   "source": [
    "# No reps, just once each setting\n",
    "run_experiment_group(\"3_3\")"
   ]
  }
 ],
 "metadata": {
  "kernelspec": {
   "display_name": "Python 3",
   "language": "python",
   "name": "python3"
  },
  "language_info": {
   "codemirror_mode": {
    "name": "ipython",
    "version": 3
   },
   "file_extension": ".py",
   "mimetype": "text/x-python",
   "name": "python",
   "nbconvert_exporter": "python",
   "pygments_lexer": "ipython3",
   "version": "3.10.8"
  }
 },
 "nbformat": 4,
 "nbformat_minor": 2
}
