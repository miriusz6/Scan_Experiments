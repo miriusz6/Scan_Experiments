{
 "cells": [
  {
   "cell_type": "markdown",
   "metadata": {},
   "source": [
    "# Experiment 1"
   ]
  },
  {
   "cell_type": "markdown",
   "metadata": {},
   "source": [
    "#### Important notes: <br>\n",
    "1: Training consisted of 100,000 trials, each presenting an\n",
    "input/output sequence and then updating the networks\n",
    "weights <br>\n",
    "2:  Note that, in all experiments, the number of distinct training\n",
    "commands is well below 100k: we randomly sampled them with\n",
    "replacement to reach the target size <br>\n",
    "3: The ADAM optimization algorithm was used\n",
    "with default parameters, including a learning rate of 0.001  ( not important becuase diffrent is provided)<br>\n",
    "4: Gradients with a norm larger\n",
    "than 5.0 were clipped. (different val provided)<br>\n",
    "5: During training, for half the\n",
    "time, the network’s self-produced outputs were passed back\n",
    "to the next step, and for the other half of the time, the groundtruth outputs were passed back to the next step - teacher\n",
    "forcing (Can we simulate it in any way? or we drop it cuz its not recurrent) <br>"
   ]
  },
  {
   "cell_type": "code",
   "execution_count": 1,
   "metadata": {},
   "outputs": [
    {
     "data": {
      "text/plain": [
       "experiment_name: E1_1_1\n",
       "emb_dim: 128\n",
       "num_layers: 1\n",
       "num_heads: 8\n",
       "forward_dim: 512\n",
       "dropout: 0.05\n",
       "learning_rate: 0.0007\n",
       "batch_size: 64\n",
       "batch_size_eval: 500\n",
       "grad_clip: 1\n",
       "optimizer: AdamW\n",
       "epochs: 2\n",
       "model_save_path: saved_data/models/\n",
       "tensorboard_log_path: saved_data/tensorboard_runs/\n",
       "results_dict_path: saved_data/eval_results/\n",
       "model_weights_path: None\n",
       "device: cuda\n",
       "train_model: True\n",
       "use_tensorboard: False\n",
       "evaluation_interval: 1\n",
       "k_fold: None\n",
       "detailed_logging: True"
      ]
     },
     "execution_count": 1,
     "metadata": {},
     "output_type": "execute_result"
    }
   ],
   "source": [
    "from experiments.experiment_type import ExperimentType\n",
    "from experiments.experiment_config import E1_Config\n",
    "from experiments.experiment import Experiment\n",
    "\n",
    "conf =  E1_Config()\n",
    "conf.train_model = True\n",
    "conf.evaluation_interval = 1\n",
    "conf.use_tensorboard = False\n",
    "conf.experiment_name = \"E1_1_1\"\n",
    "conf.epochs = 2\n",
    "conf.k_fold = None#2\n",
    "Exp = Experiment(ExperimentType.E_1_1, config=conf)\n",
    "conf\n",
    "\n",
    "\n",
    "\n"
   ]
  },
  {
   "cell_type": "code",
   "execution_count": 2,
   "metadata": {},
   "outputs": [
    {
     "name": "stdout",
     "output_type": "stream",
     "text": [
      "--------------------------------------------------\n",
      "Training started for experiment:  E_1_1 \n"
     ]
    },
    {
     "name": "stderr",
     "output_type": "stream",
     "text": [
      "EPOCH:   0%|          | 0/2 [00:00<?, ?it/s]"
     ]
    },
    {
     "name": "stdout",
     "output_type": "stream",
     "text": [
      "Epoch 1/2 Batch 262/524 Trining Loss: 174.64399552345276\n"
     ]
    },
    {
     "name": "stderr",
     "output_type": "stream",
     "text": [
      "EPOCH:  50%|█████     | 1/2 [00:11<00:11, 11.42s/it]"
     ]
    },
    {
     "name": "stdout",
     "output_type": "stream",
     "text": [
      "Experiment: E1_1_1_epoch_1 Results, Type: E_1_1\n",
      "(ORG)E1_1_1_epoch_1 E_1_1 CORRECT TL ORACLE: 38965\n",
      "(ORG)E1_1_1_epoch_1 E_1_1 CORRECT SL ORACLE: 650\n",
      "(ORG)E1_1_1_epoch_1 E_1_1 TOTAL TL ORACLE: 59620\n",
      "(ORG)E1_1_1_epoch_1 E_1_1 TOTAL SL ORACLE: 4182\n",
      "(ORG)E1_1_1_epoch_1 E_1_1 ACC TL ORACLE: 0.6535558700561523\n",
      "(ORG)E1_1_1_epoch_1 E_1_1 ACC SL ORACLE: 0.15542802214622498\n",
      "(ORG)E1_1_1_epoch_1 E_1_1 ERR TL ORACLE: 0.34644415974617004\n",
      "(ORG)E1_1_1_epoch_1 E_1_1 ERR SL ORACLE: 0.8445720076560974\n",
      "(ORG)E1_1_1_epoch_1 E_1_1 CORRECT TL NO_ORACLE: 38210\n",
      "(ORG)E1_1_1_epoch_1 E_1_1 CORRECT SL NO_ORACLE: 577\n",
      "(ORG)E1_1_1_epoch_1 E_1_1 TOTAL TL NO_ORACLE: 59620\n",
      "(ORG)E1_1_1_epoch_1 E_1_1 TOTAL SL NO_ORACLE: 4182\n",
      "(ORG)E1_1_1_epoch_1 E_1_1 ACC TL NO_ORACLE: 0.6408923268318176\n",
      "(ORG)E1_1_1_epoch_1 E_1_1 ACC SL NO_ORACLE: 0.13797226548194885\n",
      "(ORG)E1_1_1_epoch_1 E_1_1 ERR TL NO_ORACLE: 0.3591076731681824\n",
      "(ORG)E1_1_1_epoch_1 E_1_1 ERR SL NO_ORACLE: 0.8620277643203735\n",
      "Epoch 2/2 Batch 524/524 Trining Loss: 49.92457827925682\n"
     ]
    },
    {
     "name": "stderr",
     "output_type": "stream",
     "text": [
      "EPOCH: 100%|██████████| 2/2 [00:21<00:00, 10.98s/it]"
     ]
    },
    {
     "name": "stdout",
     "output_type": "stream",
     "text": [
      "Experiment: E1_1_1_epoch_2 Results, Type: E_1_1\n",
      "(ORG)E1_1_1_epoch_2 E_1_1 CORRECT TL ORACLE: 56657\n",
      "(ORG)E1_1_1_epoch_2 E_1_1 CORRECT SL ORACLE: 3359\n",
      "(ORG)E1_1_1_epoch_2 E_1_1 TOTAL TL ORACLE: 59620\n",
      "(ORG)E1_1_1_epoch_2 E_1_1 TOTAL SL ORACLE: 4182\n",
      "(ORG)E1_1_1_epoch_2 E_1_1 ACC TL ORACLE: 0.9503018856048584\n",
      "(ORG)E1_1_1_epoch_2 E_1_1 ACC SL ORACLE: 0.8032042384147644\n",
      "(ORG)E1_1_1_epoch_2 E_1_1 ERR TL ORACLE: 0.04969808831810951\n",
      "(ORG)E1_1_1_epoch_2 E_1_1 ERR SL ORACLE: 0.19679579138755798\n",
      "(ORG)E1_1_1_epoch_2 E_1_1 CORRECT TL NO_ORACLE: 56276\n",
      "(ORG)E1_1_1_epoch_2 E_1_1 CORRECT SL NO_ORACLE: 3236\n",
      "(ORG)E1_1_1_epoch_2 E_1_1 TOTAL TL NO_ORACLE: 59620\n",
      "(ORG)E1_1_1_epoch_2 E_1_1 TOTAL SL NO_ORACLE: 4182\n",
      "(ORG)E1_1_1_epoch_2 E_1_1 ACC TL NO_ORACLE: 0.9439114332199097\n",
      "(ORG)E1_1_1_epoch_2 E_1_1 ACC SL NO_ORACLE: 0.7737924456596375\n",
      "(ORG)E1_1_1_epoch_2 E_1_1 ERR TL NO_ORACLE: 0.056088559329509735\n",
      "(ORG)E1_1_1_epoch_2 E_1_1 ERR SL NO_ORACLE: 0.22620755434036255\n",
      "Training finished for experiment:  E_1_1\n",
      "The following file will be overwritten: saved_data/eval_results/E1_1_1.data\n",
      "Evaluation results will be saved at:  saved_data/eval_results/E1_1_1.data\n"
     ]
    },
    {
     "name": "stderr",
     "output_type": "stream",
     "text": [
      "\n"
     ]
    }
   ],
   "source": [
    "Exp.run()\n",
    "Exp.save_results(overwrite=True)"
   ]
  },
  {
   "cell_type": "code",
   "execution_count": 57,
   "metadata": {},
   "outputs": [],
   "source": [
    "import matplotlib.pyplot as plt\n",
    "from experiments.metric import MetricTemplate,OracleFlag,MetricType,MetricFlag\n",
    "from experiments.evaluation_result import EvaluationResult\n",
    "from experiments.evaluation_result_container import EvaluationResultContainer\n",
    "import numpy as np\n",
    "from scipy.interpolate import interp1d\n",
    "\n",
    "def plot_bar_scalar_across_experiments(ax, scalar_temp:MetricTemplate, container:EvaluationResultContainer, title=None):\n",
    "    metrics = container.get_data(scalar_temp)\n",
    "    ax.bar(range(len(metrics)), [m.val for m in metrics], align='center',tick_label=[m.e_name for m in metrics])\n",
    "    if title:\n",
    "        ax.set_title(title)\n",
    "    ax.set_ylabel(scalar_temp.m_types[0].name)\n",
    "    ax.set_xlabel(\"Experiment\")\n",
    "    return ax\n",
    "\n",
    "def plot_bar_array_inter_experiment(ax, scalar_temp:MetricTemplate, result: EvaluationResult, title=None):\n",
    "    metric = result.get_data(scalar_temp)[0]\n",
    "    arr = metric.val\n",
    "    #ax.bar(range(len(arr)),arr , align='center')\n",
    "    # Define x, y, and xnew to resample at.\n",
    "    x = np.linspace(0, arr.shape[0],num=arr.shape[0] ,endpoint=True)\n",
    "    y = arr\n",
    "    xnew = np.linspace(0, arr.shape[0],  endpoint=True)\n",
    "\n",
    "    # Define interpolators.\n",
    "    f_linear = np.interp(xnew, x, y)\n",
    "    f_cubic = interp1d(x, y, kind='cubic')\n",
    "\n",
    "    ax.plot(xnew, f_cubic(xnew), label='linear')\n",
    "    ax.plot(xnew, f_linear(xnew), label='cubic')\n",
    "    #ax.plot(range(len(arr)),arr)\n",
    "    if title:\n",
    "        ax.set_title(title)\n",
    "    ax.set_ylabel(scalar_temp.m_types[0].name)\n",
    "    ax.set_xlabel(\"Length\")\n",
    "    return ax"
   ]
  },
  {
   "cell_type": "code",
   "execution_count": 5,
   "metadata": {},
   "outputs": [
    {
     "name": "stdout",
     "output_type": "stream",
     "text": [
      "<class 'experiments.evaluation_result_container.EvaluationResultContainer'>\n",
      "<class 'experiments.evaluation_result_container.EvaluationResultContainer'>\n"
     ]
    },
    {
     "data": {
      "text/plain": [
       "Experiment Results Container: ['E1_1_1_epoch_1', 'E1_1_1_epoch_2']"
      ]
     },
     "execution_count": 5,
     "metadata": {},
     "output_type": "execute_result"
    }
   ],
   "source": [
    "\n",
    "import pickle as pkl\n",
    "\n",
    "with open(file = \"saved_data/eval_results/E1_1_1.data\", mode = \"rb\") as f:\n",
    "    e1:EvaluationResult = pkl.load(file = f)\n",
    "    f.close()\n",
    "\n",
    "with open(file = \"saved_data/eval_results/E1_1_1.data\", mode = \"rb\") as f:\n",
    "    e2:EvaluationResult = pkl.load(file = f)\n",
    "    f.close()\n",
    "\n",
    "print(type(e1))\n",
    "print(type(e2))\n",
    "\n",
    "e1"
   ]
  },
  {
   "cell_type": "code",
   "execution_count": 6,
   "metadata": {},
   "outputs": [
    {
     "name": "stdout",
     "output_type": "stream",
     "text": [
      "E_1_1\n",
      "E_1_1\n",
      "E_1_1\n",
      "E_1_1\n",
      "Experiment Results Container: ['E1_1_1_epoch_1', 'E1_1_1_epoch_2']\n"
     ]
    }
   ],
   "source": [
    "e_container = EvaluationResultContainer([e1,e2])\n",
    "for r in e_container.results:\n",
    "    print(r.experiment_type)\n",
    "\n",
    "part = e_container[0:2]\n",
    "print(part)\n"
   ]
  },
  {
   "cell_type": "code",
   "execution_count": 7,
   "metadata": {},
   "outputs": [
    {
     "name": "stdout",
     "output_type": "stream",
     "text": [
      "<class 'experiments.evaluation_result.EvaluationResult'>\n"
     ]
    },
    {
     "data": {
      "text/plain": [
       "Experiment: E1_1_1_epoch_Z[Z] Results, Type: E_1_1"
      ]
     },
     "execution_count": 7,
     "metadata": {},
     "output_type": "execute_result"
    }
   ],
   "source": [
    "import numpy as np\n",
    "avrg_result = np.mean(e_container)\n",
    "\n",
    "#avrg_result = np.mean([avrg_result,avrg_result])\n",
    "#avrg_result = np.mean([avrg_result,avrg_result])\n",
    "avrg_result += avrg_result\n",
    "avrg_result -= avrg_result\n",
    "avrg_result = np.mean([avrg_result,avrg_result])\n",
    "#avrg_result += 2\n",
    "#avrg_result /= 2\n",
    "\n",
    "\n",
    "print(type(avrg_result))\n",
    "avrg_result"
   ]
  },
  {
   "cell_type": "code",
   "execution_count": 8,
   "metadata": {},
   "outputs": [
    {
     "name": "stdout",
     "output_type": "stream",
     "text": [
      "Experiment: E1_1_1_epoch_Z[Z] Results, Type: E_1_1\n",
      "(MUL)E1_1_1_epoch_Z[Z] E_1_1 CORRECT TL ORACLE: 2207640005\n",
      "(MUL)E1_1_1_epoch_Z[Z] E_1_1 CORRECT SL ORACLE: 2183350\n",
      "(MUL)E1_1_1_epoch_Z[Z] E_1_1 TOTAL TL ORACLE: 3554544400\n",
      "(MUL)E1_1_1_epoch_Z[Z] E_1_1 TOTAL SL ORACLE: 17489124\n",
      "(MUL)E1_1_1_epoch_Z[Z] E_1_1 ACC TL ORACLE: 0.6210753756624854\n",
      "(MUL)E1_1_1_epoch_Z[Z] E_1_1 ACC SL ORACLE: 0.12484044615627177\n",
      "(MUL)E1_1_1_epoch_Z[Z] E_1_1 ERR TL ORACLE: 0.0172176124483584\n",
      "(MUL)E1_1_1_epoch_Z[Z] E_1_1 ERR SL ORACLE: 0.16620821663046037\n",
      "(MUL)E1_1_1_epoch_Z[Z] E_1_1 CORRECT TL NO_ORACLE: 2150305960\n",
      "(MUL)E1_1_1_epoch_Z[Z] E_1_1 CORRECT SL NO_ORACLE: 1867172\n",
      "(MUL)E1_1_1_epoch_Z[Z] E_1_1 TOTAL TL NO_ORACLE: 3554544400\n",
      "(MUL)E1_1_1_epoch_Z[Z] E_1_1 TOTAL SL NO_ORACLE: 17489124\n",
      "(MUL)E1_1_1_epoch_Z[Z] E_1_1 ACC TL NO_ORACLE: 0.6049455947594637\n",
      "(MUL)E1_1_1_epoch_Z[Z] E_1_1 ACC SL NO_ORACLE: 0.10676189674047798\n",
      "(MUL)E1_1_1_epoch_Z[Z] E_1_1 ERR TL NO_ORACLE: 0.020141832032175788\n",
      "(MUL)E1_1_1_epoch_Z[Z] E_1_1 ERR SL NO_ORACLE: 0.19499719234040214\n"
     ]
    }
   ],
   "source": [
    "a = e_container[0] * e_container[1]\n",
    "a.print(scalars_only=True)"
   ]
  },
  {
   "cell_type": "code",
   "execution_count": 9,
   "metadata": {},
   "outputs": [
    {
     "name": "stdout",
     "output_type": "stream",
     "text": [
      "[(DIV,ADD,SUB,ADD,DIV,ADD,Z)E1_1_1_epoch_Y[ZY] E_1_1 ACC TL ORACLE: 0.0]\n"
     ]
    },
    {
     "data": {
      "text/plain": [
       "Experiment: E1_1_1_epoch_Z[Z] Results, Type: E_1_1"
      ]
     },
     "execution_count": 9,
     "metadata": {},
     "output_type": "execute_result"
    }
   ],
   "source": [
    "acc_tl = MetricTemplate(o_flags=[OracleFlag.ORACLE], m_types=[MetricType.ACC], m_flags=[MetricFlag.TL])\n",
    "print(avrg_result.get_data(acc_tl))\n",
    "\n",
    "# acc_slol_tl = MetricTemplate(o_flags=[OracleFlag.ORACLE], m_types=[MetricType.ACC], m_flags=[MetricFlag.TLOL])\n",
    "# print(e1.get_data(acc_slol_tl))\n",
    "# print(e2.get_data(acc_slol_tl))\n",
    "# print(avrg_result.get_data(acc_slol_tl)[0])\n",
    "\n",
    "avrg_result\n"
   ]
  },
  {
   "cell_type": "code",
   "execution_count": 58,
   "metadata": {},
   "outputs": [
    {
     "ename": "TypeError",
     "evalue": "'numpy.ndarray' object is not callable",
     "output_type": "error",
     "traceback": [
      "\u001b[1;31m---------------------------------------------------------------------------\u001b[0m",
      "\u001b[1;31mTypeError\u001b[0m                                 Traceback (most recent call last)",
      "Cell \u001b[1;32mIn[58], line 3\u001b[0m\n\u001b[0;32m      1\u001b[0m fig,ax \u001b[38;5;241m=\u001b[39m plt\u001b[38;5;241m.\u001b[39msubplots(\u001b[38;5;241m1\u001b[39m,\u001b[38;5;241m2\u001b[39m)\n\u001b[0;32m      2\u001b[0m acc_slol_tl \u001b[38;5;241m=\u001b[39m MetricTemplate(o_flags\u001b[38;5;241m=\u001b[39m[OracleFlag\u001b[38;5;241m.\u001b[39mORACLE], m_types\u001b[38;5;241m=\u001b[39m[MetricType\u001b[38;5;241m.\u001b[39mTOTAL], m_flags\u001b[38;5;241m=\u001b[39m[MetricFlag\u001b[38;5;241m.\u001b[39mSLOL])\n\u001b[1;32m----> 3\u001b[0m \u001b[43mplot_bar_array_inter_experiment\u001b[49m\u001b[43m(\u001b[49m\u001b[43max\u001b[49m\u001b[43m[\u001b[49m\u001b[38;5;241;43m0\u001b[39;49m\u001b[43m]\u001b[49m\u001b[43m,\u001b[49m\u001b[43m \u001b[49m\u001b[43macc_slol_tl\u001b[49m\u001b[43m,\u001b[49m\u001b[43m \u001b[49m\u001b[43me_container\u001b[49m\u001b[43m,\u001b[49m\u001b[43m \u001b[49m\u001b[38;5;124;43m\"\u001b[39;49m\u001b[38;5;124;43mAccuracy\u001b[39;49m\u001b[38;5;124;43m\"\u001b[39;49m\u001b[43m)\u001b[49m\n\u001b[0;32m      6\u001b[0m acc_tl \u001b[38;5;241m=\u001b[39m MetricTemplate(o_flags\u001b[38;5;241m=\u001b[39m[OracleFlag\u001b[38;5;241m.\u001b[39mORACLE], m_types\u001b[38;5;241m=\u001b[39m[MetricType\u001b[38;5;241m.\u001b[39mACC], m_flags\u001b[38;5;241m=\u001b[39m[MetricFlag\u001b[38;5;241m.\u001b[39mTL])\n\u001b[0;32m      7\u001b[0m plot_bar_scalar_across_experiments(ax[\u001b[38;5;241m1\u001b[39m], acc_tl, e_container, \u001b[38;5;124m\"\u001b[39m\u001b[38;5;124mAccuracy\u001b[39m\u001b[38;5;124m\"\u001b[39m)\n",
      "Cell \u001b[1;32mIn[57], line 31\u001b[0m, in \u001b[0;36mplot_bar_array_inter_experiment\u001b[1;34m(ax, scalar_temp, result, title)\u001b[0m\n\u001b[0;32m     28\u001b[0m f_cubic \u001b[38;5;241m=\u001b[39m interp1d(x, y, kind\u001b[38;5;241m=\u001b[39m\u001b[38;5;124m'\u001b[39m\u001b[38;5;124mcubic\u001b[39m\u001b[38;5;124m'\u001b[39m)\n\u001b[0;32m     30\u001b[0m ax\u001b[38;5;241m.\u001b[39mplot(xnew, f_cubic(xnew), label\u001b[38;5;241m=\u001b[39m\u001b[38;5;124m'\u001b[39m\u001b[38;5;124mlinear\u001b[39m\u001b[38;5;124m'\u001b[39m)\n\u001b[1;32m---> 31\u001b[0m ax\u001b[38;5;241m.\u001b[39mplot(xnew, \u001b[43mf_linear\u001b[49m\u001b[43m(\u001b[49m\u001b[43mxnew\u001b[49m\u001b[43m)\u001b[49m, label\u001b[38;5;241m=\u001b[39m\u001b[38;5;124m'\u001b[39m\u001b[38;5;124mcubic\u001b[39m\u001b[38;5;124m'\u001b[39m)\n\u001b[0;32m     32\u001b[0m \u001b[38;5;66;03m#ax.plot(range(len(arr)),arr)\u001b[39;00m\n\u001b[0;32m     33\u001b[0m \u001b[38;5;28;01mif\u001b[39;00m title:\n",
      "\u001b[1;31mTypeError\u001b[0m: 'numpy.ndarray' object is not callable"
     ]
    },
    {
     "data": {
      "image/png": "[encoded data removed]",
      "text/plain": [
       "<Figure size 640x480 with 2 Axes>"
      ]
     },
     "metadata": {},
     "output_type": "display_data"
    }
   ],
   "source": [
    "fig,ax = plt.subplots(1,2)\n",
    "acc_slol_tl = MetricTemplate(o_flags=[OracleFlag.ORACLE], m_types=[MetricType.TOTAL], m_flags=[MetricFlag.SLOL])\n",
    "plot_bar_array_inter_experiment(ax[0], acc_slol_tl, e_container, \"Accuracy\")\n",
    "\n",
    "\n",
    "acc_tl = MetricTemplate(o_flags=[OracleFlag.ORACLE], m_types=[MetricType.ACC], m_flags=[MetricFlag.TL])\n",
    "plot_bar_scalar_across_experiments(ax[1], acc_tl, e_container, \"Accuracy\")\n",
    "plt.show()"
   ]
  }
 ],
 "metadata": {
  "kernelspec": {
   "display_name": "Python 3",
   "language": "python",
   "name": "python3"
  },
  "language_info": {
   "codemirror_mode": {
    "name": "ipython",
    "version": 3
   },
   "file_extension": ".py",
   "mimetype": "text/x-python",
   "name": "python",
   "nbconvert_exporter": "python",
   "pygments_lexer": "ipython3",
   "version": "3.10.8"
  }
 },
 "nbformat": 4,
 "nbformat_minor": 2
}
