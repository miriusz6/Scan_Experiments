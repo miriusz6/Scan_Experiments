{
 "cells": [
  {
   "cell_type": "code",
   "execution_count": 6,
   "metadata": {},
   "outputs": [],
   "source": [
    "from experiments.experiment_type import ExperimentType, get_experiments_in_group, get_config,get_common_experiment_group\n",
    "from experiments.experiment_config import ExperimentConfig\n",
    "from experiments.experiment import Experiment\n",
    "\n",
    "\n",
    "def run_experiment_group(experiment_group):\n",
    "    group:list[ExperimentType] = get_experiments_in_group(experiment_group)\n",
    "    conf:ExperimentConfig = get_config(group[0])\n",
    "    conf.evaluation_interval = conf.epochs\n",
    "    conf.train_model = True\n",
    "    conf.use_tensorboard = True\n",
    "    conf.use_tensorboard = True\n",
    "    conf.detailed_logging = False\n",
    "\n",
    "    for exp in group:\n",
    "        conf.experiment_name = exp.name\n",
    "        Exp = Experiment(experiment_type= exp, config=conf)\n",
    "        Exp.run()\n",
    "        Exp.save_results(overwrite=True)\n",
    "\n"
   ]
  },
  {
   "cell_type": "code",
   "execution_count": 10,
   "metadata": {},
   "outputs": [],
   "source": [
    "\n",
    "import os\n",
    "def verify_p(ex_type):\n",
    "    ps = ex_type.get_data_paths()\n",
    "    test = ps[\"test\"]\n",
    "    train = ps[\"train\"]\n",
    "    print(os.path.exists(test))\n",
    "    print(os.path.exists(train))"
   ]
  },
  {
   "cell_type": "code",
   "execution_count": 13,
   "metadata": {},
   "outputs": [
    {
     "data": {
      "text/plain": [
       "30"
      ]
     },
     "execution_count": 13,
     "metadata": {},
     "output_type": "execute_result"
    }
   ],
   "source": [
    "g = get_experiments_in_group(\"3_3\")\n",
    "len(g)"
   ]
  }
 ],
 "metadata": {
  "language_info": {
   "name": "python"
  }
 },
 "nbformat": 4,
 "nbformat_minor": 2
}
