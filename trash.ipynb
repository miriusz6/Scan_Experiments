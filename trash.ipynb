{
 "cells": [
  {
   "cell_type": "code",
   "execution_count": 65,
   "metadata": {},
   "outputs": [],
   "source": [
    "from experiments.evaluation_result_container import EvaluationResultContainer, EvaluationResult\n",
    "import json\n",
    "from visualization import mk_fig\n",
    "import re\n",
    "from experiments.evaluation_statistics import aggregate_by_exp_type\n",
    "from visualization import prepare_scalars_for_plot\n",
    "from experiments.metric import MetricTemplate,Flags\n",
    "import matplotlib.pyplot as plt"
   ]
  },
  {
   "cell_type": "markdown",
   "metadata": {},
   "source": [
    "Cross Exp scalar visual"
   ]
  },
  {
   "cell_type": "code",
   "execution_count": 23,
   "metadata": {},
   "outputs": [],
   "source": [
    "with open(f\"saved_data/eval_results/merged/E1.json\", \"r\") as f:\n",
    "    res_d = json.load(f)\n",
    "    E1 = EvaluationResultContainer.from_dict(res_d)"
   ]
  },
  {
   "cell_type": "code",
   "execution_count": 26,
   "metadata": {},
   "outputs": [
    {
     "data": {
      "text/plain": [
       "Experiment Results Container:\n",
       "Experiment: E1_1_rep_Y_epoch_25[Y] Results, Type: E_1_1\n",
       "Experiment: E_1_2_1Y_epoch_25[Y] Results, Type: E_1_2_1\n",
       "Experiment: E_1_2_2Y_epoch_25[Y] Results, Type: E_1_2_2\n",
       "Experiment: E_1_2_4Y_epoch_25[Y] Results, Type: E_1_2_4\n",
       "Experiment: E_1_2_8Y_epoch_25[Y] Results, Type: E_1_2_8\n",
       "Experiment: E_1_2_16Y_epoch_25[Y] Results, Type: E_1_2_16\n",
       "Experiment: E_1_2_32Y_epoch_25[Y] Results, Type: E_1_2_32\n",
       "Experiment: E_1_2_64Y_epoch_25[Y] Results, Type: E_1_2_64"
      ]
     },
     "execution_count": 26,
     "metadata": {},
     "output_type": "execute_result"
    }
   ],
   "source": [
    "E1_1 = aggregate_by_exp_type(E1_1)"
   ]
  }
 ],
 "metadata": {
  "kernelspec": {
   "display_name": "Python 3",
   "language": "python",
   "name": "python3"
  },
  "language_info": {
   "codemirror_mode": {
    "name": "ipython",
    "version": 3
   },
   "file_extension": ".py",
   "mimetype": "text/x-python",
   "name": "python",
   "nbconvert_exporter": "python",
   "pygments_lexer": "ipython3",
   "version": "3.10.8"
  }
 },
 "nbformat": 4,
 "nbformat_minor": 2
}
